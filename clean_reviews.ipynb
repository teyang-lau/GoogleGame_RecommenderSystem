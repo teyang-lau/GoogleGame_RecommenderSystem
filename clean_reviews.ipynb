{
 "metadata": {
  "language_info": {
   "codemirror_mode": {
    "name": "ipython",
    "version": 3
   },
   "file_extension": ".py",
   "mimetype": "text/x-python",
   "name": "python",
   "nbconvert_exporter": "python",
   "pygments_lexer": "ipython3",
   "version": "3.7.4-final"
  },
  "orig_nbformat": 2,
  "kernelspec": {
   "name": "python3",
   "display_name": "Python 3",
   "language": "python"
  }
 },
 "nbformat": 4,
 "nbformat_minor": 2,
 "cells": [
  {
   "cell_type": "code",
   "execution_count": 1,
   "metadata": {},
   "outputs": [],
   "source": [
    "import pandas as pd \n",
    "import numpy as np "
   ]
  },
  {
   "cell_type": "code",
   "execution_count": 2,
   "metadata": {},
   "outputs": [],
   "source": [
    "# reviews1 = pd.read_csv('C:/Users/TeYan/Downloads/reviews1.csv')\n",
    "# reviews2 = pd.read_csv('C:/Users/TeYan/Downloads/reviews2.csv')\n",
    "# reviews = pd.concat([reviews1, reviews2])\n",
    "reviews = pd.read_csv('reviews.csv')"
   ]
  },
  {
   "cell_type": "code",
   "execution_count": 99,
   "metadata": {},
   "outputs": [
    {
     "output_type": "execute_result",
     "data": {
      "text/plain": [
       "                                             content  score          at  \\\n",
       "0  You can't start a new game asking for a fee. Y...      1  2020-12-24   \n",
       "1  Very very worst game. Fake ads in YouTube I do...      1  2021-02-06   \n",
       "2  One of the worse game i have ever played. Lots...      1  2021-01-23   \n",
       "3  Fake ads on youtube never install this fake ga...      1  2021-01-30   \n",
       "4  This game creators put fake ad and in you tube...      1  2021-02-11   \n",
       "\n",
       "                                appId    userID  \n",
       "0          com.happeningnow.yatusabes  11378168  \n",
       "1  com.perfect.soccer.kick.far.strike  10520813  \n",
       "2  com.perfect.soccer.kick.far.strike  17879553  \n",
       "3  com.perfect.soccer.kick.far.strike  13216009  \n",
       "4  com.perfect.soccer.kick.far.strike   2927923  "
      ],
      "text/html": "<div>\n<style scoped>\n    .dataframe tbody tr th:only-of-type {\n        vertical-align: middle;\n    }\n\n    .dataframe tbody tr th {\n        vertical-align: top;\n    }\n\n    .dataframe thead th {\n        text-align: right;\n    }\n</style>\n<table border=\"1\" class=\"dataframe\">\n  <thead>\n    <tr style=\"text-align: right;\">\n      <th></th>\n      <th>content</th>\n      <th>score</th>\n      <th>at</th>\n      <th>appId</th>\n      <th>userID</th>\n    </tr>\n  </thead>\n  <tbody>\n    <tr>\n      <th>0</th>\n      <td>You can't start a new game asking for a fee. Y...</td>\n      <td>1</td>\n      <td>2020-12-24</td>\n      <td>com.happeningnow.yatusabes</td>\n      <td>11378168</td>\n    </tr>\n    <tr>\n      <th>1</th>\n      <td>Very very worst game. Fake ads in YouTube I do...</td>\n      <td>1</td>\n      <td>2021-02-06</td>\n      <td>com.perfect.soccer.kick.far.strike</td>\n      <td>10520813</td>\n    </tr>\n    <tr>\n      <th>2</th>\n      <td>One of the worse game i have ever played. Lots...</td>\n      <td>1</td>\n      <td>2021-01-23</td>\n      <td>com.perfect.soccer.kick.far.strike</td>\n      <td>17879553</td>\n    </tr>\n    <tr>\n      <th>3</th>\n      <td>Fake ads on youtube never install this fake ga...</td>\n      <td>1</td>\n      <td>2021-01-30</td>\n      <td>com.perfect.soccer.kick.far.strike</td>\n      <td>13216009</td>\n    </tr>\n    <tr>\n      <th>4</th>\n      <td>This game creators put fake ad and in you tube...</td>\n      <td>1</td>\n      <td>2021-02-11</td>\n      <td>com.perfect.soccer.kick.far.strike</td>\n      <td>2927923</td>\n    </tr>\n  </tbody>\n</table>\n</div>"
     },
     "metadata": {},
     "execution_count": 99
    }
   ],
   "source": [
    "reviews.head()"
   ]
  },
  {
   "cell_type": "code",
   "execution_count": 4,
   "metadata": {},
   "outputs": [
    {
     "output_type": "execute_result",
     "data": {
      "text/plain": [
       "26011823"
      ]
     },
     "metadata": {},
     "execution_count": 4
    }
   ],
   "source": [
    "len(reviews)"
   ]
  },
  {
   "cell_type": "code",
   "execution_count": 100,
   "metadata": {},
   "outputs": [
    {
     "output_type": "execute_result",
     "data": {
      "text/plain": [
       "Int64Index([14539619, 11174495, 14236799,  7951560,  9654871,   940276,\n",
       "             7830221,  2011247, 15530304, 10035294,\n",
       "            ...\n",
       "             7257451, 15461876,  4741562, 13272015, 17954559,  5846215,\n",
       "            15471189, 17197173,  8359534, 10421709],\n",
       "           dtype='int64', name='userID', length=451361)"
      ]
     },
     "metadata": {},
     "execution_count": 100
    }
   ],
   "source": [
    "counts = reviews.value_counts('userID')\n",
    "counts = counts[counts >= 5]\n",
    "counts.index"
   ]
  },
  {
   "cell_type": "code",
   "execution_count": 101,
   "metadata": {},
   "outputs": [
    {
     "output_type": "execute_result",
     "data": {
      "text/plain": [
       "                                              content  score          at  \\\n",
       "25                                   I love this game      5  2021-02-09   \n",
       "39                                       This is scam      1  2021-01-12   \n",
       "42  I really enjoy scrabble. I started playing thi...      2  2021-02-06   \n",
       "47  Word Wars is a decent game as far as the game ...      1  2021-02-08   \n",
       "51  Like the game, much prefer it to Scrabble Go, ...      4  2021-02-01   \n",
       "\n",
       "                                           appId    userID  \n",
       "25            com.perfect.soccer.kick.far.strike   2427064  \n",
       "39  com.wobbly.funnygame.ragdolls.life.adventure  17006312  \n",
       "42                      com.littleengine.wordpal   7472899  \n",
       "47                      com.littleengine.wordpal  10685032  \n",
       "51                      com.littleengine.wordpal  15506477  "
      ],
      "text/html": "<div>\n<style scoped>\n    .dataframe tbody tr th:only-of-type {\n        vertical-align: middle;\n    }\n\n    .dataframe tbody tr th {\n        vertical-align: top;\n    }\n\n    .dataframe thead th {\n        text-align: right;\n    }\n</style>\n<table border=\"1\" class=\"dataframe\">\n  <thead>\n    <tr style=\"text-align: right;\">\n      <th></th>\n      <th>content</th>\n      <th>score</th>\n      <th>at</th>\n      <th>appId</th>\n      <th>userID</th>\n    </tr>\n  </thead>\n  <tbody>\n    <tr>\n      <th>25</th>\n      <td>I love this game</td>\n      <td>5</td>\n      <td>2021-02-09</td>\n      <td>com.perfect.soccer.kick.far.strike</td>\n      <td>2427064</td>\n    </tr>\n    <tr>\n      <th>39</th>\n      <td>This is scam</td>\n      <td>1</td>\n      <td>2021-01-12</td>\n      <td>com.wobbly.funnygame.ragdolls.life.adventure</td>\n      <td>17006312</td>\n    </tr>\n    <tr>\n      <th>42</th>\n      <td>I really enjoy scrabble. I started playing thi...</td>\n      <td>2</td>\n      <td>2021-02-06</td>\n      <td>com.littleengine.wordpal</td>\n      <td>7472899</td>\n    </tr>\n    <tr>\n      <th>47</th>\n      <td>Word Wars is a decent game as far as the game ...</td>\n      <td>1</td>\n      <td>2021-02-08</td>\n      <td>com.littleengine.wordpal</td>\n      <td>10685032</td>\n    </tr>\n    <tr>\n      <th>51</th>\n      <td>Like the game, much prefer it to Scrabble Go, ...</td>\n      <td>4</td>\n      <td>2021-02-01</td>\n      <td>com.littleengine.wordpal</td>\n      <td>15506477</td>\n    </tr>\n  </tbody>\n</table>\n</div>"
     },
     "metadata": {},
     "execution_count": 101
    }
   ],
   "source": [
    "reviews_clean = reviews[reviews['userID'].isin(counts.index)]\n",
    "reviews_clean.head()"
   ]
  },
  {
   "cell_type": "code",
   "execution_count": 102,
   "metadata": {},
   "outputs": [],
   "source": [
    "reviews_clean.userID = reviews_clean.userID.astype('category').cat.codes"
   ]
  },
  {
   "cell_type": "code",
   "execution_count": 104,
   "metadata": {},
   "outputs": [
    {
     "output_type": "execute_result",
     "data": {
      "text/plain": [
       "                                                    content  score  \\\n",
       "25                                         I love this game      5   \n",
       "39                                             This is scam      1   \n",
       "42        I really enjoy scrabble. I started playing thi...      2   \n",
       "47        Word Wars is a decent game as far as the game ...      1   \n",
       "51        Like the game, much prefer it to Scrabble Go, ...      4   \n",
       "...                                                     ...    ...   \n",
       "26011817                                        Very boring      2   \n",
       "26011818                                           It's fun      5   \n",
       "26011819                                           It's fun      5   \n",
       "26011821                                      🙂🙃😉😊😏🤠😽بدنبوو      4   \n",
       "26011822                                              Great      5   \n",
       "\n",
       "                  at                                         appId  userID  \n",
       "25        2021-02-09            com.perfect.soccer.kick.far.strike   54085  \n",
       "39        2021-01-12  com.wobbly.funnygame.ragdolls.life.adventure  418782  \n",
       "42        2021-02-06                      com.littleengine.wordpal  165935  \n",
       "47        2021-02-08                      com.littleengine.wordpal  244295  \n",
       "51        2021-02-01                      com.littleengine.wordpal  377331  \n",
       "...              ...                                           ...     ...  \n",
       "26011817  2021-01-17                                com.zjoy.fairy  327556  \n",
       "26011818  2021-01-29                                com.zjoy.fairy  388404  \n",
       "26011819  2021-01-14                                com.zjoy.fairy  189571  \n",
       "26011821  2021-02-12                                com.zjoy.fairy  179394  \n",
       "26011822  2021-01-12                                com.zjoy.fairy  103208  \n",
       "\n",
       "[3451275 rows x 5 columns]"
      ],
      "text/html": "<div>\n<style scoped>\n    .dataframe tbody tr th:only-of-type {\n        vertical-align: middle;\n    }\n\n    .dataframe tbody tr th {\n        vertical-align: top;\n    }\n\n    .dataframe thead th {\n        text-align: right;\n    }\n</style>\n<table border=\"1\" class=\"dataframe\">\n  <thead>\n    <tr style=\"text-align: right;\">\n      <th></th>\n      <th>content</th>\n      <th>score</th>\n      <th>at</th>\n      <th>appId</th>\n      <th>userID</th>\n    </tr>\n  </thead>\n  <tbody>\n    <tr>\n      <th>25</th>\n      <td>I love this game</td>\n      <td>5</td>\n      <td>2021-02-09</td>\n      <td>com.perfect.soccer.kick.far.strike</td>\n      <td>54085</td>\n    </tr>\n    <tr>\n      <th>39</th>\n      <td>This is scam</td>\n      <td>1</td>\n      <td>2021-01-12</td>\n      <td>com.wobbly.funnygame.ragdolls.life.adventure</td>\n      <td>418782</td>\n    </tr>\n    <tr>\n      <th>42</th>\n      <td>I really enjoy scrabble. I started playing thi...</td>\n      <td>2</td>\n      <td>2021-02-06</td>\n      <td>com.littleengine.wordpal</td>\n      <td>165935</td>\n    </tr>\n    <tr>\n      <th>47</th>\n      <td>Word Wars is a decent game as far as the game ...</td>\n      <td>1</td>\n      <td>2021-02-08</td>\n      <td>com.littleengine.wordpal</td>\n      <td>244295</td>\n    </tr>\n    <tr>\n      <th>51</th>\n      <td>Like the game, much prefer it to Scrabble Go, ...</td>\n      <td>4</td>\n      <td>2021-02-01</td>\n      <td>com.littleengine.wordpal</td>\n      <td>377331</td>\n    </tr>\n    <tr>\n      <th>...</th>\n      <td>...</td>\n      <td>...</td>\n      <td>...</td>\n      <td>...</td>\n      <td>...</td>\n    </tr>\n    <tr>\n      <th>26011817</th>\n      <td>Very boring</td>\n      <td>2</td>\n      <td>2021-01-17</td>\n      <td>com.zjoy.fairy</td>\n      <td>327556</td>\n    </tr>\n    <tr>\n      <th>26011818</th>\n      <td>It's fun</td>\n      <td>5</td>\n      <td>2021-01-29</td>\n      <td>com.zjoy.fairy</td>\n      <td>388404</td>\n    </tr>\n    <tr>\n      <th>26011819</th>\n      <td>It's fun</td>\n      <td>5</td>\n      <td>2021-01-14</td>\n      <td>com.zjoy.fairy</td>\n      <td>189571</td>\n    </tr>\n    <tr>\n      <th>26011821</th>\n      <td>🙂🙃😉😊😏🤠😽بدنبوو</td>\n      <td>4</td>\n      <td>2021-02-12</td>\n      <td>com.zjoy.fairy</td>\n      <td>179394</td>\n    </tr>\n    <tr>\n      <th>26011822</th>\n      <td>Great</td>\n      <td>5</td>\n      <td>2021-01-12</td>\n      <td>com.zjoy.fairy</td>\n      <td>103208</td>\n    </tr>\n  </tbody>\n</table>\n<p>3451275 rows × 5 columns</p>\n</div>"
     },
     "metadata": {},
     "execution_count": 104
    }
   ],
   "source": [
    "reviews_clean"
   ]
  },
  {
   "cell_type": "code",
   "execution_count": 114,
   "metadata": {},
   "outputs": [
    {
     "output_type": "execute_result",
     "data": {
      "text/plain": [
       "appId\n",
       "com.mustardgames.muscle.car.stunts.mega.ramp.stunt.car.impossibletracks    5716\n",
       "com.mustardgames.topspeed.formulacar.racinggames                           5479\n",
       "com.jima.modern.tuktuk.auto.rickshaw.driving.game.simulator                5459\n",
       "com.mizo.robot.fps.shooting.game                                           5190\n",
       "com.jimaapps.city.coach.bus.simulator.driving                              5111\n",
       "                                                                           ... \n",
       "cygnus.blockwarimpostor.funnythingkingwar                                     1\n",
       "com.HappyTreeFriends.coloringbook                                             1\n",
       "com.ncm.noovietrivia                                                          1\n",
       "com.shareitxsenderfiletransfer02_cmfileshareit.tips02_app                     1\n",
       "com.XGenStudios.Fishy                                                         1\n",
       "Length: 6972, dtype: int64"
      ]
     },
     "metadata": {},
     "execution_count": 114
    }
   ],
   "source": [
    "reviews_clean.value_counts('appId')"
   ]
  },
  {
   "cell_type": "code",
   "execution_count": 105,
   "metadata": {},
   "outputs": [
    {
     "output_type": "execute_result",
     "data": {
      "text/plain": [
       "         userID                                              appId  \\\n",
       "0             0              com.volcano.city.airplane.pilotflight   \n",
       "1             0  com.flying.car.robot.transformation.extreme.ca...   \n",
       "2             0  com.gs.lightspeed.superhero.rescue.mission.doc...   \n",
       "3             0   com.mustardgames.topspeed.formulacar.racinggames   \n",
       "4             0  com.gf.extreme.gtracing.car.stunts.impossiblec...   \n",
       "...         ...                                                ...   \n",
       "3451270  451360                           com.timeplusq.drawnguess   \n",
       "3451271  451360                   com.bigfishgames.gummydropgoogle   \n",
       "3451272  451360                                 com.alegrium.cong2   \n",
       "3451273  451360                             com.crazylabs.lady.bug   \n",
       "3451274  451360     com.word.game.fun.puzzle.prison.escape.captain   \n",
       "\n",
       "                 at  score                                            content  \n",
       "0        2020-06-20      5  New airplane game is an absolutely amazing and...  \n",
       "1        2021-01-06      5  Flying car shooting game is an absolutely fant...  \n",
       "2        2020-10-08      5  Dr robot game is an absolutely fantastic and w...  \n",
       "3        2021-01-15      5  Formula car racing game is very well game I ha...  \n",
       "4        2020-11-16      5  Superhero gt racing car stunt game will be a g...  \n",
       "...             ...    ...                                                ...  \n",
       "3451270  2019-06-30      4  my only problem is that there is TO MANY ADDS....  \n",
       "3451271  2019-06-30      1  🤬🤬🤬🤬🤬🤬🤬🤬🤬🤬🤬🤬🤬🤬Thank you.i am angry (and a lil ...  \n",
       "3451272  2019-05-04      5  good for kids and parents to enjoy when want b...  \n",
       "3451273  2019-05-04      5  one protest:I wish when u get caught by stormy...  \n",
       "3451274  2019-04-19      1  THIS GAME IS A SCAM!!!!!!!!💔😪for all those who...  \n",
       "\n",
       "[3451275 rows x 5 columns]"
      ],
      "text/html": "<div>\n<style scoped>\n    .dataframe tbody tr th:only-of-type {\n        vertical-align: middle;\n    }\n\n    .dataframe tbody tr th {\n        vertical-align: top;\n    }\n\n    .dataframe thead th {\n        text-align: right;\n    }\n</style>\n<table border=\"1\" class=\"dataframe\">\n  <thead>\n    <tr style=\"text-align: right;\">\n      <th></th>\n      <th>userID</th>\n      <th>appId</th>\n      <th>at</th>\n      <th>score</th>\n      <th>content</th>\n    </tr>\n  </thead>\n  <tbody>\n    <tr>\n      <th>0</th>\n      <td>0</td>\n      <td>com.volcano.city.airplane.pilotflight</td>\n      <td>2020-06-20</td>\n      <td>5</td>\n      <td>New airplane game is an absolutely amazing and...</td>\n    </tr>\n    <tr>\n      <th>1</th>\n      <td>0</td>\n      <td>com.flying.car.robot.transformation.extreme.ca...</td>\n      <td>2021-01-06</td>\n      <td>5</td>\n      <td>Flying car shooting game is an absolutely fant...</td>\n    </tr>\n    <tr>\n      <th>2</th>\n      <td>0</td>\n      <td>com.gs.lightspeed.superhero.rescue.mission.doc...</td>\n      <td>2020-10-08</td>\n      <td>5</td>\n      <td>Dr robot game is an absolutely fantastic and w...</td>\n    </tr>\n    <tr>\n      <th>3</th>\n      <td>0</td>\n      <td>com.mustardgames.topspeed.formulacar.racinggames</td>\n      <td>2021-01-15</td>\n      <td>5</td>\n      <td>Formula car racing game is very well game I ha...</td>\n    </tr>\n    <tr>\n      <th>4</th>\n      <td>0</td>\n      <td>com.gf.extreme.gtracing.car.stunts.impossiblec...</td>\n      <td>2020-11-16</td>\n      <td>5</td>\n      <td>Superhero gt racing car stunt game will be a g...</td>\n    </tr>\n    <tr>\n      <th>...</th>\n      <td>...</td>\n      <td>...</td>\n      <td>...</td>\n      <td>...</td>\n      <td>...</td>\n    </tr>\n    <tr>\n      <th>3451270</th>\n      <td>451360</td>\n      <td>com.timeplusq.drawnguess</td>\n      <td>2019-06-30</td>\n      <td>4</td>\n      <td>my only problem is that there is TO MANY ADDS....</td>\n    </tr>\n    <tr>\n      <th>3451271</th>\n      <td>451360</td>\n      <td>com.bigfishgames.gummydropgoogle</td>\n      <td>2019-06-30</td>\n      <td>1</td>\n      <td>🤬🤬🤬🤬🤬🤬🤬🤬🤬🤬🤬🤬🤬🤬Thank you.i am angry (and a lil ...</td>\n    </tr>\n    <tr>\n      <th>3451272</th>\n      <td>451360</td>\n      <td>com.alegrium.cong2</td>\n      <td>2019-05-04</td>\n      <td>5</td>\n      <td>good for kids and parents to enjoy when want b...</td>\n    </tr>\n    <tr>\n      <th>3451273</th>\n      <td>451360</td>\n      <td>com.crazylabs.lady.bug</td>\n      <td>2019-05-04</td>\n      <td>5</td>\n      <td>one protest:I wish when u get caught by stormy...</td>\n    </tr>\n    <tr>\n      <th>3451274</th>\n      <td>451360</td>\n      <td>com.word.game.fun.puzzle.prison.escape.captain</td>\n      <td>2019-04-19</td>\n      <td>1</td>\n      <td>THIS GAME IS A SCAM!!!!!!!!💔😪for all those who...</td>\n    </tr>\n  </tbody>\n</table>\n<p>3451275 rows × 5 columns</p>\n</div>"
     },
     "metadata": {},
     "execution_count": 105
    }
   ],
   "source": [
    "reviews_clean.sort_values(['userID'], inplace=True)\n",
    "reviews_clean.reset_index(drop=True, inplace=True)\n",
    "reviews_clean =reviews_clean[['userID', 'appId', 'at', 'score', 'content']]\n",
    "reviews_clean"
   ]
  },
  {
   "cell_type": "code",
   "execution_count": 107,
   "metadata": {},
   "outputs": [],
   "source": [
    "reviews_clean.to_parquet('reviews.parquet.gzip', compression='gzip')"
   ]
  },
  {
   "cell_type": "code",
   "execution_count": 108,
   "metadata": {},
   "outputs": [
    {
     "output_type": "execute_result",
     "data": {
      "text/plain": [
       "         userID                                              appId  \\\n",
       "0             0              com.volcano.city.airplane.pilotflight   \n",
       "1             0  com.flying.car.robot.transformation.extreme.ca...   \n",
       "2             0  com.gs.lightspeed.superhero.rescue.mission.doc...   \n",
       "3             0   com.mustardgames.topspeed.formulacar.racinggames   \n",
       "4             0  com.gf.extreme.gtracing.car.stunts.impossiblec...   \n",
       "...         ...                                                ...   \n",
       "3451270  451360                           com.timeplusq.drawnguess   \n",
       "3451271  451360                   com.bigfishgames.gummydropgoogle   \n",
       "3451272  451360                                 com.alegrium.cong2   \n",
       "3451273  451360                             com.crazylabs.lady.bug   \n",
       "3451274  451360     com.word.game.fun.puzzle.prison.escape.captain   \n",
       "\n",
       "                 at  score  \n",
       "0        2020-06-20      5  \n",
       "1        2021-01-06      5  \n",
       "2        2020-10-08      5  \n",
       "3        2021-01-15      5  \n",
       "4        2020-11-16      5  \n",
       "...             ...    ...  \n",
       "3451270  2019-06-30      4  \n",
       "3451271  2019-06-30      1  \n",
       "3451272  2019-05-04      5  \n",
       "3451273  2019-05-04      5  \n",
       "3451274  2019-04-19      1  \n",
       "\n",
       "[3451275 rows x 4 columns]"
      ],
      "text/html": "<div>\n<style scoped>\n    .dataframe tbody tr th:only-of-type {\n        vertical-align: middle;\n    }\n\n    .dataframe tbody tr th {\n        vertical-align: top;\n    }\n\n    .dataframe thead th {\n        text-align: right;\n    }\n</style>\n<table border=\"1\" class=\"dataframe\">\n  <thead>\n    <tr style=\"text-align: right;\">\n      <th></th>\n      <th>userID</th>\n      <th>appId</th>\n      <th>at</th>\n      <th>score</th>\n    </tr>\n  </thead>\n  <tbody>\n    <tr>\n      <th>0</th>\n      <td>0</td>\n      <td>com.volcano.city.airplane.pilotflight</td>\n      <td>2020-06-20</td>\n      <td>5</td>\n    </tr>\n    <tr>\n      <th>1</th>\n      <td>0</td>\n      <td>com.flying.car.robot.transformation.extreme.ca...</td>\n      <td>2021-01-06</td>\n      <td>5</td>\n    </tr>\n    <tr>\n      <th>2</th>\n      <td>0</td>\n      <td>com.gs.lightspeed.superhero.rescue.mission.doc...</td>\n      <td>2020-10-08</td>\n      <td>5</td>\n    </tr>\n    <tr>\n      <th>3</th>\n      <td>0</td>\n      <td>com.mustardgames.topspeed.formulacar.racinggames</td>\n      <td>2021-01-15</td>\n      <td>5</td>\n    </tr>\n    <tr>\n      <th>4</th>\n      <td>0</td>\n      <td>com.gf.extreme.gtracing.car.stunts.impossiblec...</td>\n      <td>2020-11-16</td>\n      <td>5</td>\n    </tr>\n    <tr>\n      <th>...</th>\n      <td>...</td>\n      <td>...</td>\n      <td>...</td>\n      <td>...</td>\n    </tr>\n    <tr>\n      <th>3451270</th>\n      <td>451360</td>\n      <td>com.timeplusq.drawnguess</td>\n      <td>2019-06-30</td>\n      <td>4</td>\n    </tr>\n    <tr>\n      <th>3451271</th>\n      <td>451360</td>\n      <td>com.bigfishgames.gummydropgoogle</td>\n      <td>2019-06-30</td>\n      <td>1</td>\n    </tr>\n    <tr>\n      <th>3451272</th>\n      <td>451360</td>\n      <td>com.alegrium.cong2</td>\n      <td>2019-05-04</td>\n      <td>5</td>\n    </tr>\n    <tr>\n      <th>3451273</th>\n      <td>451360</td>\n      <td>com.crazylabs.lady.bug</td>\n      <td>2019-05-04</td>\n      <td>5</td>\n    </tr>\n    <tr>\n      <th>3451274</th>\n      <td>451360</td>\n      <td>com.word.game.fun.puzzle.prison.escape.captain</td>\n      <td>2019-04-19</td>\n      <td>1</td>\n    </tr>\n  </tbody>\n</table>\n<p>3451275 rows × 4 columns</p>\n</div>"
     },
     "metadata": {},
     "execution_count": 108
    }
   ],
   "source": [
    "reviews_min = reviews_clean.drop(['content'], axis=1)\n",
    "reviews_min"
   ]
  },
  {
   "cell_type": "code",
   "execution_count": 117,
   "metadata": {},
   "outputs": [],
   "source": [
    "reviews_min.to_csv('reviews_minimum.csv', index=False)"
   ]
  },
  {
   "cell_type": "code",
   "execution_count": 109,
   "metadata": {},
   "outputs": [],
   "source": [
    "reviews_min.to_parquet('reviews_minimum.parquet.gzip', compression='gzip')"
   ]
  },
  {
   "cell_type": "code",
   "execution_count": 112,
   "metadata": {},
   "outputs": [
    {
     "output_type": "execute_result",
     "data": {
      "text/plain": [
       "         userID                                              appId  \\\n",
       "0             0              com.volcano.city.airplane.pilotflight   \n",
       "1             0  com.flying.car.robot.transformation.extreme.ca...   \n",
       "2             0  com.gs.lightspeed.superhero.rescue.mission.doc...   \n",
       "3             0   com.mustardgames.topspeed.formulacar.racinggames   \n",
       "4             0  com.gf.extreme.gtracing.car.stunts.impossiblec...   \n",
       "...         ...                                                ...   \n",
       "3451270  451360                           com.timeplusq.drawnguess   \n",
       "3451271  451360                   com.bigfishgames.gummydropgoogle   \n",
       "3451272  451360                                 com.alegrium.cong2   \n",
       "3451273  451360                             com.crazylabs.lady.bug   \n",
       "3451274  451360     com.word.game.fun.puzzle.prison.escape.captain   \n",
       "\n",
       "                 at  score  \n",
       "0        2020-06-20      5  \n",
       "1        2021-01-06      5  \n",
       "2        2020-10-08      5  \n",
       "3        2021-01-15      5  \n",
       "4        2020-11-16      5  \n",
       "...             ...    ...  \n",
       "3451270  2019-06-30      4  \n",
       "3451271  2019-06-30      1  \n",
       "3451272  2019-05-04      5  \n",
       "3451273  2019-05-04      5  \n",
       "3451274  2019-04-19      1  \n",
       "\n",
       "[3451275 rows x 4 columns]"
      ],
      "text/html": "<div>\n<style scoped>\n    .dataframe tbody tr th:only-of-type {\n        vertical-align: middle;\n    }\n\n    .dataframe tbody tr th {\n        vertical-align: top;\n    }\n\n    .dataframe thead th {\n        text-align: right;\n    }\n</style>\n<table border=\"1\" class=\"dataframe\">\n  <thead>\n    <tr style=\"text-align: right;\">\n      <th></th>\n      <th>userID</th>\n      <th>appId</th>\n      <th>at</th>\n      <th>score</th>\n    </tr>\n  </thead>\n  <tbody>\n    <tr>\n      <th>0</th>\n      <td>0</td>\n      <td>com.volcano.city.airplane.pilotflight</td>\n      <td>2020-06-20</td>\n      <td>5</td>\n    </tr>\n    <tr>\n      <th>1</th>\n      <td>0</td>\n      <td>com.flying.car.robot.transformation.extreme.ca...</td>\n      <td>2021-01-06</td>\n      <td>5</td>\n    </tr>\n    <tr>\n      <th>2</th>\n      <td>0</td>\n      <td>com.gs.lightspeed.superhero.rescue.mission.doc...</td>\n      <td>2020-10-08</td>\n      <td>5</td>\n    </tr>\n    <tr>\n      <th>3</th>\n      <td>0</td>\n      <td>com.mustardgames.topspeed.formulacar.racinggames</td>\n      <td>2021-01-15</td>\n      <td>5</td>\n    </tr>\n    <tr>\n      <th>4</th>\n      <td>0</td>\n      <td>com.gf.extreme.gtracing.car.stunts.impossiblec...</td>\n      <td>2020-11-16</td>\n      <td>5</td>\n    </tr>\n    <tr>\n      <th>...</th>\n      <td>...</td>\n      <td>...</td>\n      <td>...</td>\n      <td>...</td>\n    </tr>\n    <tr>\n      <th>3451270</th>\n      <td>451360</td>\n      <td>com.timeplusq.drawnguess</td>\n      <td>2019-06-30</td>\n      <td>4</td>\n    </tr>\n    <tr>\n      <th>3451271</th>\n      <td>451360</td>\n      <td>com.bigfishgames.gummydropgoogle</td>\n      <td>2019-06-30</td>\n      <td>1</td>\n    </tr>\n    <tr>\n      <th>3451272</th>\n      <td>451360</td>\n      <td>com.alegrium.cong2</td>\n      <td>2019-05-04</td>\n      <td>5</td>\n    </tr>\n    <tr>\n      <th>3451273</th>\n      <td>451360</td>\n      <td>com.crazylabs.lady.bug</td>\n      <td>2019-05-04</td>\n      <td>5</td>\n    </tr>\n    <tr>\n      <th>3451274</th>\n      <td>451360</td>\n      <td>com.word.game.fun.puzzle.prison.escape.captain</td>\n      <td>2019-04-19</td>\n      <td>1</td>\n    </tr>\n  </tbody>\n</table>\n<p>3451275 rows × 4 columns</p>\n</div>"
     },
     "metadata": {},
     "execution_count": 112
    }
   ],
   "source": [
    "df = pd.read_parquet('reviews_minimum.parquet.gzip')\n",
    "df"
   ]
  },
  {
   "cell_type": "code",
   "execution_count": 14,
   "metadata": {},
   "outputs": [],
   "source": [
    "# reviews['userImage'] = reviews[\"userImage\"].astype('category')\n",
    "# reviews[\"userID\"] = reviews[\"userImage\"].cat.codes\n",
    "# reviews = reviews.drop(['userImage', 'thumbsUpCount'], axis=1)\n",
    "reviews = reviews.astype({'score': 'int8'})\n",
    "reviews.dtypes"
   ]
  },
  {
   "cell_type": "code",
   "execution_count": 7,
   "metadata": {},
   "outputs": [],
   "source": [
    "reviews_min.to_csv('reviews_minimum.csv', index=False)"
   ]
  },
  {
   "cell_type": "code",
   "execution_count": 8,
   "metadata": {},
   "outputs": [],
   "source": [
    "reviews_min.to_parquet('reviews_min.parquet.gzip', compression='gzip')"
   ]
  },
  {
   "cell_type": "code",
   "execution_count": 41,
   "metadata": {},
   "outputs": [
    {
     "output_type": "stream",
     "name": "stdout",
     "text": [
      "Wall time: 4.06 s\n"
     ]
    }
   ],
   "source": [
    "%%time\n",
    "reviews_min = pd.read_parquet('reviews_min.parquet.gzip')"
   ]
  },
  {
   "cell_type": "code",
   "execution_count": 46,
   "metadata": {},
   "outputs": [],
   "source": [
    "counts = reviews_min.value_counts('userID')\n",
    "counts = counts[counts >= 5]\n",
    "#reviews_min = reviews_min[~reviews_min['userID'].isin(counts.index]"
   ]
  },
  {
   "cell_type": "code",
   "execution_count": 48,
   "metadata": {},
   "outputs": [
    {
     "output_type": "execute_result",
     "data": {
      "text/plain": [
       "Int64Index([14539619, 11174495, 14236799,  7951560,  9654871,   940276,\n",
       "             7830221,  2011247, 15530304, 10035294,\n",
       "            ...\n",
       "             7257451, 15461876,  4741562, 13272015, 17954559,  5846215,\n",
       "            15471189, 17197173,  8359534, 10421709],\n",
       "           dtype='int64', name='userID', length=451361)"
      ]
     },
     "metadata": {},
     "execution_count": 48
    }
   ],
   "source": [
    "counts.index"
   ]
  },
  {
   "cell_type": "code",
   "execution_count": 63,
   "metadata": {},
   "outputs": [
    {
     "output_type": "execute_result",
     "data": {
      "text/plain": [
       "Int64Index([14539619, 11174495, 14236799,  7951560,  9654871,   940276,\n",
       "             7830221,  2011247, 15530304, 10035294,\n",
       "            ...\n",
       "             7257451, 15461876,  4741562, 13272015, 17954559,  5846215,\n",
       "            15471189, 17197173,  8359534, 10421709],\n",
       "           dtype='int64', name='userID', length=451361)"
      ]
     },
     "metadata": {},
     "execution_count": 63
    }
   ],
   "source": [
    "counts = reviews_min.value_counts('userID')\n",
    "counts = counts[counts >= 5]\n",
    "counts.index"
   ]
  },
  {
   "cell_type": "code",
   "execution_count": 64,
   "metadata": {},
   "outputs": [
    {
     "output_type": "execute_result",
     "data": {
      "text/plain": [
       "    score          at                                         appId    userID\n",
       "25      5  2021-02-09            com.perfect.soccer.kick.far.strike   2427064\n",
       "39      1  2021-01-12  com.wobbly.funnygame.ragdolls.life.adventure  17006312\n",
       "42      2  2021-02-06                      com.littleengine.wordpal   7472899\n",
       "47      1  2021-02-08                      com.littleengine.wordpal  10685032\n",
       "51      4  2021-02-01                      com.littleengine.wordpal  15506477"
      ],
      "text/html": "<div>\n<style scoped>\n    .dataframe tbody tr th:only-of-type {\n        vertical-align: middle;\n    }\n\n    .dataframe tbody tr th {\n        vertical-align: top;\n    }\n\n    .dataframe thead th {\n        text-align: right;\n    }\n</style>\n<table border=\"1\" class=\"dataframe\">\n  <thead>\n    <tr style=\"text-align: right;\">\n      <th></th>\n      <th>score</th>\n      <th>at</th>\n      <th>appId</th>\n      <th>userID</th>\n    </tr>\n  </thead>\n  <tbody>\n    <tr>\n      <th>25</th>\n      <td>5</td>\n      <td>2021-02-09</td>\n      <td>com.perfect.soccer.kick.far.strike</td>\n      <td>2427064</td>\n    </tr>\n    <tr>\n      <th>39</th>\n      <td>1</td>\n      <td>2021-01-12</td>\n      <td>com.wobbly.funnygame.ragdolls.life.adventure</td>\n      <td>17006312</td>\n    </tr>\n    <tr>\n      <th>42</th>\n      <td>2</td>\n      <td>2021-02-06</td>\n      <td>com.littleengine.wordpal</td>\n      <td>7472899</td>\n    </tr>\n    <tr>\n      <th>47</th>\n      <td>1</td>\n      <td>2021-02-08</td>\n      <td>com.littleengine.wordpal</td>\n      <td>10685032</td>\n    </tr>\n    <tr>\n      <th>51</th>\n      <td>4</td>\n      <td>2021-02-01</td>\n      <td>com.littleengine.wordpal</td>\n      <td>15506477</td>\n    </tr>\n  </tbody>\n</table>\n</div>"
     },
     "metadata": {},
     "execution_count": 64
    }
   ],
   "source": [
    "reviews_clean = reviews_min[reviews_min['userID'].isin(counts.index)]\n",
    "reviews_clean.head()"
   ]
  },
  {
   "cell_type": "code",
   "execution_count": 68,
   "metadata": {},
   "outputs": [
    {
     "output_type": "execute_result",
     "data": {
      "text/plain": [
       "          score          at                                         appId  \\\n",
       "25            5  2021-02-09            com.perfect.soccer.kick.far.strike   \n",
       "39            1  2021-01-12  com.wobbly.funnygame.ragdolls.life.adventure   \n",
       "42            2  2021-02-06                      com.littleengine.wordpal   \n",
       "47            1  2021-02-08                      com.littleengine.wordpal   \n",
       "51            4  2021-02-01                      com.littleengine.wordpal   \n",
       "...         ...         ...                                           ...   \n",
       "26011817      2  2021-01-17                                com.zjoy.fairy   \n",
       "26011818      5  2021-01-29                                com.zjoy.fairy   \n",
       "26011819      5  2021-01-14                                com.zjoy.fairy   \n",
       "26011821      4  2021-02-12                                com.zjoy.fairy   \n",
       "26011822      5  2021-01-12                                com.zjoy.fairy   \n",
       "\n",
       "            userID  \n",
       "25         2427064  \n",
       "39        17006312  \n",
       "42         7472899  \n",
       "47        10685032  \n",
       "51        15506477  \n",
       "...            ...  \n",
       "26011817  13709630  \n",
       "26011818  15909611  \n",
       "26011819   8542261  \n",
       "26011821   8079168  \n",
       "26011822   4641881  \n",
       "\n",
       "[3451275 rows x 4 columns]"
      ],
      "text/html": "<div>\n<style scoped>\n    .dataframe tbody tr th:only-of-type {\n        vertical-align: middle;\n    }\n\n    .dataframe tbody tr th {\n        vertical-align: top;\n    }\n\n    .dataframe thead th {\n        text-align: right;\n    }\n</style>\n<table border=\"1\" class=\"dataframe\">\n  <thead>\n    <tr style=\"text-align: right;\">\n      <th></th>\n      <th>score</th>\n      <th>at</th>\n      <th>appId</th>\n      <th>userID</th>\n    </tr>\n  </thead>\n  <tbody>\n    <tr>\n      <th>25</th>\n      <td>5</td>\n      <td>2021-02-09</td>\n      <td>com.perfect.soccer.kick.far.strike</td>\n      <td>2427064</td>\n    </tr>\n    <tr>\n      <th>39</th>\n      <td>1</td>\n      <td>2021-01-12</td>\n      <td>com.wobbly.funnygame.ragdolls.life.adventure</td>\n      <td>17006312</td>\n    </tr>\n    <tr>\n      <th>42</th>\n      <td>2</td>\n      <td>2021-02-06</td>\n      <td>com.littleengine.wordpal</td>\n      <td>7472899</td>\n    </tr>\n    <tr>\n      <th>47</th>\n      <td>1</td>\n      <td>2021-02-08</td>\n      <td>com.littleengine.wordpal</td>\n      <td>10685032</td>\n    </tr>\n    <tr>\n      <th>51</th>\n      <td>4</td>\n      <td>2021-02-01</td>\n      <td>com.littleengine.wordpal</td>\n      <td>15506477</td>\n    </tr>\n    <tr>\n      <th>...</th>\n      <td>...</td>\n      <td>...</td>\n      <td>...</td>\n      <td>...</td>\n    </tr>\n    <tr>\n      <th>26011817</th>\n      <td>2</td>\n      <td>2021-01-17</td>\n      <td>com.zjoy.fairy</td>\n      <td>13709630</td>\n    </tr>\n    <tr>\n      <th>26011818</th>\n      <td>5</td>\n      <td>2021-01-29</td>\n      <td>com.zjoy.fairy</td>\n      <td>15909611</td>\n    </tr>\n    <tr>\n      <th>26011819</th>\n      <td>5</td>\n      <td>2021-01-14</td>\n      <td>com.zjoy.fairy</td>\n      <td>8542261</td>\n    </tr>\n    <tr>\n      <th>26011821</th>\n      <td>4</td>\n      <td>2021-02-12</td>\n      <td>com.zjoy.fairy</td>\n      <td>8079168</td>\n    </tr>\n    <tr>\n      <th>26011822</th>\n      <td>5</td>\n      <td>2021-01-12</td>\n      <td>com.zjoy.fairy</td>\n      <td>4641881</td>\n    </tr>\n  </tbody>\n</table>\n<p>3451275 rows × 4 columns</p>\n</div>"
     },
     "metadata": {},
     "execution_count": 68
    }
   ],
   "source": [
    "reviews_clean"
   ]
  },
  {
   "cell_type": "code",
   "execution_count": 77,
   "metadata": {},
   "outputs": [
    {
     "output_type": "execute_result",
     "data": {
      "text/plain": [
       "          score          at                          appId   userID\n",
       "184           1  2021-02-04       com.littleengine.wordpal  9939819\n",
       "760804        2  2017-02-28  rs.aparteko.brainster.android  9939819\n",
       "6201861       3  2019-12-12        com.fotoable.WordVillas  9939819\n",
       "10079525      1  2018-03-06        com.gamepoint.cardparty  9939819\n",
       "25414957      3  2020-12-15       com.playrix.gardenscapes  9939819"
      ],
      "text/html": "<div>\n<style scoped>\n    .dataframe tbody tr th:only-of-type {\n        vertical-align: middle;\n    }\n\n    .dataframe tbody tr th {\n        vertical-align: top;\n    }\n\n    .dataframe thead th {\n        text-align: right;\n    }\n</style>\n<table border=\"1\" class=\"dataframe\">\n  <thead>\n    <tr style=\"text-align: right;\">\n      <th></th>\n      <th>score</th>\n      <th>at</th>\n      <th>appId</th>\n      <th>userID</th>\n    </tr>\n  </thead>\n  <tbody>\n    <tr>\n      <th>184</th>\n      <td>1</td>\n      <td>2021-02-04</td>\n      <td>com.littleengine.wordpal</td>\n      <td>9939819</td>\n    </tr>\n    <tr>\n      <th>760804</th>\n      <td>2</td>\n      <td>2017-02-28</td>\n      <td>rs.aparteko.brainster.android</td>\n      <td>9939819</td>\n    </tr>\n    <tr>\n      <th>6201861</th>\n      <td>3</td>\n      <td>2019-12-12</td>\n      <td>com.fotoable.WordVillas</td>\n      <td>9939819</td>\n    </tr>\n    <tr>\n      <th>10079525</th>\n      <td>1</td>\n      <td>2018-03-06</td>\n      <td>com.gamepoint.cardparty</td>\n      <td>9939819</td>\n    </tr>\n    <tr>\n      <th>25414957</th>\n      <td>3</td>\n      <td>2020-12-15</td>\n      <td>com.playrix.gardenscapes</td>\n      <td>9939819</td>\n    </tr>\n  </tbody>\n</table>\n</div>"
     },
     "metadata": {},
     "execution_count": 77
    }
   ],
   "source": [
    "reviews_clean[reviews_clean.userID == 9939819]"
   ]
  },
  {
   "cell_type": "code",
   "execution_count": 79,
   "metadata": {},
   "outputs": [
    {
     "output_type": "execute_result",
     "data": {
      "text/plain": [
       "userID\n",
       "14539619    286\n",
       "11174495    244\n",
       "14236799    212\n",
       "7951560     197\n",
       "9654871     168\n",
       "           ... \n",
       "9939695       5\n",
       "9939819       5\n",
       "9940061       5\n",
       "9940083       5\n",
       "10001285      5\n",
       "Length: 451361, dtype: int64"
      ]
     },
     "metadata": {},
     "execution_count": 79
    }
   ],
   "source": [
    "reviews_clean.value_counts('userID')"
   ]
  },
  {
   "cell_type": "code",
   "execution_count": 87,
   "metadata": {},
   "outputs": [
    {
     "output_type": "execute_result",
     "data": {
      "text/plain": [
       "userID\n",
       "350585    286\n",
       "257800    244\n",
       "342218    212\n",
       "176486    197\n",
       "216068    168\n",
       "         ... \n",
       "224064      5\n",
       "224068      5\n",
       "224072      5\n",
       "224073      5\n",
       "225680      5\n",
       "Length: 451361, dtype: int64"
      ]
     },
     "metadata": {},
     "execution_count": 87
    }
   ],
   "source": [
    "reviews_clean.value_counts('userID')"
   ]
  },
  {
   "cell_type": "code",
   "execution_count": 84,
   "metadata": {},
   "outputs": [
    {
     "output_type": "execute_result",
     "data": {
      "text/plain": [
       "    score          at                                         appId    userID\n",
       "25      5  2021-02-09            com.perfect.soccer.kick.far.strike   2427064\n",
       "39      1  2021-01-12  com.wobbly.funnygame.ragdolls.life.adventure  17006312\n",
       "42      2  2021-02-06                      com.littleengine.wordpal   7472899\n",
       "47      1  2021-02-08                      com.littleengine.wordpal  10685032\n",
       "51      4  2021-02-01                      com.littleengine.wordpal  15506477"
      ],
      "text/html": "<div>\n<style scoped>\n    .dataframe tbody tr th:only-of-type {\n        vertical-align: middle;\n    }\n\n    .dataframe tbody tr th {\n        vertical-align: top;\n    }\n\n    .dataframe thead th {\n        text-align: right;\n    }\n</style>\n<table border=\"1\" class=\"dataframe\">\n  <thead>\n    <tr style=\"text-align: right;\">\n      <th></th>\n      <th>score</th>\n      <th>at</th>\n      <th>appId</th>\n      <th>userID</th>\n    </tr>\n  </thead>\n  <tbody>\n    <tr>\n      <th>25</th>\n      <td>5</td>\n      <td>2021-02-09</td>\n      <td>com.perfect.soccer.kick.far.strike</td>\n      <td>2427064</td>\n    </tr>\n    <tr>\n      <th>39</th>\n      <td>1</td>\n      <td>2021-01-12</td>\n      <td>com.wobbly.funnygame.ragdolls.life.adventure</td>\n      <td>17006312</td>\n    </tr>\n    <tr>\n      <th>42</th>\n      <td>2</td>\n      <td>2021-02-06</td>\n      <td>com.littleengine.wordpal</td>\n      <td>7472899</td>\n    </tr>\n    <tr>\n      <th>47</th>\n      <td>1</td>\n      <td>2021-02-08</td>\n      <td>com.littleengine.wordpal</td>\n      <td>10685032</td>\n    </tr>\n    <tr>\n      <th>51</th>\n      <td>4</td>\n      <td>2021-02-01</td>\n      <td>com.littleengine.wordpal</td>\n      <td>15506477</td>\n    </tr>\n  </tbody>\n</table>\n</div>"
     },
     "metadata": {},
     "execution_count": 84
    }
   ],
   "source": [
    "reviews_clean.head()"
   ]
  },
  {
   "cell_type": "code",
   "execution_count": 85,
   "metadata": {},
   "outputs": [],
   "source": [
    "reviews_clean.userID = reviews_clean.userID.astype('category').cat.codes"
   ]
  },
  {
   "cell_type": "code",
   "execution_count": 94,
   "metadata": {},
   "outputs": [
    {
     "output_type": "execute_result",
     "data": {
      "text/plain": [
       "         score          at                                              appId  \\\n",
       "0            5  2020-06-20              com.volcano.city.airplane.pilotflight   \n",
       "1            5  2021-01-06  com.flying.car.robot.transformation.extreme.ca...   \n",
       "2            5  2020-10-08  com.gs.lightspeed.superhero.rescue.mission.doc...   \n",
       "3            5  2021-01-15   com.mustardgames.topspeed.formulacar.racinggames   \n",
       "4            5  2020-11-16  com.gf.extreme.gtracing.car.stunts.impossiblec...   \n",
       "...        ...         ...                                                ...   \n",
       "3451270      5  2019-08-16                                        mytown.home   \n",
       "3451271      4  2019-04-19                              com.h8games.helixjump   \n",
       "3451272      1  2019-07-28                    com.vnlentertainment.mmoproject   \n",
       "3451273      4  2019-06-30                           com.timeplusq.drawnguess   \n",
       "3451274      1  2019-04-19     com.word.game.fun.puzzle.prison.escape.captain   \n",
       "\n",
       "         userID  \n",
       "0             0  \n",
       "1             0  \n",
       "2             0  \n",
       "3             0  \n",
       "4             0  \n",
       "...         ...  \n",
       "3451270  451360  \n",
       "3451271  451360  \n",
       "3451272  451360  \n",
       "3451273  451360  \n",
       "3451274  451360  \n",
       "\n",
       "[3451275 rows x 4 columns]"
      ],
      "text/html": "<div>\n<style scoped>\n    .dataframe tbody tr th:only-of-type {\n        vertical-align: middle;\n    }\n\n    .dataframe tbody tr th {\n        vertical-align: top;\n    }\n\n    .dataframe thead th {\n        text-align: right;\n    }\n</style>\n<table border=\"1\" class=\"dataframe\">\n  <thead>\n    <tr style=\"text-align: right;\">\n      <th></th>\n      <th>score</th>\n      <th>at</th>\n      <th>appId</th>\n      <th>userID</th>\n    </tr>\n  </thead>\n  <tbody>\n    <tr>\n      <th>0</th>\n      <td>5</td>\n      <td>2020-06-20</td>\n      <td>com.volcano.city.airplane.pilotflight</td>\n      <td>0</td>\n    </tr>\n    <tr>\n      <th>1</th>\n      <td>5</td>\n      <td>2021-01-06</td>\n      <td>com.flying.car.robot.transformation.extreme.ca...</td>\n      <td>0</td>\n    </tr>\n    <tr>\n      <th>2</th>\n      <td>5</td>\n      <td>2020-10-08</td>\n      <td>com.gs.lightspeed.superhero.rescue.mission.doc...</td>\n      <td>0</td>\n    </tr>\n    <tr>\n      <th>3</th>\n      <td>5</td>\n      <td>2021-01-15</td>\n      <td>com.mustardgames.topspeed.formulacar.racinggames</td>\n      <td>0</td>\n    </tr>\n    <tr>\n      <th>4</th>\n      <td>5</td>\n      <td>2020-11-16</td>\n      <td>com.gf.extreme.gtracing.car.stunts.impossiblec...</td>\n      <td>0</td>\n    </tr>\n    <tr>\n      <th>...</th>\n      <td>...</td>\n      <td>...</td>\n      <td>...</td>\n      <td>...</td>\n    </tr>\n    <tr>\n      <th>3451270</th>\n      <td>5</td>\n      <td>2019-08-16</td>\n      <td>mytown.home</td>\n      <td>451360</td>\n    </tr>\n    <tr>\n      <th>3451271</th>\n      <td>4</td>\n      <td>2019-04-19</td>\n      <td>com.h8games.helixjump</td>\n      <td>451360</td>\n    </tr>\n    <tr>\n      <th>3451272</th>\n      <td>1</td>\n      <td>2019-07-28</td>\n      <td>com.vnlentertainment.mmoproject</td>\n      <td>451360</td>\n    </tr>\n    <tr>\n      <th>3451273</th>\n      <td>4</td>\n      <td>2019-06-30</td>\n      <td>com.timeplusq.drawnguess</td>\n      <td>451360</td>\n    </tr>\n    <tr>\n      <th>3451274</th>\n      <td>1</td>\n      <td>2019-04-19</td>\n      <td>com.word.game.fun.puzzle.prison.escape.captain</td>\n      <td>451360</td>\n    </tr>\n  </tbody>\n</table>\n<p>3451275 rows × 4 columns</p>\n</div>"
     },
     "metadata": {},
     "execution_count": 94
    }
   ],
   "source": [
    "reviews_clean.sort_values(['userID'], inplace=True)\n",
    "reviews_clean.reset_index(drop=True, inplace=True)\n",
    "reviews_clean"
   ]
  },
  {
   "cell_type": "code",
   "execution_count": 95,
   "metadata": {},
   "outputs": [
    {
     "output_type": "execute_result",
     "data": {
      "text/plain": [
       "         userID                                              appId  \\\n",
       "0             0              com.volcano.city.airplane.pilotflight   \n",
       "1             0  com.flying.car.robot.transformation.extreme.ca...   \n",
       "2             0  com.gs.lightspeed.superhero.rescue.mission.doc...   \n",
       "3             0   com.mustardgames.topspeed.formulacar.racinggames   \n",
       "4             0  com.gf.extreme.gtracing.car.stunts.impossiblec...   \n",
       "...         ...                                                ...   \n",
       "3451270  451360                                        mytown.home   \n",
       "3451271  451360                              com.h8games.helixjump   \n",
       "3451272  451360                    com.vnlentertainment.mmoproject   \n",
       "3451273  451360                           com.timeplusq.drawnguess   \n",
       "3451274  451360     com.word.game.fun.puzzle.prison.escape.captain   \n",
       "\n",
       "                 at  score  \n",
       "0        2020-06-20      5  \n",
       "1        2021-01-06      5  \n",
       "2        2020-10-08      5  \n",
       "3        2021-01-15      5  \n",
       "4        2020-11-16      5  \n",
       "...             ...    ...  \n",
       "3451270  2019-08-16      5  \n",
       "3451271  2019-04-19      4  \n",
       "3451272  2019-07-28      1  \n",
       "3451273  2019-06-30      4  \n",
       "3451274  2019-04-19      1  \n",
       "\n",
       "[3451275 rows x 4 columns]"
      ],
      "text/html": "<div>\n<style scoped>\n    .dataframe tbody tr th:only-of-type {\n        vertical-align: middle;\n    }\n\n    .dataframe tbody tr th {\n        vertical-align: top;\n    }\n\n    .dataframe thead th {\n        text-align: right;\n    }\n</style>\n<table border=\"1\" class=\"dataframe\">\n  <thead>\n    <tr style=\"text-align: right;\">\n      <th></th>\n      <th>userID</th>\n      <th>appId</th>\n      <th>at</th>\n      <th>score</th>\n    </tr>\n  </thead>\n  <tbody>\n    <tr>\n      <th>0</th>\n      <td>0</td>\n      <td>com.volcano.city.airplane.pilotflight</td>\n      <td>2020-06-20</td>\n      <td>5</td>\n    </tr>\n    <tr>\n      <th>1</th>\n      <td>0</td>\n      <td>com.flying.car.robot.transformation.extreme.ca...</td>\n      <td>2021-01-06</td>\n      <td>5</td>\n    </tr>\n    <tr>\n      <th>2</th>\n      <td>0</td>\n      <td>com.gs.lightspeed.superhero.rescue.mission.doc...</td>\n      <td>2020-10-08</td>\n      <td>5</td>\n    </tr>\n    <tr>\n      <th>3</th>\n      <td>0</td>\n      <td>com.mustardgames.topspeed.formulacar.racinggames</td>\n      <td>2021-01-15</td>\n      <td>5</td>\n    </tr>\n    <tr>\n      <th>4</th>\n      <td>0</td>\n      <td>com.gf.extreme.gtracing.car.stunts.impossiblec...</td>\n      <td>2020-11-16</td>\n      <td>5</td>\n    </tr>\n    <tr>\n      <th>...</th>\n      <td>...</td>\n      <td>...</td>\n      <td>...</td>\n      <td>...</td>\n    </tr>\n    <tr>\n      <th>3451270</th>\n      <td>451360</td>\n      <td>mytown.home</td>\n      <td>2019-08-16</td>\n      <td>5</td>\n    </tr>\n    <tr>\n      <th>3451271</th>\n      <td>451360</td>\n      <td>com.h8games.helixjump</td>\n      <td>2019-04-19</td>\n      <td>4</td>\n    </tr>\n    <tr>\n      <th>3451272</th>\n      <td>451360</td>\n      <td>com.vnlentertainment.mmoproject</td>\n      <td>2019-07-28</td>\n      <td>1</td>\n    </tr>\n    <tr>\n      <th>3451273</th>\n      <td>451360</td>\n      <td>com.timeplusq.drawnguess</td>\n      <td>2019-06-30</td>\n      <td>4</td>\n    </tr>\n    <tr>\n      <th>3451274</th>\n      <td>451360</td>\n      <td>com.word.game.fun.puzzle.prison.escape.captain</td>\n      <td>2019-04-19</td>\n      <td>1</td>\n    </tr>\n  </tbody>\n</table>\n<p>3451275 rows × 4 columns</p>\n</div>"
     },
     "metadata": {},
     "execution_count": 95
    }
   ],
   "source": [
    "reviews_clean =reviews_clean[['userID', 'appId', 'at', 'score']]\n",
    "reviews_clean"
   ]
  },
  {
   "cell_type": "code",
   "execution_count": 96,
   "metadata": {},
   "outputs": [],
   "source": [
    "reviews_clean.to_parquet('reviews_minimum.parquet.gzip', compression='gzip')"
   ]
  },
  {
   "cell_type": "code",
   "execution_count": 97,
   "metadata": {},
   "outputs": [],
   "source": [
    "reviews_clean = pd.read_parquet('reviews_minimum.parquet.gzip')"
   ]
  },
  {
   "cell_type": "code",
   "execution_count": 98,
   "metadata": {},
   "outputs": [
    {
     "output_type": "execute_result",
     "data": {
      "text/plain": [
       "         userID                                              appId  \\\n",
       "0             0              com.volcano.city.airplane.pilotflight   \n",
       "1             0  com.flying.car.robot.transformation.extreme.ca...   \n",
       "2             0  com.gs.lightspeed.superhero.rescue.mission.doc...   \n",
       "3             0   com.mustardgames.topspeed.formulacar.racinggames   \n",
       "4             0  com.gf.extreme.gtracing.car.stunts.impossiblec...   \n",
       "...         ...                                                ...   \n",
       "3451270  451360                                        mytown.home   \n",
       "3451271  451360                              com.h8games.helixjump   \n",
       "3451272  451360                    com.vnlentertainment.mmoproject   \n",
       "3451273  451360                           com.timeplusq.drawnguess   \n",
       "3451274  451360     com.word.game.fun.puzzle.prison.escape.captain   \n",
       "\n",
       "                 at  score  \n",
       "0        2020-06-20      5  \n",
       "1        2021-01-06      5  \n",
       "2        2020-10-08      5  \n",
       "3        2021-01-15      5  \n",
       "4        2020-11-16      5  \n",
       "...             ...    ...  \n",
       "3451270  2019-08-16      5  \n",
       "3451271  2019-04-19      4  \n",
       "3451272  2019-07-28      1  \n",
       "3451273  2019-06-30      4  \n",
       "3451274  2019-04-19      1  \n",
       "\n",
       "[3451275 rows x 4 columns]"
      ],
      "text/html": "<div>\n<style scoped>\n    .dataframe tbody tr th:only-of-type {\n        vertical-align: middle;\n    }\n\n    .dataframe tbody tr th {\n        vertical-align: top;\n    }\n\n    .dataframe thead th {\n        text-align: right;\n    }\n</style>\n<table border=\"1\" class=\"dataframe\">\n  <thead>\n    <tr style=\"text-align: right;\">\n      <th></th>\n      <th>userID</th>\n      <th>appId</th>\n      <th>at</th>\n      <th>score</th>\n    </tr>\n  </thead>\n  <tbody>\n    <tr>\n      <th>0</th>\n      <td>0</td>\n      <td>com.volcano.city.airplane.pilotflight</td>\n      <td>2020-06-20</td>\n      <td>5</td>\n    </tr>\n    <tr>\n      <th>1</th>\n      <td>0</td>\n      <td>com.flying.car.robot.transformation.extreme.ca...</td>\n      <td>2021-01-06</td>\n      <td>5</td>\n    </tr>\n    <tr>\n      <th>2</th>\n      <td>0</td>\n      <td>com.gs.lightspeed.superhero.rescue.mission.doc...</td>\n      <td>2020-10-08</td>\n      <td>5</td>\n    </tr>\n    <tr>\n      <th>3</th>\n      <td>0</td>\n      <td>com.mustardgames.topspeed.formulacar.racinggames</td>\n      <td>2021-01-15</td>\n      <td>5</td>\n    </tr>\n    <tr>\n      <th>4</th>\n      <td>0</td>\n      <td>com.gf.extreme.gtracing.car.stunts.impossiblec...</td>\n      <td>2020-11-16</td>\n      <td>5</td>\n    </tr>\n    <tr>\n      <th>...</th>\n      <td>...</td>\n      <td>...</td>\n      <td>...</td>\n      <td>...</td>\n    </tr>\n    <tr>\n      <th>3451270</th>\n      <td>451360</td>\n      <td>mytown.home</td>\n      <td>2019-08-16</td>\n      <td>5</td>\n    </tr>\n    <tr>\n      <th>3451271</th>\n      <td>451360</td>\n      <td>com.h8games.helixjump</td>\n      <td>2019-04-19</td>\n      <td>4</td>\n    </tr>\n    <tr>\n      <th>3451272</th>\n      <td>451360</td>\n      <td>com.vnlentertainment.mmoproject</td>\n      <td>2019-07-28</td>\n      <td>1</td>\n    </tr>\n    <tr>\n      <th>3451273</th>\n      <td>451360</td>\n      <td>com.timeplusq.drawnguess</td>\n      <td>2019-06-30</td>\n      <td>4</td>\n    </tr>\n    <tr>\n      <th>3451274</th>\n      <td>451360</td>\n      <td>com.word.game.fun.puzzle.prison.escape.captain</td>\n      <td>2019-04-19</td>\n      <td>1</td>\n    </tr>\n  </tbody>\n</table>\n<p>3451275 rows × 4 columns</p>\n</div>"
     },
     "metadata": {},
     "execution_count": 98
    }
   ],
   "source": [
    "reviews_clean"
   ]
  },
  {
   "cell_type": "code",
   "execution_count": null,
   "metadata": {},
   "outputs": [],
   "source": [
    "from sklearn import preprocessing\n",
    "le = preprocessing.LabelEncoder()\n",
    "le.fit(df['letter'])"
   ]
  },
  {
   "cell_type": "code",
   "execution_count": 9,
   "metadata": {},
   "outputs": [],
   "source": [
    "from dask import dataframe as dd \n",
    "\n",
    "dreviews = dd.from_pandas(reviews)"
   ]
  },
  {
   "cell_type": "code",
   "execution_count": null,
   "metadata": {},
   "outputs": [],
   "source": [
    "reviews[\"userImage\"] = reviews[\"userImage\"].astype('category')\n",
    "reviews[\"userID\"] = reviews[\"userImage\"].cat.codes\n",
    "reviews = reviews.drop(['userImage'], axis=1)"
   ]
  },
  {
   "cell_type": "code",
   "execution_count": 19,
   "metadata": {},
   "outputs": [
    {
     "output_type": "execute_result",
     "data": {
      "text/plain": [
       "  letter  number\n",
       "0      a       1\n",
       "1      b       2\n",
       "2   haha      10"
      ],
      "text/html": "<div>\n<style scoped>\n    .dataframe tbody tr th:only-of-type {\n        vertical-align: middle;\n    }\n\n    .dataframe tbody tr th {\n        vertical-align: top;\n    }\n\n    .dataframe thead th {\n        text-align: right;\n    }\n</style>\n<table border=\"1\" class=\"dataframe\">\n  <thead>\n    <tr style=\"text-align: right;\">\n      <th></th>\n      <th>letter</th>\n      <th>number</th>\n    </tr>\n  </thead>\n  <tbody>\n    <tr>\n      <th>0</th>\n      <td>a</td>\n      <td>1</td>\n    </tr>\n    <tr>\n      <th>1</th>\n      <td>b</td>\n      <td>2</td>\n    </tr>\n    <tr>\n      <th>2</th>\n      <td>haha</td>\n      <td>10</td>\n    </tr>\n  </tbody>\n</table>\n</div>"
     },
     "metadata": {},
     "execution_count": 19
    }
   ],
   "source": [
    "df = pd.DataFrame([['a', 1], ['b', 2], ['haha', 10]], columns=['letter', 'number'])\n",
    "df"
   ]
  },
  {
   "cell_type": "code",
   "execution_count": 20,
   "metadata": {},
   "outputs": [
    {
     "output_type": "execute_result",
     "data": {
      "text/plain": [
       "LabelEncoder()"
      ]
     },
     "metadata": {},
     "execution_count": 20
    }
   ],
   "source": [
    "from sklearn import preprocessing\n",
    "le = preprocessing.LabelEncoder()\n",
    "le.fit(df['letter'])\n",
    "df['letter'] = le.transform(df['letter'])"
   ]
  },
  {
   "cell_type": "code",
   "execution_count": 26,
   "metadata": {},
   "outputs": [
    {
     "output_type": "execute_result",
     "data": {
      "text/plain": [
       "<method-wrapper '__hash__' of LabelEncoder object at 0x00000251827F8F88>"
      ]
     },
     "metadata": {},
     "execution_count": 26
    }
   ],
   "source": [
    "le.__hash__"
   ]
  },
  {
   "cell_type": "code",
   "execution_count": 27,
   "metadata": {},
   "outputs": [
    {
     "output_type": "execute_result",
     "data": {
      "text/plain": [
       "{'a': 0, 'b': 1, 'haha': 2}"
      ]
     },
     "metadata": {},
     "execution_count": 27
    }
   ],
   "source": [
    "dict(zip(le.classes_, range(len(le.classes_))))"
   ]
  }
 ]
}