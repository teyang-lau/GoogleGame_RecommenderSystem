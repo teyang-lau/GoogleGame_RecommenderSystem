{
 "metadata": {
  "language_info": {
   "codemirror_mode": {
    "name": "ipython",
    "version": 3
   },
   "file_extension": ".py",
   "mimetype": "text/x-python",
   "name": "python",
   "nbconvert_exporter": "python",
   "pygments_lexer": "ipython3",
   "version": "3.7.4-final"
  },
  "orig_nbformat": 2,
  "kernelspec": {
   "name": "python3",
   "display_name": "Python 3",
   "language": "python"
  }
 },
 "nbformat": 4,
 "nbformat_minor": 2,
 "cells": [
  {
   "cell_type": "code",
   "execution_count": 1,
   "metadata": {},
   "outputs": [],
   "source": [
    "from google_play_scraper import app"
   ]
  },
  {
   "cell_type": "code",
   "execution_count": 82,
   "metadata": {},
   "outputs": [],
   "source": [
    "tmp = app(\n",
    "    'com.nianticlabs.pokemongo',\n",
    "    lang='en', # defaults to 'en'\n",
    "    country='us' # defaults to 'us'\n",
    ")"
   ]
  },
  {
   "cell_type": "code",
   "execution_count": 54,
   "metadata": {},
   "outputs": [
    {
     "output_type": "execute_result",
     "data": {
      "text/plain": [
       "dict_keys(['title', 'description', 'descriptionHTML', 'summary', 'summaryHTML', 'installs', 'minInstalls', 'score', 'ratings', 'reviews', 'histogram', 'price', 'free', 'currency', 'sale', 'saleTime', 'originalPrice', 'saleText', 'offersIAP', 'inAppProductPrice', 'size', 'androidVersion', 'androidVersionText', 'developer', 'developerId', 'developerEmail', 'developerWebsite', 'developerAddress', 'privacyPolicy', 'developerInternalID', 'genre', 'genreId', 'icon', 'headerImage', 'screenshots', 'video', 'videoImage', 'contentRating', 'contentRatingDescription', 'adSupported', 'containsAds', 'released', 'updated', 'version', 'recentChanges', 'recentChangesHTML', 'comments', 'editorsChoice', 'appId', 'url'])"
      ]
     },
     "metadata": {},
     "execution_count": 54
    }
   ],
   "source": [
    "tmp.keys()"
   ]
  },
  {
   "cell_type": "code",
   "execution_count": 83,
   "metadata": {},
   "outputs": [
    {
     "output_type": "display_data",
     "data": {
      "text/plain": "{'title': 'Asphalt 9: Legends - Epic Car Action Racing Game',\n 'description': \"Get in gear and take on the world’s best, most fearless street auto racer pros to become the next Asphalt Legend—from the creators of Asphalt 8: Airborne. <b>You’re free to pick the dream car you need and race across spectacular locations against rival speed machines around the world</b>.\\r\\nAsphalt 9: Legends features a top roster of real hypercars for you to drive that is unlike what's found in any other game, from renowned legendary car manufacturers like Ferrari, Porsche, Lamborghini and W Motors, among many other brands. Hit the fast track and leave your limits in the dust to become a Legend of the Track!\\r\\n\\r\\n🎮 <h2>A CONSOLE EXPERIENCE IN THE PALMS OF YOUR HANDS</h2>\\r\\nImmerse yourself in one of the most hyper-realistic arcade car racing games, with meticulously detailed rebel racing real cars, cool HDR techniques, and stunning visual and particle effects that turn every race into a real blockbuster race movie. Get the most of this car street racer game with the online multiplayer mode.\\r\\n\\r\\n🏎️ <h2>THE MOST PRESTIGIOUS MOTOR CARS</h2>\\r\\nCollect over 60 of the world’s best speed motor machines. Each cool vehicle has been carefully selected based on its aesthetics and the top driving performance you need in the most desirable line-up of any Asphalt games to date.\\r\\n\\r\\n<h2>CUSTOMIZATION AT YOUR FINGERTIPS</h2>\\r\\nUse the new car editor to define the exact color and material of your car. All the high A-brands you can imagine are customizable! Pick the color of the rims and more to make your wheels look their best on the track. A great experience with one of the top car games to play! \\r\\n\\r\\n<h2>A BLAST OF ARCADE FUN</h2>\\r\\nCharge your nitro to unleash the ultimate Nitro Pulse for the ultimate boost of speed you need to make your motor break the sound barrier!\\r\\nDrive fiercely like a rebel with your Porsche, W Motors or any other legendary car brand. Double-tap the brake to do a 360° at any time of the race to take down your multiplayer or AI opponents in style and watch the burnout behind you!\\r\\n\\r\\n<h2>BECOME A CAR RACING STREET LEGEND</h2>\\r\\nStart your street journey in Career mode by completing over 60 seasons and 800 events. <b>Become a real Asphalt racer legend by racing against up to 7 rival players from all over the world in the online multiplayer mode</b>.\\r\\n\\r\\n<h2>ULTIMATE RACING CONTROL</h2>\\r\\nMaster the innovative TouchDrive™, a new driving control scheme that streamlines car steering to free your mind to focus on the arcade fun and fast speed. The streets of many cities all over the world are open to you in this real racing game!\\r\\n\\r\\n🌎 <h2>REAL RACING STRENGTH IN NUMBERS</h2>\\r\\nFor the first time in any of the <b>Asphalt games, you can create your own online community of like-minded racer friends with the Club feature</b>. Collaborate with your fellow speed freaks and motor heads to race your best and unlock the best milestone rewards as you drive up the ranks of the multiplayer Club leaderboard.\\r\\n\\r\\n<b>The perfect game for fans of free arcade racing games, who love to experience games of driving fast, rebel drift racing, while weaving through the traffic of foreign cities, nitro-charged real racing cars, and power motor competition with high-end car brands!</b>\\r\\n\\r\\nThe game is now optimized for the ASUS ROG Phone 3 and ROG TwinView Dock 3. Discover a brand-new Asphalt 9 experience!\\r\\n____________\\r\\nVisit our official site at http://gmlft.co/website_EN\\r\\nCheck out the new blog at http://gmlft.co/central\\r\\n\\r\\nDon't forget to follow us on social media:\\r\\nFacebook: http://gmlft.co/A9_Facebook\\r\\nTwitter: http://gmlft.co/A9_Twitter\\r\\nInstagram: http://gmlft.co/A9_Instagram\\r\\nYouTube: http://gmlft.co/A9_Youtube\\r\\nForum: http://gmlft.co/A9_Forums\\r\\n\\r\\nThis app allows you to purchase virtual items within the app and may contain third-party advertisements that may redirect you to a third-party site.\\r\\n\\r\\nTerms of Use: http://www.gameloft.com/en/conditions-of-use\\r\\nPrivacy Policy: http://www.gameloft.com/en/privacy-notice\\r\\nEnd-User License Agreement: http://www.gameloft.com/en/eula\",\n 'descriptionHTML': 'Get in gear and take on the world’s best, most fearless street auto racer pros to become the next Asphalt Legend—from the creators of Asphalt 8: Airborne. <b>You’re free to pick the dream car you need and race across spectacular locations against rival speed machines around the world</b>.<br>Asphalt 9: Legends features a top roster of real hypercars for you to drive that is unlike what&#39;s found in any other game, from renowned legendary car manufacturers like Ferrari, Porsche, Lamborghini and W Motors, among many other brands. Hit the fast track and leave your limits in the dust to become a Legend of the Track!<br><br>🎮 <h2>A CONSOLE EXPERIENCE IN THE PALMS OF YOUR HANDS</h2><br>Immerse yourself in one of the most hyper-realistic arcade car racing games, with meticulously detailed rebel racing real cars, cool HDR techniques, and stunning visual and particle effects that turn every race into a real blockbuster race movie. Get the most of this car street racer game with the online multiplayer mode.<br><br>🏎️ <h2>THE MOST PRESTIGIOUS MOTOR CARS</h2><br>Collect over 60 of the world’s best speed motor machines. Each cool vehicle has been carefully selected based on its aesthetics and the top driving performance you need in the most desirable line-up of any Asphalt games to date.<br><br><h2>CUSTOMIZATION AT YOUR FINGERTIPS</h2><br>Use the new car editor to define the exact color and material of your car. All the high A-brands you can imagine are customizable! Pick the color of the rims and more to make your wheels look their best on the track. A great experience with one of the top car games to play! <br><br><h2>A BLAST OF ARCADE FUN</h2><br>Charge your nitro to unleash the ultimate Nitro Pulse for the ultimate boost of speed you need to make your motor break the sound barrier!<br>Drive fiercely like a rebel with your Porsche, W Motors or any other legendary car brand. Double-tap the brake to do a 360° at any time of the race to take down your multiplayer or AI opponents in style and watch the burnout behind you!<br><br><h2>BECOME A CAR RACING STREET LEGEND</h2><br>Start your street journey in Career mode by completing over 60 seasons and 800 events. <b>Become a real Asphalt racer legend by racing against up to 7 rival players from all over the world in the online multiplayer mode</b>.<br><br><h2>ULTIMATE RACING CONTROL</h2><br>Master the innovative TouchDrive™, a new driving control scheme that streamlines car steering to free your mind to focus on the arcade fun and fast speed. The streets of many cities all over the world are open to you in this real racing game!<br><br>🌎 <h2>REAL RACING STRENGTH IN NUMBERS</h2><br>For the first time in any of the <b>Asphalt games, you can create your own online community of like-minded racer friends with the Club feature</b>. Collaborate with your fellow speed freaks and motor heads to race your best and unlock the best milestone rewards as you drive up the ranks of the multiplayer Club leaderboard.<br><br><b>The perfect game for fans of free arcade racing games, who love to experience games of driving fast, rebel drift racing, while weaving through the traffic of foreign cities, nitro-charged real racing cars, and power motor competition with high-end car brands!</b><br><br>The game is now optimized for the ASUS ROG Phone 3 and ROG TwinView Dock 3. Discover a brand-new Asphalt 9 experience!<br>____________<br>Visit our official site at http://gmlft.co/website_EN<br>Check out the new blog at http://gmlft.co/central<br><br>Don&#39;t forget to follow us on social media:<br>Facebook: http://gmlft.co/A9_Facebook<br>Twitter: http://gmlft.co/A9_Twitter<br>Instagram: http://gmlft.co/A9_Instagram<br>YouTube: http://gmlft.co/A9_Youtube<br>Forum: http://gmlft.co/A9_Forums<br><br>This app allows you to purchase virtual items within the app and may contain third-party advertisements that may redirect you to a third-party site.<br><br>Terms of Use: http://www.gameloft.com/en/conditions-of-use<br>Privacy Policy: http://www.gameloft.com/en/privacy-notice<br>End-User License Agreement: http://www.gameloft.com/en/eula',\n 'summary': 'Tear up the Asphalt & become the next Legend in the ultimate arcade racing game.',\n 'summaryHTML': 'Tear up the Asphalt &amp; become the next Legend in the ultimate arcade racing game.',\n 'installs': '50,000,000+',\n 'minInstalls': 50000000,\n 'score': 4.4591413,\n 'ratings': 1893064,\n 'reviews': 765447,\n 'histogram': [136915, 38146, 80251, 201275, 1436477],\n 'price': 0,\n 'free': True,\n 'currency': 'USD',\n 'sale': False,\n 'saleTime': None,\n 'originalPrice': None,\n 'saleText': None,\n 'offersIAP': True,\n 'inAppProductPrice': '$0.99 - $199.99 per item',\n 'size': '99M',\n 'androidVersion': 'Varies',\n 'androidVersionText': 'Varies with device',\n 'developer': 'Gameloft SE',\n 'developerId': '4826827787946964969',\n 'developerEmail': 'android.support@gameloft.com',\n 'developerWebsite': 'http://www.gameloft.com/',\n 'developerAddress': '14 rue Auber 75009 Paris',\n 'privacyPolicy': 'http://www.gameloft.com/privacy-notice/',\n 'developerInternalID': '4826827787946964969',\n 'genre': 'Racing',\n 'genreId': 'GAME_RACING',\n 'icon': 'https://play-lh.googleusercontent.com/cQBJ7Jwvz0jex8sL7LjgLId-wOdmMajSZbpC-bzHDhS5uK9Zms0fFsXEVNGvlIUk_g',\n 'headerImage': 'https://play-lh.googleusercontent.com/axDReyM8G5eSE4Oqo5JgH813v6gFFomg7uLCgVNacyCvD_d0DMS958jodD5U5Rn0MHc',\n 'screenshots': ['https://play-lh.googleusercontent.com/MJkJtRexZKxvZVOJzceFgPXqIAki7Wd6eo-3WPizgaSehJm96djF49Mngsr20walGg',\n  'https://play-lh.googleusercontent.com/hJ3B6q-lmTI_Sub60b2JiozK277i40Jb_tr-AuBa3dfqm1pD-kOnA0tY0CteBPXI5KQ',\n  'https://play-lh.googleusercontent.com/UOomsbuyHNkTsI5RPHewyWznFgEmQYb02Dt_7kr9uQquoRXzPrLSWV53vOaoTi4q_hA',\n  'https://play-lh.googleusercontent.com/z7tc7QVOWEw0Jxp0-FnktWLtrEUG4vjnExUnp2D1KrDLE-ZiOxOPkpFoy7WeO0_lgrdW',\n  'https://play-lh.googleusercontent.com/dXriyc1oLaSdBj0oW4gOJf1csOmsnySEkfMFJJ-ciXW9fXSbtarOEGfHVhmBfsKQqTU',\n  'https://play-lh.googleusercontent.com/hi0FdUGFowL_okSiRhym96Luo8WxGIOeTgXGqpNLX6rjav3KQ4C4Z4lqHlZG2BTXkjE',\n  'https://play-lh.googleusercontent.com/0SisvxFyBcdoHE3u_nFTecdAtlX5wSG8_6Bq26ejqpOVLFt4HpKYVxNmoUr3mQL1Is9E',\n  'https://play-lh.googleusercontent.com/4Qn-G2VaPjhiz_GFJfW9FJC5Sa65Qa8Z3utqlMv7LV-pK8fCDer9a-1UXmrvRb3_XNYU',\n  'https://play-lh.googleusercontent.com/z2jbOf_XsjrFCWGAcwUF5_njouK3ynNy3U6FNbxs3YrxTHrRRJAR6TZOsw2Ly2hAB_Y',\n  'https://play-lh.googleusercontent.com/Q5MgBR7nIR8LejJG3wMds_g8_0vS_z8x6gAiMNNQ96n58WeP1OL6OqXm8iW38IDn9Bk',\n  'https://play-lh.googleusercontent.com/xoG3wY1F1l-o2pTbTDQmGDlO5BEAYsfmCgyBfwhhAfeX-OovgCE8uFyk59K4xrYDN8I',\n  'https://play-lh.googleusercontent.com/5O08eka54U3GAjDDVTYSzUyFV9ztescHqgaj9CjWLRz0G-SYgdP4CfQOqHnL6ufCccA',\n  'https://play-lh.googleusercontent.com/byE6bxBV6GvpoiAkmZ9KSHmJn6-DYAQuBh-phLHumEYZNLwXs-ISP4E6lXasWk60ag',\n  'https://play-lh.googleusercontent.com/3zOFqctbHXizX7T0LVFWQVfC0aw97UkJ7C5tHs5y6JcRPCcEBIADdE1QZA199QIAhF4',\n  'https://play-lh.googleusercontent.com/NCBaPhWru1pJQeftKCeRA7OTyHSsgfQnBPIpuZYEzPhqsauLLkEvy6X1YIkaxBOKlQ0',\n  'https://play-lh.googleusercontent.com/LfqzL0SSngJRidchVFFoiMcLfhmMS5BH3NVg_TMsvMo7Z-Ylu70CweHXklGMlpm5C3bb',\n  'https://play-lh.googleusercontent.com/oVxNVZhgB3Jjj8awNVwvJpAJSAgChaIJKXB8-OefprGhuWC4KJQ6r-Cb5-Ie4X2QbaY',\n  'https://play-lh.googleusercontent.com/5ZeL-ZvzKOSRjBELLYfPgUQ7KIkBgJkRuEmcTPP4OvVxBit07zuWLGESdlk3KhTmSgay',\n  'https://play-lh.googleusercontent.com/_xoPsvFu6GlPK553fJxeyooBZ8mse3lvO_cNVcj1pw6xU8-sezndsHnTKSXIKprpTzdK',\n  'https://play-lh.googleusercontent.com/_O53uISU49VI-jzQFDOB9ijk_Go1hrzft8_9AgonTn92zsrNYse-PiYW-QymTjk7HQ',\n  'https://play-lh.googleusercontent.com/A5Hnva0wYMT2zg2CqyZI33d2CNZ8ozUIq3jPpSV_wjriIbYZJ-2izwBJiITm3RmYzw'],\n 'video': 'https://www.youtube.com/embed/VgCMOReW2zQ?ps=play&vq=large&rel=0&autohide=1&showinfo=0',\n 'videoImage': 'https://i.ytimg.com/vi/VgCMOReW2zQ/hqdefault.jpg',\n 'contentRating': 'Everyone 10+',\n 'contentRatingDescription': 'Mild Violence',\n 'adSupported': True,\n 'containsAds': True,\n 'released': 'Jul 25, 2018',\n 'updated': 1607608887,\n 'version': '2.6.3a',\n 'recentChanges': 'The holidays are coming a bit early this year, with some great new content to unwrap right now!\\r\\n• NEW LOCATION: Explore the Wild West for the first time in Asphalt 9 in the newly remastered Nevada location!\\r\\n• DRIVE SYNDICATE RETURNS: The next chapter of this intense story-driven event is finally here!\\r\\n• NEW CARS: Get your hands on new speed machines!\\r\\n• INBOX ADDED: Get all the latest game news with this new feature!\\r\\n• NEW SEASON AND EVENTS: Get ready for new special events and Grand Prix!',\n 'recentChangesHTML': 'The holidays are coming a bit early this year, with some great new content to unwrap right now!<br>• NEW LOCATION: Explore the Wild West for the first time in Asphalt 9 in the newly remastered Nevada location!<br>• DRIVE SYNDICATE RETURNS: The next chapter of this intense story-driven event is finally here!<br>• NEW CARS: Get your hands on new speed machines!<br>• INBOX ADDED: Get all the latest game news with this new feature!<br>• NEW SEASON AND EVENTS: Get ready for new special events and Grand Prix!',\n 'comments': ['Exellent gameplay and Legendary graphics.But the graphics are too realistic that it lags and glitches too much.I play it every morning but it always lags.It espessialy lags when you knock-out another player.Ill still give a 5-star rating because of the addictive gameplay.P.S: It doesnt let me change my name.Maybe just because im on chromebook. Edit: It gets a bit boring after a bit but its still fun enough so that I still play it.Ill give it a 3 or 4 star rating now.Also PAY 2 WIN!!!OOF!!!',\n  \"Game is great gameplay, graphics and missions wise. However, I hate their customer support. I bought a legend pass a week ago but it has not been activated for me yet. Also they seem to have deliberately made it difficult to find the customer support section. After searching for a while, I raised a ticket regarding the same but no reply from the support team ( it's been more than 5 days now). They don't even show the courtesy to let u know whether they are working on ur ticket.\",\n  'Well, it is fun. Though the people who pay money are getting a huge advantage compared to those who don\\'t, me included. I would say, instead of allowing the money spenders to have an advantage over the non spenders, maybe give all players the same things, except that the money payers get a head start. So for instance, the \"premium\" car hunts can be available for everyone, except that the money spenders are given more opportunities to earn blueprints or something like that.',\n  \"It really is the best looking and has the best gameplay/ controls. However .... Glitchy servers in multiplayer mode means the game crashes constantly! This wouldn't be so bad if it you didn't lose points when it does but you do! Also be prepared to grind it out for a long time if you don't want to spend real money on cars / upgrades. It definitely leans towards pay to win . Oh and there's lots of cheats! Silver cars in bronze league , gold cars in silver league and so on ..\",\n  \"It is been 2 years, I am playing. I have initially rated it to 5* considering the game play (graphic, control, routes, cars, competitions etc). The problem will start to come a year after once you catch up with most cars. You get nothing good with this game if you don't want to pay heavy. I understand that everything has a cost and players should contribute at some extent but their ask is unreasonable. They make it more unreasonable in each upgrade from all aspects for old players. GL fix it.\",\n  'This is my favourite game. Really good graphics. Wish u all bring the cars like totyta gtx, audi , ktm gt, nanoflow , drako , ruf ..... Really love this game and expecting more from u. And i wish there are more race track and music I also wish that all cars can be seen by us even if we have not yet obtained it. As soon as the perticular event finishes the cars disappeared. I hope that can be included.',\n  \"Ads became more aggressive now. They pop up even if I don't want to see them. Cars bought with money are more powerful than earned. Not to mention it takes forever to get a car by playing. There are some bugs with the auto-drive, crashes the car for no reason. Have to wait 3 hours to play with the only car in higher class just once, then wait again 3 hours. Police cars; unbelievably strong, too powerful. Multiplayer car dividation sucks, can't use your best car to climb rank. Asphlt 8 was better\",\n  \"Game keeps on crashing and force closes itself. Whenever you won the race with good lead and good rewards. The Game force closes many times frequently and all your good rewards earned were vanished in seconds . Though it's pay to win game, these type crashes makes this game more uncompetative & poor app development & immature way to make real gamers to go for pay for the in game packs that never ever happens. Suck it! Gameloft, even 20years of company. Useless ads & too much waiting for next.\",\n  \"Love the game but with the last update you ruined the graphics. At least on my phone the cars look different than before , they seem like they are flying on the asphalt without touching it , no more sparkling when you hit nitro , not the same feeling driving the cars. I don't know if it is just me or everything looks like a game from 10 years ago.\",\n  \"I like this game, but have some concerns. 1. Not an offline game 2. The graphics are fine, but ofter , I'd see the cars borders quite pixelated. 3. Recently, the game constants keeps crashing when I try to play the career mode. Pls check this out and fix it\",\n  'The new drive syndicate is great! This game may be pretty pay to win but you can compete it without spending a penny. The graphics and gameplay is next level. Great offers. I already bought the legend pass. Although the physics are a bit wonky and comical I would still 100% would recommend.',\n  \"Really really fun! While it does have some balance issues, the controls are great and it's honestly the best looking mobile game I've seen. Perfect for arcade racing fans; there's so much to do, great cars, and all ads are optional.\",\n  \"It's a great game and the gameplay is well made. I like the fact that you always have a chance to win the races. I understand that this is mobile game but the graphics could use a little spoofing. Over all it's a great game. You can watch a short video to get a good amount more of cash and it is really helpful.\",\n  \"Generally speaking, I enjoy this game. The racing's fun and there's a steady sense of progression. But, the game often crashes when I willingly watch ads for extra rewards, losing the reward and having to restart. This is unforgivable.\",\n  'I hope its not dissapoint everyone reading this but i got to tell u guys the real truth about this game. This game is getting worser every season , becoming more pay to win. The graphics are excellent but after playing more than one years i felt bored every day. They change the token system in weekly competition ,that not good. Last i would recommend not to play this pay to win game. I quit today',\n  \"It's pay to play. Take the Landslide level for example. It sets you up to fail from the start, I'm 150 points over recommendation, take short cuts, use purple/pink boost the entire level, and still come in second. Buy/get something else.\",\n  \"I still remember A9 was once fun back in 2018-early 2019, but now, just look at this game. I'm totally fine with paying something but this is way too much, no more old events to grab credits, bps or even tokens, reducing the ammount of rewards, even in Season Pass! Ultra aggresive AIs and adding sh*tty cops, I'm really done, GL, u'll never listen to us. Edit once more: one of the most terrible game company ever. Edit: wow, remove all MP rewards? God damn what a retard game company u are now....\",\n  \"New season, same mess. Reddish ghost cars racing backwards and forwards and always winning, popup from thin air, etc. Multiplayer is full of cheaters and worse than before. Gold, Siver and Bronze users racing in Silver league, etc. You win because of your ranking not because you're good or have the best car. Worst game ever. When will you fix the game problems and messy!?!?!? Don't waste your money. Game full of CHEATERS or whatever they're.\",\n  \"The game is fun and has good graphics.Progession without In app purchases is slow but still possible. The newly introduced seasons allow for mediocre rewards even without the paid legend pass. Sadly progression has slowed to a halt. I can't get any cars because they are impossible to afford with tokens. The current Drive syndicate event is terrible.Playing the same missions over and over doesn't even get you the new car. MP is horrible. rewards have been basically removed. Hopefully they change.\",\n  'Pay pay pay! Every menu item you tap will push you toward something you can buy with real cash. I get games have DLC, but you literally cannot do ANYTHING in A9 without being begged to spend actual money. Too pushy for sales, too many ads, and it seems GL has put gameplay on the back burner to focus on raking in the pennies. Utter, shameless greed at its finest.',\n  \"I love this game. I just wish that the company that controls this app would fix the reason why I have to shut it down so often. 50% of the time I have close all my recently opened apps and restart my phone to try to get it to work again. Most of the time even that doesn't work.\",\n  \"Great game but there are some downsides 1.A bit of lag and glitches 2.You have to play it 3 hours a day to unlock new cars but it's worth it. 3.The biggest downside is that it feels to me like a pay to win and even though this game has been so successful the ads are still poping up but I noticed a decrease in ads. Still I prefer it over many other games P.S THE GRAPHICS ARE EPIC!!\",\n  \"This game pushes you towards spending money. Because otherwise you don't get blueprint cards. Special Event races are getting biased day on day. Those users who don't have specific cars either let them free try the cars or let them play with other cars. The current way you cant play more than half of it. There is so much cheating going on in multiplayer as well as in other events which is not being checked.\",\n  \"After I made clear data to fix some lag occurred the last few days, I could not login to my Google account, thank you Gameloft, it blocked my account. I can't even log into my Facebook. I have bought two premium plus season. I missed the GP events after I get qualified.. Icontacted the support about the login issue, and they answered after three weeks with a stupid claims that my game installed from third party app. It's a horrible support. Such a waste of time and money on such a stupid game!\",\n  \"The Greatest Racing game of the Decade! Graphics are totally next level. Every minor things are specifically crafted. The Music blended with every scene creates marvelous experience. Don't feel guilty for purchasing items from the shop, cuz it's worth it.\",\n  'Only game in the world where you upgrade your car to make it slow, to loose the race, to make other cars or police car more aggressive. The game is design to not allow you to win. I bet no one can complete this game, even spending all your money. Most frustrating game ever. Not worth. Warning : do not install.',\n  \"It's an amazing game, the variety and visuals of each car are awesome. The tracks are beautifully made. One problem is that I keep disconnecting everytime I join a race. Please fix because I love this game.\",\n  \"Played car hunt everyday and only got les than 5 blueprints, they just fooling us! Season pass over priced for what we getting, real difference between someone who has it and someone who doesn't have - one car and gas for all cars; not worth it when considering what that one class B car can do for you. Not impressed at all! The game is enjoyable to beginners, when 80% complete with career races and above garage level 12 it becomes so boring 😴 - nothing to play for.\",\n  \"DEC 11/ 2020 Update: Gained 2⭐ again. Update: Really happy with the new episodes and vehicles added:) more cash for ads options great too:) thanks for making it a choice:) Original Post: Fun game, great cars and plenty of racing options. I'd like to see more episodes added bc, along with the multi or contest races, the episodes help keep your points up when you really need to keep your club numbers up. Please add more episodes. Thx\",\n  \"This game is great as a former asphalt 8 player this is a great successor Pro: 1.this game's graphics are just amazing 2.gameplay/controls is really good(people complain about the lag in the game but that's mostly due the fact ur phone isn't good enough ) 3.career is great Con: 1. this game takes a lot of time to progress 2. The multiplayer is just awful(for new players ) .... Well that's about it\",\n  'Please increase quality of graphics more and more like play station5,if possible.Improve visuals and effects to high degrees.Make game fast and smooth all time.Improve encounters,conflicts,events,tournaments,skills,risk,crash,hit,damage,speed,chasing and drifting,I want these all to be real,exciting and attractive.Add new races from different countries with real conditions of weather.Give me new updates monthly with all improvements of game performance.Design a new game like death race movie.',\n  \"Everything is good but the way you make players play game for the blueprints or any achievables is cruel as they take more time and effort. Another big minus point is battle pass it is still old fashioned and asphalt 9 plays hard to get. It should be based on how much time you play like Call of duty. You should learn from call of duty it treats it's users good like giving everything easily and getting new content what you do is play this to get that and for that play another forthat play another\",\n  \"Don't know why Gameloft is ruining the game for free to play players. I mean okay , those who want the best cars from the beginning of the game they have to pay. I am completely fine with that. What's annoying is that the progress has changed from grindable to p2w. Nowadays there's no ads also for the ad pack so forget it. So I am stuck in the career , nowhere to go. You have to now play exhaustingly to find 2-3 blueprints for a car. Please make the game grindable.\",\n  'just two issues 1. it is expensive 2. consumes lots of time other than that it is an Adictive game good entertainment, Good graphics, Good cars. The only problem is it consumes lots of time and it needs to pay lots of money to progress quiker otherwise you need to play for 6 to 8 months to be at good postion...',\n  'The game is good only in offline mode, when you play multiplayer you only get people that have better cars than you (+700 rank) and obviously ranking up is hard. Not recommended if you want an online experience. There are so many physics bugs.',\n  \"There's a problem, clicking on an ad to get double of finished race tokens eventually gives me a black screen and then game closes. Same with the ad blueprint for cars or parts. In all game is good with high graphics but bad in forcing me to use my credits.\",\n  'Was having a good time until I decided to purchase the legend pass. Since the purchase 3 days ago, I have not been able to access the legend pass benefits. The in game chat option is no help as I did not get a response. I will request for a refund and uninstall if this goes on.',\n  'Game was great until it broke on android 11. The way I play asphalt is i use dex on my tv with my note 20 ultra and an xbox controller. Ever since I updated to android 11, this game no longer works with my xbox controller. It seems to be an issue with the game, as I used an external app to test the gamepad and it detects all the buttons and thumbsticks properly. Please fix this.',\n  \"The game is exceptional. Even tho there are some bugs and physics work very strange somethimes, the game itself it's amazing. The 5th star is for you gameloft, even tho you do it for the money and somethings are quite expensive, you are close to your community and, compared to other companies, it is a big plus.\",\n  \"Multi-player is a pice of s....t. It's not like in other games where the match making is fair play... Here u need to invest a lot of many to have a chance with top cars from a class... At least remove knock-out from multi-player. It has great graphics, but only for that it doesn't deserve 1 star it's to much... Unistall this game and install NFS, much BETTER.\"],\n 'editorsChoice': True,\n 'appId': 'com.gameloft.android.ANMP.GloftA9HM',\n 'url': 'https://play.google.com/store/apps/details?id=com.gameloft.android.ANMP.GloftA9HM&hl=en&gl=us'}"
     },
     "metadata": {}
    }
   ],
   "source": [
    "display(tmp)"
   ]
  },
  {
   "cell_type": "code",
   "execution_count": 2,
   "metadata": {},
   "outputs": [
    {
     "output_type": "execute_result",
     "data": {
      "text/plain": [
       "1NSt52UmgHJLBUg',\n",
       "  'https://play-lh.googleusercontent.com/I2yMQNf1ndHkke5hg8Fuaf_rkDjX5gJnYBYvz25ZC8dpOufunjbNbAYH0KQ2em1AMa8',\n",
       "  'https://play-lh.googleusercontent.com/w5oKBNKIsd-czUYlimLh53kNKJqJdGgj4BHQe59qVOEsITsNFMbFxMGe0T1GBiJfZQ',\n",
       "  'https://play-lh.googleusercontent.com/cXM1XG3J5yXbm12OP6eZ30NHcdwMzgIHNgeOHcTO9cj1mVwnFozMqyK6X67LQAOp5Q',\n",
       "  'https://play-lh.googleusercontent.com/zqVVstU5aZj9k_y33LZWX7AzAfiONNXuWWN0ndbmdVEpzyidWXcj9I-G5IEN9ZZO0MUf',\n",
       "  'https://play-lh.googleusercontent.com/eIIOLTcs9Q_RwfRP5HH4uT0lVueKOKyLL6dm-_G_Pzwh_ck_HsaapB8UPoiG8WwC0g',\n",
       "  'https://play-lh.googleusercontent.com/OvXUrFTgGCyi0b43-k_WDhQOH-KgwwH3qIFTuhv55gLrpU8Ut3CzTqh1tooaBNY-xPE'],\n",
       " 'video': 'https://www.youtube.com/embed/v4YZqOfhEc8?ps=play&vq=large&rel=0&autohide=1&showinfo=0',\n",
       " 'videoImage': 'https://i.ytimg.com/vi/v4YZqOfhEc8/hqdefault.jpg',\n",
       " 'contentRating': 'Everyone',\n",
       " 'contentRatingDescription': 'Mild Fantasy Violence',\n",
       " 'adSupported': None,\n",
       " 'containsAds': False,\n",
       " 'released': 'Jul 6, 2016',\n",
       " 'updated': 1608671791,\n",
       " 'version': '0.195.2',\n",
       " 'recentChanges': 'Trainers! Are you ready to GO Beyond?\\r\\n- You can now GO Beyond level 40! Do you have what it takes?\\r\\n- Chespin, Fennekin, Froakie, and more Pokémon originally discovered in the Kalos region are now appearing in the wild! Have you caught one yet?\\r\\n- Leveling up is now more fun than ever. Enjoy a double Catch XP bonus through the end of December! If you get to level 40 before 2021, the Legacy 40 medal will be yours.\\r\\n- Improvements to the Egg inventory, AR Mapping tasks, and Pokémon HOME connectivity.',\n",
       " 'recentChangesHTML': 'Trainers! Are you ready to GO Beyond?<br>- You can now GO Beyond level 40! Do you have what it takes?<br>- Chespin, Fennekin, Froakie, and more Pokémon originally discovered in the Kalos region are now appearing in the wild! Have you caught one yet?<br>- Leveling up is now more fun than ever. Enjoy a double Catch XP bonus through the end of December! If you get to level 40 before 2021, the Legacy 40 medal will be yours.<br>- Improvements to the Egg inventory, AR Mapping tasks, and Pokémon HOME connectivity.',\n",
       " 'comments': [\"Its fun with the wife. But there are still some glaring issues. 1st, pokestop, I understand limiting the ability to level 38, but I've seen a few that need to be removed or updated/moved. 2nd, daily coin limits are way too low. I had 5 gyms defended for 2 days and all came back to me at the same time. The first one reached the daily limit of 50. 50! It costs 100 just to get 20 pokeballs. How lame is it im limited to getting 50 a day?\",\n",
       "  \"I love the game!!! Keeps you busy when your bored and you get good exercise! My daughter loves it as well, so its a win-win for me! :) But, I do wish that some different Pokemon would pop up every once in a while. Also, it takes way too long to level up. Needs to either be quicker to level up or a way for people to earn more XP. I played everyday for almost 2 weeks, and My XP bar looked pretty much full, but still didn't level up for like 3 or 4 days. Just ridiculous, if you ask me!!\",\n",
       "  \"Was a really good game up until a few months ago. All it is now is full of bugs, problems with launching the game, problems with not being able to attack on paid raid battles and much more. I've lost my patience with the Incompetent support team who only send automatic messages. Used to be a regular player for years, now I've just simply lost interest and I'm contemplating deleteting as its obvious nitanic is only concerned about making money and not fixing their broken game.\",\n",
       "  'I got this game for my son\\'s new tablet, an Android with Version 10, but the only thing it does is tell you that you have Pokeballs, and to try to catch a Pokemon. However, the character just stands on top of like 3 Pokemon and the \"Catch a Pokemon\" button does nothing. There\\'s no other options available and we can\\'t get anything to move. I did uninstall and reinstall, but it\\'s the same. Very disappointing.',\n",
       "  \"Little update on my old review. Was 3, now 2. There's been an uprising in errors for myself and a friend, who can't even access the app anymore. The shop doesn't work. I have to open the app 4 or 5 times to properly play the game without it saying 'try again later' for a few minutes at most. I feel like there should be a lot more Pokestops/gyms, or a daily bonus we can get, unlike the free shop items each day. Please sort out the errors most of all.\",\n",
       "  \"Why do the same Pokémon keep popping out??? It's extremely frustrating!! You can't progress in the game with the SAME ones popping out all the time. Im stuck in a spot in the game that I can't get past so it's becoming stagnant. I literally close the app as soon it opens if I see the same Pokémon standing there. Please put some diversity in this game. It's ridiculous!!\",\n",
       "  \"A genuine time and (if you let it) money killer. There's upwards of 600 different Pokémon to catch (not to mention different versions of some, male and female forms, shiny versions and mega evolutions) so there are plenty of them to spend time walking around (or driving) to find. The best way to keep your Pokéball count up, is to keep your friend count maxed out (currently 200) and give out as many gifts as possible every single day. Oh! And don't forget to collect your daily gift in the shop!\",\n",
       "  \"I love this game. Been playing it for over a year now. But, ever since the update I've had a lot of trouble opening the app. It either won't load, or it'll load partly and then crash and I will have to re open the app. Its been crashing in raids or won't respond to anything. Edit: I'm not sure if its just me but the Pokémon you catch and the ones the grunts have seem severely overpowered. I'm having trouble catching Pokémon with 0 stars and low CP even with a razz berry and ultra ball\",\n",
       "  \"loved the game for the first few years, now all it's managing to do is make me mad. since the halloween update, i have not been able to catch pokemon from raid battles regardless of what i do. the game itself glitches or there's just absolutely no catch rate to it. i would continue to gladly pay for small things although i don't think i'll be playing much longer.\",\n",
       "  \"I love this game I played it back in 2016 and started back up in February this year I love the graphics the music is good and battles with others are fun but there is one thing that makes this 4 stars you have to pay to stay at home to be safe from the virus going around to do remote raids I'm just saying maybe if we were to get 1 free remote raid pass a day or 1 every 2 days that would be great because I don't about you but I don't want the Coronavirus. Even if it's a dollar come on be real.\",\n",
       "  'They need to fix the trainer battles. I can\\'t stand the fact that I clicked the charged attack before my for could, especially while he was still using a standard attack and my pokemon will not attack. But my for will always have a jump on me, despite the fact that I attacked first. When I click \"x\" when I don\\'t want to use a raid pass. It uses it anyway. Other then that, the game is really fun and addicting.',\n",
       "  \"Very fun. Very grindy. Every year there's new improvements. New ways to play. Feels less F2P because of the events behind pay walls. Makes it harder to play with friends who aren't too into the game. Would be great if we could have more friends online. Also would be great if we could shine our badges like in Diamond/Pearl. I recall this helped me take more ownership of them. So that would be cool. 4/5 until it is more accessible for everyone. True F2P for those that choose to earn stuff.\",\n",
       "  \"This game is just amazing. Catching Pokémon, battling against raid bosses or in PvP, everything is fun! Also, I love how the economy works, almost everything can be acquired without paying a single dollar (that means: no P2W!). Other remarkable aspect is that you get rewarded for a lot of things, so the experience is really good. I've never liked going for a walk or biking as much as while playing Pokémon GO.\",\n",
       "  \"The only way to have good pokemon is by doing raids which, with covid is already a struggle because it costs to do them from afar, or, you have to be lucky and get a remote raid pass from a challenge. Then, regardless, you still need to go invite your friends which is hard and tedious. It's a very pathetic excuse of what pokemon would be like.\",\n",
       "  \"This has been a fantastic game from the start. The buddy feature bonus has been amazing. With my two sons and girlfriend all best friends on the game, there isn't a 5 star raid just the 4 of us can't take. I also love the remote raid passes. Making raids just a little out of the way attainable. Another huge feature with that is being able to invite friends to a raid that may be hundreds of miles away! Well done.👏👏👏\",\n",
       "  \"It's amazing at first. I love the game I usually like walking or jogging trails and catching Pokemon But my problem is with the many many glitches that this app has It has made me lose matches online, losing raids, and I can't even sign in half the time. It has come to a point where they update the game and still haven't fixed the big ones. This game has brought me so much joy! But they really need someone else to handle the issues. Because Niantic isn't cutting it.\",\n",
       "  \"I love this series. I played the game summer 2016. Honestly one of the most fun times with it when it worked. Its a mostly stable experience now, although I do have a newer phone so that probably helps. My three biggest issues being, 1) lack of coins leading to lack of funds to purchase more bag and box space. Really hate that. 2/3) the game's audio quality and resolution used to be much higher then they are now. Prefer that because I'll play with headphones on. (Yes, I enjoy this games music.)\",\n",
       "  \"Generally good for getting outdoors, and interacting w people. During covid, the game makers have been pretty good about adapting game play for those stuck inside. I like that I can advance through this game pretty well without having to pay actual money. Before covid, one of my favorite things about this game is that it helps get you outside (walking eggs, raids, etc.). They've managed to keep it interesting throughout the years I've played, but sometimes too many events happen at once\",\n",
       "  \"Love the game, I realy enjoy the Pokemon franchise. Definitely worth five stars. HOWEVER,a few things lve noticed: I didn't get any shineys until I spent a good amount of money, which made me raise an eyebrow but could be acoincidence. I run out of pokeballs WAY too fast, making me spend money to get more. I do work at a mall though, so l can grab a few at work. But overall the game is fun and exactly what I've come to expect from Pokemon.\",\n",
       "  \"Great game but the reason I rate it so low as a 3 star is because, I can't log into my account anymore. I tried pressing forgot password and entered in my email and username and it said something about not having any information regarded my email so therefore I can't get my password back. It also said that i may of signed in using Google, which I did. Now I can't sign in using the sign in with google because it says, unable to authenticate. Niantic, fix your game please\",\n",
       "  \"Ridiculously low catch rates for useless pokemon like the stupid ice cream cone. You cant catch them with 20 pokeballs. I loved the game originally, but it's just a big money grab now. You cant gwt very far without spending actual money which I refuse to do. Most of the raid bosses are impossible unless you have at least 5 friends. Its really gone downhill\",\n",
       "  \"I've been playing since 2016, so a long time. It has its ups and downs, but it has always managed to pull me back in. Lately, I don't know. The game is super glitchy and it unevenly distributes certain items like revives meaning some people get a lot, some none. And either I'm a really bad player or the game is glitchier for me than others which makes me not want to play anymore. So, that is my latest review. The updates were coolish.\",\n",
       "  \"Bugs in game or sign-in issues. I've filled out dozens of reports in game but only had 2 problems. Everything is automated and if your problem isn't in the cookie cutter mold you're ignored. When you do get a person, they give copy and paste answers that doesn't even apply to the problem. Zero support!\",\n",
       "  \"At the moment, this game is too heavy on pay to play; it refuses to open half the time on the loading screen and is moving so fast, that niantic are struggling to fix any new bugs. Saying that, I really like pokémon and nothing is going to stop me playing, especially when I've already invested 4 years of my life playing the game. If it wasn't pokémon and something else like HP then I wouldn't support it.\",\n",
       "  \"The game as it is right now is a horrible buggy mess. The game randomly crashes or won't load to begin with. The worst part right now has to be the remote raiding system. Out of the probably 15 raids I have done remotely over the past week or so, I have had my game freeze on every single one, forcing me to reset the game and try to reenter the lobby before either the raid was finished, or in some cases I ran out of time and lost my pass. Save your money and avoid raiding until this is fixed.\",\n",
       "  \"I love the game, but it's been glitching lately. I'll use a remote raid pass and then it won't let my guy make any hits. I can't even back out of it, I have to completley close the game. When I try to go back into it, it makes me use another remote raid pass but still starts the raid like I never left and only a few seconds left. This has happened to me three times already!!!\",\n",
       "  \"Edit: Looks like they might have changed it back! Still a fun game, but they recently updated Adventure Sync so that it looks at your GPS data and not your step count. I'm pretty bummed that I can't walk on a treadmill anymore to hatch eggs during a pandemic. You would need to have your location on at all times and actually walk some distance. Other than that, it'd be 5 stars from me.\",\n",
       "  \"Pay to win... Lots of glitches. When you click on an incense once it doesn't work. Later a few days later I will click on an incense to see if it works. Once again nothing. Then when I click on the incense again later it uses 3 incense all at once on me. Don't bother complaining about anything ever. They refuse to do anything to fix or reimburse you for paid items lost. I could continue to go on with all the problems this game has.\",\n",
       "  'Pretty great game, been playing since 2016. Far from perfect by a mile but still a fun game to pick up and play around with for a while. I usually stop and start months apart and see the improvements to it as time goes on. Perfect for playing when traveling as Pokemon seem to at least somewhat change based on where you are. And you can usually find people in your community to play the game with. I know there is at least one group who participates in raids frequently near me as a group for safety',\n",
       "  'This game use to be fun back then. Quick entertaining and filled your spare time. Now most of the time lagging, need to keep relaunch. Apart from that, nowadays more on money making scheme. My partner lost interest to it. Besides that, the progress for program now not worth it like mega revolution, just can be used up to 4 hours instead of permanent own after all the effort put by players.Developer should analyst players interest & loyalty towards to this game. From what I can see, getting bored',\n",
       "  \"This game is ok overall. The graphics are good so are the controls even though sometimes it doesn't count my steps and when throwing the poke ball it sometimes doesn't even launch in the direction you flung it in. The gameplay could definitely be better, the game is fun but gets boring rather quickly and eventually becomes pay to win since you run out of poke balls quick and to get more you need to pay real money for poke coins at a ridiculous price.\",\n",
       "  'I like the game, but it has become very unreliable, slows down, freezes, appears to concentrate more on unnecessary graphics and less on game playing. It has lost contact with it\\'s users and moved too far away from its basic concept. It would help if the \"you\\'re going too fast\" banner was replaced with a radio button showing current speed.',\n",
       "  \"To me, they've done everything right. They have adjusted the game to fit the pandemic. Everything they implement is to get people to GO OUT AND GET SOME FRESH AIR safely so they don't sit at home all day. Even when they remove bonuses, the game is fully playable in a safe environment. The only time it's not as playable is when under complete quarantine. People who complain about that probably aren't traveling anyway. Niantic and the Pokémon team are doing a great job.\",\n",
       "  \"After playing this game for a few years, the only thing really annoying is that you don't get pokemon spawns everywhere. There are a lot of locations where there is nothing. I live in suburbs. I have to drive 15min just to play. Other then that, everything with the game I find great. Minor glitches here and there but it's technology... It happens... Then there is the silly prices for some of the research tasks. I don't mind paying $1 (CAD)... But $10.99 (CAD) for not so great rewards....\",\n",
       "  'This is a very good game and very entertaining.. I m a big pokemon fan and this game is perfect for me ,, but there is only one problem that near my location there is not even a single pokestop or gym due to which I face many problems please spot some pokestops near my location so i can play better ,, I m from India please fix it ... i m requesting you ...',\n",
       "  \"I love this game 100% I have had some problems with buying tickets in every event. I will uninstall the game and reinstall it back on my phone and the ticket buying works. It has rough putting so much money and time into this game n not getting shiny pokemon. I have been seeing that here lately I haven't gotten any shiny pokemon even though I play from sun up to sun down. I will continue to keep trying just hope I can get what I go for. 😊\",\n",
       "  \"Been playing for years now , the only reason the 2 stars are missing is because of the laggy gameplay . No matter what kind of processor you have , it doesn't give you the option to select your frame rate . Even though I have a 120hz screen I'd be happy with even 60 fps at this point but after I start the game it's capped at 30 . And so far I haven't found a way to get rid of that cap . Put in an option to select your own frame rates and the experience would grow tenfolds , thank you .\",\n",
       "  \"Fun game only started a couple months ago so I was late to the party but all in all can't really complain. There were a few issues with not being able to raid but still took my pass off me, and the not being able to play with your buddy without it glitching and restarting but I think that's been fixed. Also because of a new lockdown in my area it it a little difficult to play properly. Anyway fun game :)\",\n",
       "  \"I've played this game since the release & made purchases with the store without complications until recently when items I bought weren't deposited into my inventory. I reached out to support, but was blown off twice saying it was my error in discarding or using the items, which clearly wasn't the case. After receiving no help from support, I looked up the issue online & learned I am hardly the only person to have this problem & be completely ignored by their troubleshooting team. Uninstalling.\",\n",
       "  \"I have been playing this game for several years, off and on. Im glad to see all the updates they have made over the years. However, it seems to becoming more pay to play. For example, I'm disappointed to have a pokemon sit in a gym for 48+ hours to earn only 50 coins. Would like for a better coin drop rate when its earned from those of us that grind.\"],\n",
       " 'editorsChoice': True,\n",
       " 'appId': 'com.nianticlabs.pokemongo',\n",
       " 'url': 'https://play.google.com/store/apps/details?id=com.nianticlabs.pokemongo&hl=en&gl=us'}"
      ]
     },
     "metadata": {},
     "execution_count": 2
    }
   ],
   "source": [
    "result = app(\n",
    "    'com.nianticlabs.pokemongo',\n",
    "    lang='en', # defaults to 'en'\n",
    "    country='us' # defaults to 'us'\n",
    ")\n",
    "result"
   ]
  },
  {
   "cell_type": "code",
   "execution_count": 7,
   "metadata": {},
   "outputs": [
    {
     "output_type": "execute_result",
     "data": {
      "text/plain": [
       "list"
      ]
     },
     "metadata": {},
     "execution_count": 7
    }
   ],
   "source": [
    "c = result.get('comments')\n",
    "type(c)"
   ]
  },
  {
   "cell_type": "code",
   "execution_count": 11,
   "metadata": {},
   "outputs": [
    {
     "output_type": "execute_result",
     "data": {
      "text/plain": [
       "\"Was a really good game up until a few months ago. All it is now is full of bugs, problems with launching the game, problems with not being able to attack on paid raid battles and much more. I've lost my patience with the Incompetent support team who only send automatic messages. Used to be a regular player for years, now I've just simply lost interest and I'm contemplating deleteting as its obvious nitanic is only concerned about making money and not fixing their broken game.\""
      ]
     },
     "metadata": {},
     "execution_count": 11
    }
   ],
   "source": [
    "c[2]"
   ]
  },
  {
   "cell_type": "code",
   "execution_count": 12,
   "metadata": {},
   "outputs": [],
   "source": [
    "from google_play_scraper import Sort, reviews"
   ]
  },
  {
   "cell_type": "code",
   "execution_count": 43,
   "metadata": {},
   "outputs": [],
   "source": [
    "result, continuation_token = reviews(\n",
    "    'com.fantome.penguinisle',\n",
    "    lang='en', # defaults to 'en'\n",
    "    country='us', # defaults to 'us'\n",
    "    sort=Sort.MOST_RELEVANT, # defaults to Sort.MOST_RELEVANT\n",
    "    count=6 # defaults to 100\n",
    "    #filter_score_with=5 # defaults to None(means all score)\n",
    ")"
   ]
  },
  {
   "cell_type": "code",
   "execution_count": 44,
   "metadata": {},
   "outputs": [
    {
     "output_type": "execute_result",
     "data": {
      "text/plain": [
       "[{'reviewId': 'gp:AOqpTOEUIE9yi7sE2ESyjLp-Ogd2QhlxTzzoiv3AqOXwAdguCHqRWECjGwAJTpzpbAHFA2t-igW7IiYeZg-r7L8',\n",
       "  'userName': 'Kristin Treadway',\n",
       "  'userImage': 'https://play-lh.googleusercontent.com/a-/AOh14Ggz-KabgT5vR57Lu8bo5F1T6PtH-pYOlYlQ3vnb6w',\n",
       "  'content': \"Update 12/7/20: Pixel issue seems to be resolved. It's a fun game, although it gets rather repetitive and tedious. It would be nice if there were some different challenges. 3 stars Having issues on my Google Pixel 4. App keeps crashing. I saw a note stating they are working on the issue so I will adjust my review as soon as it's resolved!\",\n",
       "  'score': 3,\n",
       "  'thumbsUpCount': 16,\n",
       "  'reviewCreatedVersion': '1.28.2',\n",
       "  'at': datetime.datetime(2020, 12, 7, 22, 35, 8),\n",
       "  'replyContent': 'Hi, please update the game to the latest version 1.28.1 and try again, we have fixed it, If you still have problems, please contact us at penguinisle@habby.com to help you.',\n",
       "  'repliedAt': datetime.datetime(2020, 12, 2, 15, 24, 48)},\n",
       " {'reviewId': 'gp:AOqpTOFGqqeh7-jHhrxXoG1msuhPqiaP12mNvHFn_bP8ZpXLIATvcTq3L2djW88_8QjY-vuqZfPZdSUG-l8kfhE',\n",
       "  'userName': 'Avroix',\n",
       "  'userImage': 'https://play-lh.googleusercontent.com/a-/AOh14GjH-p9utMY4qf0mokcuKi2RYy7buUAJUUpRkVM_',\n",
       "  'content': 'I really want to love this game; I do. But after you unlock the antarctic base, as another reviewer said, any forward progress just stops. You can\\'t buy more penguins, which means you have a low heart gain, so you can\\'t upgrade the exhibits, and the penguins cost too much more to level compared to what they give back. I get that the developers probably did it on purpose, but this game just becomes a question of \"how many ads do I feel like watching today?\" And the fun is lost.',\n",
       "  'score': 2,\n",
       "  'thumbsUpCount': 32,\n",
       "  'reviewCreatedVersion': '1.28.2',\n",
       "  'at': datetime.datetime(2020, 12, 20, 13, 52, 10),\n",
       "  'replyContent': \"Hello, We will gradually improve the various systems in the game to enhance the player's game experience. feel free to contact us at penguinisle@habby.com.\",\n",
       "  'repliedAt': datetime.datetime(2020, 12, 20, 21, 33, 59)},\n",
       " {'reviewId': 'gp:AOqpTOFUUH-40mH3I-TTjIu_saCwcrKOsPtIZwDJIFApI55WjE1MFagc4zhGiZm5PsGxcFpvnbvtx1nALEVDlVQ',\n",
       "  'userName': 'pronay roy choudhury',\n",
       "  'userImage': 'https://play-lh.googleusercontent.com/a-/AOh14GicLsKqn5nJJwgbG6hGqsiiovc5TO73bsEVA4NIRQ',\n",
       "  'content': 'Brilliant game. Easy-Simple-Sweet ! a simple game that would get you addicted. Very easy to play. Lots of Penguines. Lots of Gold. I love that Gold Unit, marked as \"a\", \"b\", \"c\" instead of \"K\" ! brilliant game. but i feel, it needs more guidelines or Help option, to understand Game features.',\n",
       "  'score': 4,\n",
       "  'thumbsUpCount': 0,\n",
       "  'reviewCreatedVersion': '1.28.2',\n",
       "  'at': datetime.datetime(2020, 12, 26, 12, 37, 13),\n",
       "  'replyContent': None,\n",
       "  'repliedAt': None},\n",
       " {'reviewId': 'gp:AOqpTOGy9nOPTyhzs5-RXy_VN2F7GrGSQSbHGVbJ7vtC57OLeDYr0zyflz0SC0abMDkULK3shu7dcgeHR-jUGEI',\n",
       "  'userName': 'Megan W.',\n",
       "  'userImage': 'https://play-lh.googleusercontent.com/-6Xt7OH2EREk/AAAAAAAAAAI/AAAAAAAAAAA/AMZuuclCELzWbJsnaCX3IYiRtPnPb_pYAg/photo.jpg',\n",
       "  'content': \"The game is cute. but eventually you hit a wall. You watch many many adds for the treasure ship, gift box, and so on to get gold to level up your iceberg. You get 20 penguins per specie. however once you get to the whale nest its over.Typically 20penguin gets you up 3 currency levels. Then suddenly its 7, it takes weeks to get that far. the island after doesn't unlock anymore penguins, it's another 7 lvls then who knows after. its to pay to play. I regret spending $.\",\n",
       "  'score': 2,\n",
       "  'thumbsUpCount': 0,\n",
       "  'reviewCreatedVersion': '1.28.2',\n",
       "  'at': datetime.datetime(2020, 12, 24, 5, 44, 47),\n",
       "  'replyContent': None,\n",
       "  'repliedAt': None},\n",
       " {'reviewId': 'gp:AOqpTOF1jKqIcKdzXrgrQjC8A-REc_hq0s45_TcOTSVnXyxyXfDeK4DbFcZ7ySUVO8-W5POZ5bknQ-FGyS2FmYs',\n",
       "  'userName': 'Paolo Rudelli',\n",
       "  'userImage': 'https://play-lh.googleusercontent.com/a-/AOh14GhX9xZUkrHxnfUzEOBmOOHmSbPvTKriArDBsol6c6U',\n",
       "  'content': \"I really love this game, relaxing and beautiful graphics but he as many bug related to ads that is damn frustrating to play it: Some times ads play at max volume even if sound on the device is off If you see the ads to get treasure and you press install, the app relaunch and you don't get the gold and you don't have anymore the possibility to resee another ads.\",\n",
       "  'score': 1,\n",
       "  'thumbsUpCount': 0,\n",
       "  'reviewCreatedVersion': '1.28.2',\n",
       "  'at': datetime.datetime(2020, 12, 26, 14, 32, 48),\n",
       "  'replyContent': 'Sorry, if there is a problem with the ad, Can you tell us which advertising? our email is penguinisle@habby.com. If you are willing to provide us with more information,screenshots or video, it may help us solve this problem.Thank you for your feedback.\\n',\n",
       "  'repliedAt': datetime.datetime(2020, 12, 26, 19, 22, 18)},\n",
       " {'reviewId': 'gp:AOqpTOFU0kKu8xVREKwBorltzaFsC5GNxs9xiXOzwx8Uy636vfjLGzpUdQ1_xwcxM1G-C8OWvC-wyioprKxROiA',\n",
       "  'userName': 'Ben Furness',\n",
       "  'userImage': 'https://play-lh.googleusercontent.com/a-/AOh14GjW03kmnbp1luimf3-f9Zgbe67GaZHAZs35dJEL',\n",
       "  'content': \"A fun little time killer, gentle gameplay and not a bad idle. Rated as only average though as my offline rewards don't work properly anymore which makes the whole idea of an idle game pretty pointless. What's the point of going offline if it doesn't keep collecting your rewards? i.e I currently earn 5ax per second, I go away, return to collect my 360minutes of offline rewards which apparently amounts to around 100ax! Ridiculous, should get around 300ax an hour, or 1.8ay after 360mins offline.\",\n",
       "  'score': 3,\n",
       "  'thumbsUpCount': 0,\n",
       "  'reviewCreatedVersion': '1.28.2',\n",
       "  'at': datetime.datetime(2020, 12, 20, 18, 31, 37),\n",
       "  'replyContent': None,\n",
       "  'repliedAt': None}]"
      ]
     },
     "metadata": {},
     "execution_count": 44
    }
   ],
   "source": [
    "result"
   ]
  },
  {
   "cell_type": "code",
   "execution_count": 16,
   "metadata": {},
   "outputs": [
    {
     "output_type": "execute_result",
     "data": {
      "text/plain": [
       "<google_play_scraper.features.reviews.ContinuationToken at 0x29cc0595a08>"
      ]
     },
     "metadata": {},
     "execution_count": 16
    }
   ],
   "source": [
    "continuation_token"
   ]
  },
  {
   "cell_type": "code",
   "execution_count": 41,
   "metadata": {},
   "outputs": [],
   "source": [
    "result, _ = reviews(\n",
    "    'com.fantome.penguinisle',\n",
    "    lang='en', # defaults to 'en'\n",
    "    country='us', # defaults to 'us'\n",
    "    sort=Sort.MOST_RELEVANT,\n",
    "    continuation_token=continuation_token # defaults to None(load from the beginning)\n",
    ")"
   ]
  },
  {
   "cell_type": "code",
   "execution_count": 42,
   "metadata": {},
   "outputs": [
    {
     "output_type": "display_data",
     "data": {
      "text/plain": "[{'reviewId': 'gp:AOqpTOGy9nOPTyhzs5-RXy_VN2F7GrGSQSbHGVbJ7vtC57OLeDYr0zyflz0SC0abMDkULK3shu7dcgeHR-jUGEI',\n  'userName': 'Megan W.',\n  'userImage': 'https://play-lh.googleusercontent.com/-6Xt7OH2EREk/AAAAAAAAAAI/AAAAAAAAAAA/AMZuuclCELzWbJsnaCX3IYiRtPnPb_pYAg/photo.jpg',\n  'content': \"The game is cute. but eventually you hit a wall. You watch many many adds for the treasure ship, gift box, and so on to get gold to level up your iceberg. You get 20 penguins per specie. however once you get to the whale nest its over.Typically 20penguin gets you up 3 currency levels. Then suddenly its 7, it takes weeks to get that far. the island after doesn't unlock anymore penguins, it's another 7 lvls then who knows after. its to pay to play. I regret spending $.\",\n  'score': 2,\n  'thumbsUpCount': 0,\n  'reviewCreatedVersion': '1.28.2',\n  'at': datetime.datetime(2020, 12, 24, 5, 44, 47),\n  'replyContent': None,\n  'repliedAt': None},\n {'reviewId': 'gp:AOqpTOF1jKqIcKdzXrgrQjC8A-REc_hq0s45_TcOTSVnXyxyXfDeK4DbFcZ7ySUVO8-W5POZ5bknQ-FGyS2FmYs',\n  'userName': 'Paolo Rudelli',\n  'userImage': 'https://play-lh.googleusercontent.com/a-/AOh14GhX9xZUkrHxnfUzEOBmOOHmSbPvTKriArDBsol6c6U',\n  'content': \"I really love this game, relaxing and beautiful graphics but he as many bug related to ads that is damn frustrating to play it: Some times ads play at max volume even if sound on the device is off If you see the ads to get treasure and you press install, the app relaunch and you don't get the gold and you don't have anymore the possibility to resee another ads.\",\n  'score': 1,\n  'thumbsUpCount': 0,\n  'reviewCreatedVersion': '1.28.2',\n  'at': datetime.datetime(2020, 12, 26, 14, 32, 48),\n  'replyContent': 'Sorry, if there is a problem with the ad, Can you tell us which advertising? our email is penguinisle@habby.com. If you are willing to provide us with more information,screenshots or video, it may help us solve this problem.Thank you for your feedback.\\n',\n  'repliedAt': datetime.datetime(2020, 12, 26, 19, 22, 18)},\n {'reviewId': 'gp:AOqpTOFU0kKu8xVREKwBorltzaFsC5GNxs9xiXOzwx8Uy636vfjLGzpUdQ1_xwcxM1G-C8OWvC-wyioprKxROiA',\n  'userName': 'Ben Furness',\n  'userImage': 'https://play-lh.googleusercontent.com/a-/AOh14GjW03kmnbp1luimf3-f9Zgbe67GaZHAZs35dJEL',\n  'content': \"A fun little time killer, gentle gameplay and not a bad idle. Rated as only average though as my offline rewards don't work properly anymore which makes the whole idea of an idle game pretty pointless. What's the point of going offline if it doesn't keep collecting your rewards? i.e I currently earn 5ax per second, I go away, return to collect my 360minutes of offline rewards which apparently amounts to around 100ax! Ridiculous, should get around 300ax an hour, or 1.8ay after 360mins offline.\",\n  'score': 3,\n  'thumbsUpCount': 0,\n  'reviewCreatedVersion': '1.28.2',\n  'at': datetime.datetime(2020, 12, 20, 18, 31, 37),\n  'replyContent': None,\n  'repliedAt': None}]"
     },
     "metadata": {}
    }
   ],
   "source": [
    "display(result)"
   ]
  },
  {
   "cell_type": "code",
   "execution_count": 46,
   "metadata": {},
   "outputs": [],
   "source": [
    "from google_play_scraper import reviews_all"
   ]
  },
  {
   "cell_type": "code",
   "execution_count": 47,
   "metadata": {},
   "outputs": [],
   "source": [
    "result = reviews_all(\n",
    "    'com.fantome.penguinisle',\n",
    "    sleep_milliseconds=0, # defaults to 0\n",
    "    lang='en', # defaults to 'en'\n",
    "    country='us', # defaults to 'us'\n",
    "    sort=Sort.MOST_RELEVANT # defaults to Sort.MOST_RELEVANT\n",
    "    #filter_score_with=5 # defaults to None(means all score)\n",
    ")"
   ]
  },
  {
   "cell_type": "code",
   "execution_count": 49,
   "metadata": {},
   "outputs": [
    {
     "output_type": "execute_result",
     "data": {
      "text/plain": [
       "17731"
      ]
     },
     "metadata": {},
     "execution_count": 49
    }
   ],
   "source": [
    "len(result)"
   ]
  },
  {
   "cell_type": "code",
   "execution_count": 48,
   "metadata": {},
   "outputs": [
    {
     "output_type": "execute_result",
     "data": {
      "text/plain": [
       "ing to provide us with more information,screenshots or video, it may help us solve this problem.Many thanks.',\n",
       "  'repliedAt': datetime.datetime(2020, 7, 7, 15, 52, 24)},\n",
       " {'reviewId': 'gp:AOqpTOFrfL_7XtXzXVU5GomUKpcehwEA1W86iHbswFF8HyRGrgFQx4HCpBeKM9ZUW9ZXpYgBcA0-WdOq5HimGkQ',\n",
       "  'userName': 'Chase Kerr',\n",
       "  'userImage': 'https://play-lh.googleusercontent.com/-4_8nis_P2tk/AAAAAAAAAAI/AAAAAAAAAAA/AMZuuckLD1Tr74lUzU4uSpdJsysUGdDgRg/photo.jpg',\n",
       "  'content': 'As a penguin lover, this game piqued my interest from the beginning. Being my first idle game, I have been quite impressed with how much I enjoy playing to level up my ice berg and increase my penguin population. 5 flippers out of 5.',\n",
       "  'score': 5,\n",
       "  'thumbsUpCount': 0,\n",
       "  'reviewCreatedVersion': '1.24.3',\n",
       "  'at': datetime.datetime(2020, 8, 15, 15, 33, 6),\n",
       "  'replyContent': None,\n",
       "  'repliedAt': None},\n",
       " {'reviewId': 'gp:AOqpTOGGL67VXtQqtPxoOSrjEAB1II5ZagzDF0rk4SE2XUzLUeYLPunihzVBnXlNeY5wLMZbU6q7gwpjI0cf3e8',\n",
       "  'userName': 'JoHin',\n",
       "  'userImage': 'https://play-lh.googleusercontent.com/a-/AOh14GjdGeT1bIj7LA3pauLG1NohpoAXW6dA8oJKDe8w',\n",
       "  'content': \"It's so fun and relaxing, it has great visuals while the gameplay is quite like them click to earn money games which I don't normally like but the customisation as well as the 3d graphics make it a really great game 😃\",\n",
       "  'score': 5,\n",
       "  'thumbsUpCount': 2,\n",
       "  'reviewCreatedVersion': '1.24.0',\n",
       "  'at': datetime.datetime(2020, 7, 18, 14, 58, 18),\n",
       "  'replyContent': None,\n",
       "  'repliedAt': None},\n",
       " {'reviewId': 'gp:AOqpTOE8Y9FEEduEhfzdoqmAtiD3jP1b3vhyBGGXEJ-scc3obwxZ-IXAJO1LLAmvaRBP0vMRAqdAVFz73AVoQjk',\n",
       "  'userName': 'Ed Cera',\n",
       "  'userImage': 'https://play-lh.googleusercontent.com/-tvUqi1N--Cw/AAAAAAAAAAI/AAAAAAAAAAA/AMZuuckqwRdrgHgEkEEJPC4v--HpD3jMKg/photo.jpg',\n",
       "  'content': \"A relaxing game, that's cute. I do have problems with the game getting to a point of dullness, there's a lot of ads (semi-optional).\",\n",
       "  'score': 3,\n",
       "  'thumbsUpCount': 0,\n",
       "  'reviewCreatedVersion': '1.26.0',\n",
       "  'at': datetime.datetime(2020, 10, 1, 4, 19, 16),\n",
       "  'replyContent': 'Hello, We will optimize and improve the game in the future, If you need help, please contact us at penguinisle@habby.com. Have a nice day!',\n",
       "  'repliedAt': datetime.datetime(2020, 10, 1, 10, 29, 55)},\n",
       " {'reviewId': 'gp:AOqpTOGaoIFXy5rrCYnWOetdialzwSJUGlXmyoxKpFX5HANmZj3Nki0Y6tBo8snCaZIE-veyrF2wxP4a4U4JKuE',\n",
       "  'userName': 'Chelsea Craig',\n",
       "  'userImage': 'https://play-lh.googleusercontent.com/a-/AOh14GgXU3se30slAKOxpc9LYy3i222sYf5_2GuWHSAAkw',\n",
       "  'content': \"Please bring back the other quests, if I can only have 30 decorations out at a time, there's no point in building more ! This is a bit boring now without those challenges to do\",\n",
       "  'score': 3,\n",
       "  'thumbsUpCount': 1,\n",
       "  'reviewCreatedVersion': '1.23.1',\n",
       "  'at': datetime.datetime(2020, 7, 13, 16, 58, 2),\n",
       "  'replyContent': 'Sorry, due to the game performance issues, we have set limits currently, we will optimize and improve the game in the future, so more space will come soon, Thank you for your understanding.',\n",
       "  'repliedAt': datetime.datetime(2020, 7, 13, 17, 49)},\n",
       " {'reviewId': 'gp:AOqpTOGvRDOGBurGWPRxB3b4Z09SBtJ0lswgAcPILp3d4Es72B3iVoj0jQ9aMTP1GiAfo83vTi2o71-Re5euXiM',\n",
       "  'userName': 'GeNeRaL SkIpPeR',\n",
       "  'userImage': 'https://play-lh.googleusercontent.com/a-/AOh14GgL3zbiZFVOCESW5VXfk4-qM5m0nWaU3POMYglj',\n",
       "  'content': 'This is one of the most relaxing game I found on google play.',\n",
       "  'score': 5,\n",
       "  'thumbsUpCount': 0,\n",
       "  'reviewCreatedVersion': '1.28.2',\n",
       "  'at': datetime.datetime(2020, 12, 22, 19, 23, 13),\n",
       "  'replyContent': None,\n",
       "  'repliedAt': None},\n",
       " {'reviewId': 'gp:AOqpTOFp_6g4dntbCfwBvxB5n89n7_C4Ag4IE7BehaS1wv9Sq0lTIsKW8v0AYNN6s54l2q3ls2R3klcn-tAzva0',\n",
       "  'userName': 'TheTrueAAndy - Andy Long',\n",
       "  'userImage': 'https://play-lh.googleusercontent.com/a-/AOh14GhO9KkRreNwKc8WOV0LMkB4Loh5S3vXuDLGp3bRkQ',\n",
       "  'content': \"this is a really good game because almost all the ads are optional meaning if you don't want to watch ads you don't have to watch ads. that and ads are being used to create a greater experience for the game instead of requiring you to watch An ad to do things\",\n",
       "  'score': 5,\n",
       "  'thumbsUpCount': 0,\n",
       "  'reviewCreatedVersion': '1.25.2',\n",
       "  'at': datetime.datetime(2020, 9, 20, 12, 51, 58),\n",
       "  'replyContent': None,\n",
       "  'repliedAt': None},\n",
       " {'reviewId': 'gp:AOqpTOFrR0MGu_muFDdgZlAi1v37YqCL6YN0bDtHgU7pgynFyNp0b3jB9riH0qpKFTksNyxu5p5REb9XX_E1c4k',\n",
       "  'userName': 'Daniel Senn',\n",
       "  'userImage': 'https://play-lh.googleusercontent.com/a-/AOh14Gi6OG_wh9JTWJMPdtzomNl9XFZwosqxlsu7b4SM',\n",
       "  'content': \"Ads don't work.\",\n",
       "  'score': 2,\n",
       "  'thumbsUpCount': 0,\n",
       "  'reviewCreatedVersion': '1.28.0',\n",
       "  'at': datetime.datetime(2020, 12, 1, 15, 19, 5),\n",
       "  'replyContent': 'Hello,We are very sorry to have caused you trouble, We will find ways to optimize the advertising in the future. Please restart the game and phone or switch networks between 4G and WiFi and try again, If still have problems, please contact us at penguinisle@habby.com to help you.',\n",
       "  'repliedAt': datetime.datetime(2020, 12, 1, 15, 30, 43)},\n",
       " {'reviewId': 'gp:AOqpTOEZv7vc9A-mAYbgdzE52K4xu0CGQe28-hU0p5h8q7suaoUtNKfx465FewUXlIc21Li-nR_WbT6UXdTtLxU',\n",
       "  'userName': 'Gianni Sorrentino',\n",
       "  'userImage': 'https://play-lh.googleusercontent.com/a-/AOh14Gh67kbWPf-gzIKu8LX5sIiR2eh19hqfB2XNtoUAWQ',\n",
       "  'content': 'Cool idle game, except for the treasure ship: I have an adblocker installed on my device, and since there is no in game currency to \"buy\" it except for ads, I can\\'t unlock quests.',\n",
       "  'score': 4,\n",
       "  'thumbsUpCount': 0,\n",
       "  'reviewCreatedVersion': '1.25.2',\n",
       "  'at': datetime.datetime(2020, 9, 19, 7, 14, 44),\n",
       "  'replyContent': None,\n",
       "  'repliedAt': None},\n",
       " {'reviewId': 'gp:AOqpTOEgbT1zQVUyEGIIJgav4DOAI0kXfC_I0OO9lHPDnnCZpCY_UweTxW_Hi7Wbw1DHeKdCPT1QtPM9sCgxs7k',\n",
       "  'userName': 'Dom the Smoothie',\n",
       "  'userImage': 'https://play-lh.googleusercontent.com/a-/AOh14GiKQ9dZRVh-JxddpwwhY4UQPr4b1i5O8H_a9Y5L',\n",
       "  'content': \"This game is just what I needed to have it's fun slow paced and you don't have to fret about me asking times; r certain things ngs on the game\",\n",
       "  'score': 5,\n",
       "  'thumbsUpCount': 0,\n",
       "  'reviewCreatedVersion': '1.26.1',\n",
       "  'at': datetime.datetime(2020, 10, 10, 21, 27, 23),\n",
       "  'replyContent': None,\n",
       "  'repliedAt': None},\n",
       " {'reviewId': 'gp:AOqpTOFsPvG2NtGGvw3xDakxwqJqsiPwPQLupqphyyMnVnOpEjU9Dnw5krFfJTQVIobwxJZ6yGOENqmozn7vs-w',\n",
       "  'userName': 'Degenerate Muffin',\n",
       "  'userImage': 'https://play-lh.googleusercontent.com/a-/AOh14GiFycfKzEFuacpkox4D_X6tRi1Mqv0mDWh8UCAGHA',\n",
       "  'content': 'Great game, very calm and peaceful, I like the ads about the penguins as well, I leanred some things I didnt know about penguins, keep up the good work!',\n",
       "  'score': 5,\n",
       "  'thumbsUpCount': 0,\n",
       "  'reviewCreatedVersion': '1.24.2',\n",
       "  'at': datetime.datetime(2020, 7, 23, 22, 7, 6),\n",
       "  'replyContent': None,\n",
       "  'repliedAt': None},\n",
       " {'reviewId': 'gp:AOqpTOG7rJihGVToWYtDSGqD2_LZAfk_QBWoXH7FU9aU_DUdc8sdBnLNeQH0fsn2PB2_RtoSQWCeBfNM4UM3WTE',\n",
       "  'userName': 'Alex Jackson',\n",
       "  'userImage': 'https://play-lh.googleusercontent.com/-0ah2Rlh8ios/AAAAAAAAAAI/AAAAAAAAOq0/AMZuucnOcG8iGSSxJtX0DB7puAfyN17PsA/photo.jpg',\n",
       "  'content': 'Enough opportunities to get things without in-app purchases which makes the game enjoyable, you are rewarded with gems consistently. Relaxing little game, animations are cute!',\n",
       "  'score': 5,\n",
       "  'thumbsUpCount': 0,\n",
       "  'reviewCreatedVersion': '1.23.1',\n",
       "  'at': datetime.datetime(2020, 7, 9, 5, 53, 49),\n",
       "  'replyContent': None,\n",
       "  'repliedAt': None},\n",
       " {'reviewId': 'gp:AOqpTOFpomfQvxCCn_ce2MFp-rbCs06qeRswvxk2WqvTBYFgRWPSeIO2T_2jqCeKFiDTiZFP5SEd337U69h9tPM',\n",
       "  'userName': 'Justin Hickman',\n",
       "  'userImage': 'https://play-lh.googleusercontent.com/-ooxgWMq_BoY/AAAAAAAAAAI/AAAAAAAAAAA/AMZuucmFPjKQWgtYZiyarpkTfpoDO9AEog/photo.jpg',\n",
       "  'content': 'I love this game because of two things. Number one, the sounds. There so relaxing and good. Number two, you can play for two hours and never get bould! 5 out of 5 stars.',\n",
       "  'score': 5,\n",
       "  'thumbsUpCount': 0,\n",
       "  'reviewCreatedVersion': '1.25.2',\n",
       "  'at': datetime.datetime(2020, 9, 13, 2, 37, 36),\n",
       "  'replyContent': None,\n",
       "  'repliedAt': None},\n",
       " {'reviewId': 'gp:AOqpTOG5DOvtVLjVkKZzYwa64VgTnhXDzrFG_1eNdppg5_f2TSY9MNNnuGA-6lxTza3sKUr6hb0-ThXkwtXpQng',\n",
       "  'userName': 'Vincent Tjoa',\n",
       "  'userImage': 'https://play-lh.googleusercontent.com/-n4-MUKoRYpA/AAAAAAAAAAI/AAAAAAAAAAA/AMZuuckonjD8bxSGTfbKekQ5zFJBXnb7Sg/photo.jpg',\n",
       "  'content': 'When I play the game for a while, it glitches and when i try to tap the screen, the game does nothing. Pls fix this. But overall this game is very relaxing and fun.',\n",
       "  'score': 4,\n",
       "  'thumbsUpCount': 0,\n",
       "  'reviewCreatedVersion': '1.25.2',\n",
       "  'at': datetime.datetime(2020, 9, 19, 15, 45, 6),\n",
       "  'replyContent': None,\n",
       "  'repliedAt': None},\n",
       " {'reviewId': 'gp:AOqpTOEDAJE2-v0ODzTH4seig1IWyOVXcelptbHwbBuEgxkZB80WTmO2wC_9ZFCV29SNdfObJySLNkHWOKaB24s',\n",
       "  'userName': 'The_Eyepatch',\n",
       "  'userImage': 'https://play-lh.googleusercontent.com/a-/AOh14GhXAb01kJ5s6_2kHv0jqyhcEvgO21kVZj3on0YSrw',\n",
       "  'content': \"It's fun on its own way. Its very calm and relaxing.\",\n",
       "  'score': 4,\n",
       "  'thumbsUpCount': 0,\n",
       "  'reviewCreatedVersion': '1.28.2',\n",
       "  'at': datetime.datetime(2020, 12, 14, 18, 27, 24),\n",
       "  'replyContent': None,\n",
       "  'repliedAt': None},\n",
       " {'reviewId': 'gp:AOqpTOGZuE-nIqJvN3DcWeaFtj79Ut-vFQvIpVzwWR9WxckPBRQvc3YAwgNMnwfxYcQji8WcOcxq2E4VXsuxw90',\n",
       "  'userName': 'boredwayfarer',\n",
       "  'userImage': 'https://play-lh.googleusercontent.com/a-/AOh14GiP3HBIKIY9sUXU9hafn95B2vv2YZJg7htVCAwe',\n",
       "  'content': \"It's been a month since the last update and this new update still didn't update any quests, new habitat nor any increase in penguins, and there's nothing left to do. I understand this is meant to be a slow game, but this sucks\",\n",
       "  'score': 4,\n",
       "  'thumbsUpCount': 1,\n",
       "  'reviewCreatedVersion': '1.24.3',\n",
       "  'at': datetime.datetime(2020, 8, 8, 4, 21, 17),\n",
       "  'replyContent': 'Sorry,we will add it as aoon as possible,thank you for your feedback.',\n",
       "  'repliedAt': datetime.datetime(2020, 6, 23, 13, 9, 55)},\n",
       " {'reviewId': 'gp:AOqpTOFG04ay0LK_1Xi5-XigBrmt3kxpHp1FcWhBsafyEDjc3dZDXW_O0CiE58Nn_qdV0A61L4ae-1S4tAzmmdY',\n",
       "  'userName': 'Cody Atsma',\n",
       "  'userImage': 'https://play-lh.googleusercontent.com/a-/AOh14Gh8LqNHYgTEumm3XpaVVeJMfsaxXdpd3gTR50iL',\n",
       "  'content': 'Love this game and its so cute me and my girl friend play it together all the time just wish they added where you can see someone elses island and give them stuff and add them as friends that would be so cool and expand the island to make it bigger',\n",
       "  'score': 5,\n",
       "  'thumbsUpCount': 0,\n",
       "  'reviewCreatedVersion': '1.24.3',\n",
       "  'at': datetime.datetime(2020, 8, 5, 2, 57, 34),\n",
       "  'replyContent': None,\n",
       "  'repliedAt': None},\n",
       " {'reviewId': 'gp:AOqpTOFBadwvHTAMuhTErexNACmGJUkQfgA48uR4uyj0TXEXg1GTCqkclQUG1QWMElSgY2EU2jOUgaRs1LEoxbs',\n",
       "  'userName': 'minka brown',\n",
       "  'userImage': 'https://play-lh.googleusercontent.com/a-/AOh14GgPy-k1puSSlEDAJZz_5zwT8rNEaozI9LRvqnDW',\n",
       "  'content': \"10/10 would recommend. This is a great, fun, and addictive game. It's definitely a game you can play when you're bored, and basically any time of day. Great for all moods. 5stars\",\n",
       "  'score': 5,\n",
       "  'thumbsUpCount': 0,\n",
       "  'reviewCreatedVersion': '1.25.2',\n",
       "  'at': datetime.datetime(2020, 9, 5, 6, 29, 47),\n",
       "  'replyContent': None,\n",
       "  'repliedAt': None},\n",
       " {'reviewId': 'gp:AOqpTOHYedQSqcAnZEq8ZDKml6r64Swt1-iJ6-yYbyaP4w7iBJSv1HTkVFUxP2e6kjyFWMQd4-AxMYfj69AOdks',\n",
       "  'userName': 'Dub z',\n",
       "  'userImage': 'https://play-lh.googleusercontent.com/a-/AOh14GgF3wtf2A68TiiZ-ejvW5RJI7WdBy4CLT5jCc5_6g',\n",
       "  'content': \"Its fun and I'm enjoying it but now two of my penguins were randomly deleted. I put in effort watching all those ads to max out all my penguins and I sign on today and I only have 18 instead of 20? Only issue and complaint everything else is 100%\",\n",
       "  'score': 5,\n",
       "  'thumbsUpCount': 0,\n",
       "  'reviewCreatedVersion': '1.24.2',\n",
       "  'at': datetime.datetime(2020, 7, 27, 12, 27, 52),\n",
       "  'replyContent': 'Hello, This is due to the limitation of the number of penguins on the isle, so the numbers have changed.It will randomly retract other penguins. But it will not affect the production of penguins gold coins and hearts.If you still have problems, please contact us at penguinisle@habby.com to help you, Thank you for playing.',\n",
       "  'repliedAt': datetime.datetime(2020, 5, 31, 22, 46, 7)},\n",
       " {'reviewId': 'gp:AOqpTOHhr2-9r8_KUHj5dGCbod5vT8__inqN4koBUzD35NwrhHzlPRAhQ5LnirPBzWWkPOGX2ibFVBJacj5Lob8',\n",
       "  'userName': 'Melecio Saldaña Fuentes',\n",
       "  'userImage': 'https://play-lh.googleusercontent.com/a-/AOh14GhBCZthwKpOHYz8vSq9lE7UoCFiN0IFyKpR_E_sEQ',\n",
       "  'content': 'This game is absolutely adorable! 🤗 A must have as we survive through the apocalypse. 😎 I just wish it had fewer ads and was cheaper to buy. 🥺',\n",
       "  'score': 5,\n",
       "  'thumbsUpCount': 0,\n",
       "  'reviewCreatedVersion': '1.23.1',\n",
       "  'at': datetime.datetime(2020, 7, 20, 5, 1, 59),\n",
       "  'replyContent': None,\n",
       "  'repliedAt': None},\n",
       " {'reviewId': 'gp:AOqpTOFW8w3vPREpev8iRHKmjB45jC4HLZHx2VKeiX4kE4_-zkCWFvxojJ30SBfnxiyDObPi534tTyhRtX6ehgw',\n",
       "  'userName': 'Syner Boom',\n",
       "  'userImage': 'https://play-lh.googleusercontent.com/a-/AOh14GhJYtTVAsO-JUQmILXp4IReOEhusXqm4J9fV4K3qw',\n",
       "  'content': 'I really enjoyed this game. It helps me relax and forget my depression. I just hope you add more relaxing music and have an option where you can change the music.',\n",
       "  'score': 5,\n",
       "  'thumbsUpCount': 0,\n",
       "  'reviewCreatedVersion': '1.24.3',\n",
       "  'at': datetime.datetime(2020, 7, 28, 10, 34, 52),\n",
       "  'replyContent': None,\n",
       "  'repliedAt': None},\n",
       " {'reviewId': 'gp:AOqpTOE9HMr3XdYG8rC868NJ9npfWIrdWDa3OTpcKxfkPEPIL4SVQop9Fl_LbEflWzdmN0zFRxI242fJnKkrTyM',\n",
       "  'userName': 'Moinak Das',\n",
       "  'userImage': 'https://play-lh.googleusercontent.com/a-/AOh14Ghw8sqejiX8m4Ld-m2n9nLeJ_KjCnYxkiOCkVN1hA',\n",
       "  'content': \"Really soothing and calming. Takes a lot of patience but worth seeing those cute penguins. It would've added to the soothing aesthetic if it was easier to upgrade stuff.\",\n",
       "  'score': 4,\n",
       "  'thumbsUpCount': 0,\n",
       "  'reviewCreatedVersion': '1.24.3',\n",
       "  'at': datetime.datetime(2020, 8, 13, 19, 39, 24),\n",
       "  'replyContent': None,\n",
       "  'repliedAt': None},\n",
       " {'reviewId': 'gp:AOqpTOEqTws1JL_rSJweDonKQetTKKu-5rbLDZIGmvTTsorwiZlhErcTbD6NEwvU92T_WJuwAYHDl4lBnWkgdj0',\n",
       "  'userName': 'Melissa Tavarez',\n",
       "  'userImage': 'https://play-lh.googleusercontent.com/a-/AOh14Gh9PNuKglXjPmKIvQJaij9oxjyqzwMJCMoj8MTXvw',\n",
       "  'content': 'I love the game, it\\'s relaxing. However, I\\'m confused as to why I get the notification \"23.59d Gold Acquired During Absence\" but when I enter the game, I see no gold collected 😐 update: thanks!',\n",
       "  'score': 5,\n",
       "  'thumbsUpCount': 0,\n",
       "  'reviewCreatedVersion': '1.25.2',\n",
       "  'at': datetime.datetime(2020, 9, 21, 15, 15, 2),\n",
       "  'replyContent': 'Hello, the notification of getting gold coins displayed on the phone, you need to open the game and click on the hourglass to get it, feel free to contact us at penguinisle@habby.com',\n",
       "  'repliedAt': datetime.datetime(2020, 9, 21, 15, 3, 7)},\n",
       " {'reviewId': 'gp:AOqpTOHAr-9hAwtkWYUmCUF8K7bEMAV0AuoMt3hVLw5ZOhmdRFfWqWUx2747SXbEkD8Gl8XBMddElTZEExPuj0s',\n",
       "  'userName': 'Aditya Nawalgaria',\n",
       "  'userImage': 'https://play-lh.googleusercontent.com/-BVRHmmQVVro/AAAAAAAAAAI/AAAAAAAAAAA/AMZuucnAfJaffBwQeqCNaeNUKUOCPRMWwQ/photo.jpg',\n",
       "  'content': 'A nice idle game with regular content updates, but has issues with unrealistically high prices for premium content. Big props for being very playable in f2p and without pop up ads.',\n",
       "  'score': 4,\n",
       "  'thumbsUpCount': 0,\n",
       "  'reviewCreatedVersion': '1.24.3',\n",
       "  'at': datetime.datetime(2020, 8, 19, 18, 1, 58),\n",
       "  'replyContent': None,\n",
       "  'repliedAt': None},\n",
       " {'reviewId': 'gp:AOqpTOF_rrfAAet5up2I9aVVC8O3vS-cYgJK5DDNySI_cVJn9DsebG9OWuATEF1r9w9XsU-QXs-3PFxeJL8BwEM',\n",
       "  'userName': 'RHino Brass',\n",
       "  'userImage': 'https://play-lh.googleusercontent.com/a-/AOh14Gj8hstlC8eTbTKhbtAyzbTAlU-R5uSEjF6hhKRrrQ',\n",
       "  'content': \"You need to get rid of the dungeon crusher ads. Anytime it pops up for that particular ad it won't show and spins and doesn't allow you to collect whatever it is that you clicked ad for. Hindering gameplay\",\n",
       "  'score': 2,\n",
       "  'thumbsUpCount': 1,\n",
       "  'reviewCreatedVersion': '1.25.1',\n",
       "  'at': datetime.datetime(2020, 8, 31, 0, 1, 25),\n",
       "  'replyContent': 'Sorry, We will find ways to optimize the advertising. if there is a problem with the ad, Can you tell us which advertising? our email is penguinisle@habby.com. If you are willing to provide us with more information,screenshots or video, it may help us solve this problem.Thank you for your feedback.',\n",
       "  'repliedAt': datetime.datetime(2020, 8, 31, 9, 52, 33)},\n",
       " {'reviewId': 'gp:AOqpTOGoHh2mST8rQZRP_pQwz2VbnZ6cRR6Yu7tUiyR72nrQ_yTW_i6xfQVN5hy54c4Atak9lOk1-oVBoV45cfw',\n",
       "  'userName': 'Kok Aik Ong',\n",
       "  'userImage': 'https://play-lh.googleusercontent.com/a-/AOh14GhvU-rP-Z82BARlmwcT80Et1T4iAUuzUGlbseJe',\n",
       "  'content': 'Why every time update, the game time speed, heart rate, offline money, and time counting all become inconsistent. This time even worst it automatic use up my 2k+ diamond for speed up the workshop....@%@#%@$!!.. what work shop item need to speed up and use up for 2k+.. diamond.. @%%@%@%$!$!$$!$! Can you provide more steady and consistent parameter after game update....hate to update each time after update your game getting heart, money and time counting become changing...',\n",
       "  'score': 1,\n",
       "  'thumbsUpCount': 2,\n",
       "  'reviewCreatedVersion': '1.25.0',\n",
       "  'at': datetime.datetime(2020, 8, 27, 9, 23, 48),\n",
       "  'replyContent': 'Sorry, What happened?  could you please contact us at penguinisle@habby.com with more details and your ID to help you better. Have a nice day!',\n",
       "  'repliedAt': datetime.datetime(2020, 8, 27, 9, 34, 59)},\n",
       " {'reviewId': 'gp:AOqpTOHlx4_S_Pyq6SlUwsQGlw5PSz2CYF23SHUg84sviBKpa-dhQyliSRauFGA214vRwEEt0y42IaMVePiZKsA',\n",
       "  'userName': 'Dai Men Fire',\n",
       "  'userImage': 'https://play-lh.googleusercontent.com/a-/AOh14GjnT5wvh5dcVWWfEFI5LZ3vtDG8sPmkLc6yYO0',\n",
       "  'content': \"The game is great! It is relaxing in all ways. The only problem is the numbers are sometimes hard to see, but that isn't much a problem. Thanks for making this amazing game.\",\n",
       "  'score': 5,\n",
       "  'thumbsUpCount': 0,\n",
       "  'reviewCreatedVersion': '1.23.1',\n",
       "  'at': datetime.datetime(2020, 7, 12, 18, 22, 52),\n",
       "  'replyContent': None,\n",
       "  'repliedAt': None},\n",
       " {'reviewId': 'gp:AOqpTOGfQibiqckg52VrgnN4FbfKrhxRnlzvvEZtpY8IDOW01J0BFR1sOFjHL6Uqy1k-hKm4jGuQkdQd0yKqiAE',\n",
       "  'userName': 'Leeza Bronzino',\n",
       "  'userImage': 'https://play-lh.googleusercontent.com/-n7sCZf2jk84/AAAAAAAAAAI/AAAAAAAAc7I/AMZuuckN4xNV4nwzoLTyEWQCoiA1jKEHxg/photo.jpg',\n",
       "  'content': 'Extremely fun, a nice distraction or time killer to play if you have a spare few minutes or even a half hour. Very cute, I became hooked very fast.',\n",
       "  'score': 5,\n",
       "  'thumbsUpCount': 1,\n",
       "  'reviewCreatedVersion': '1.23.1',\n",
       "  'at': datetime.datetime(2020, 7, 19, 8, 38, 47),\n",
       "  'replyContent': None,\n",
       "  'repliedAt': None},\n",
       " {'reviewId': 'gp:AOqpTOEZQLsNXiVOjKBdnQveb2wj77vdOB_-z38fU5H_pwvBjaSNMv8zwtbCZusOKOHuBkIQYoyPY3I1LyB2Th0',\n",
       "  'userName': 'Patrick Reis de Souza',\n",
       "  'userImage': 'https://play-lh.googleusercontent.com/a-/AOh14Ghorqji0Ly7qHcT5dVDWhFQONFb1_4v4xJ-6pYkdQ',\n",
       "  'content': \"The game is becoming pay to win. Like this summer event. Come on guys. It's not fair to put that part below to be paid. I love this game but it's kind of hard to still playing.\",\n",
       "  'score': 3,\n",
       "  'thumbsUpCount': 0,\n",
       "  'reviewCreatedVersion': '1.24.3',\n",
       "  'at': datetime.datetime(2020, 7, 29, 15, 46, 25),\n",
       "  'replyContent': None,\n",
       "  'repliedAt': None},\n",
       " {'reviewId': 'gp:AOqpTOELoZAxAY1nU1ZPjljRbRcWVWZW9c-8Ss5jBWkq0faPyZKR_ynkSOA9OhXhH8gR0ogUZJ0fOO6FZ6SQLdQ',\n",
       "  'userName': 'Rohit Pandey',\n",
       "  'userImage': 'https://play-lh.googleusercontent.com/a-/AOh14Gh4g9xSfDC6LeXaK-8G_dtUATIzFXci_RNWY0Q-_YY',\n",
       "  'content': 'Fun & addictive game, really enjoyed the graphics & simplicity of the game. I just wish if you can also add night mode to it then it would be more wonderful.',\n",
       "  'score': 4,\n",
       "  'thumbsUpCount': 0,\n",
       "  'reviewCreatedVersion': '1.25.2',\n",
       "  'at': datetime.datetime(2020, 9, 17, 13, 14, 2),\n",
       "  'replyContent': None,\n",
       "  'repliedAt': None},\n",
       " ...]"
      ]
     },
     "metadata": {},
     "execution_count": 48
    }
   ],
   "source": [
    "result"
   ]
  },
  {
   "cell_type": "code",
   "execution_count": 77,
   "metadata": {},
   "outputs": [
    {
     "output_type": "stream",
     "name": "stdout",
     "text": [
      "{'title': 'Google Chrome: Fast & Secure', 'icon': 'https://play-lh.googleusercontent.com/KwUBNPbMTk9jDXYS2AeX3illtVRTkrKVh5xR1Mg4WHd0CG2tV4mrh1z3kXi5z_warlk', 'screenshots': ['https://play-lh.googleusercontent.com/Usyjx1hHMLBCkpIpr56I74F1wYVncbZFTctqkDDgzfj1ABhCGu0GCg7pHwbyL-xhSV4=w720-h310-rw', 'https://play-lh.googleusercontent.com/hQyOjY123zSEeZkXcyY9QvhBDd6iCkH5vL07gaoHhEKec-_bZyqD8IEbHpCJOQEDbA=w720-h310-rw', 'https://play-lh.googleusercontent.com/KX0vgZ4_jFS78_giGoqjtbb_PV6n6GRsO8ZsG-FEDyt6Hdrr7-yBVfHsqp3RoMhOOTo=w720-h310-rw', 'https://play-lh.googleusercontent.com/Lub9Z7KgVtpPlqrojAhvdd4r4NJE8LHmtram-jEeqOMhvIeE4kE40JKgGdaDro3itFLC=w720-h310-rw', 'https://play-lh.googleusercontent.com/VpzklJxQSrMyMSCyP43nS3d5z_W8UO25cU4ADUDrqcgX-JucM5HCtwr_km1btOTH-Q=w720-h310-rw', 'https://play-lh.googleusercontent.com/IGvqfNrn6qD_U5ZLvyWjH6i1aGNEMpj1F8TPVnAoK1Gw8Sv63UPIR7A61HBJ2BOj2hk=w720-h310-rw', 'https://play-lh.googleusercontent.com/nJS0jiT3ffZrni-Kx2jwtmZ73kx-b1RAIpSWeg-TpYQDKZJE0aZXeakaNLYL37o7_KYi=w720-h310-rw', 'https://play-lh.googleusercontent.com/NzJg529_sddCdqgH1ZVOYRQmR83Hf8FOu_Wus5-UCtd3WhZ4BTvyE8CYS_zWLgNT7NyZ=w720-h310-rw', 'https://play-lh.googleusercontent.com/_sva2gr84VvhScdXmrxcAsxbOajFtgHUqSKcpYsyW0vQC2M9xOjo_CsmZeq8_qpZl1w=w720-h310-rw', 'https://play-lh.googleusercontent.com/kUZOuTUADC_6YjCT7eon5LVu5Qk6qDOb885hZNCjUrrw6c0GLCy3QxAeJc9kgPdcyV0=w720-h310-rw', 'https://play-lh.googleusercontent.com/s2koCc631RMyqvcYGRLQ9j6jk895whoDbs2pC6zf6ahZ7YWaBcR0u-yxcn3iddZN844=w720-h310-rw', 'https://play-lh.googleusercontent.com/W1WNNZ_E8oYmwVrD9CGQeNoa_O2rcj4_NVgB6FTeq7kXmQT4s2xyPrwMYIDsyHoGXuZQ=w720-h310-rw', 'https://play-lh.googleusercontent.com/WiaHLUv4q0F1lZGdADq8IgrDGXQkbEEBwV-pjUfO9newcSypbOEqPUQFHs4cXrLKVw=w720-h310-rw', 'https://play-lh.googleusercontent.com/mog-vCm1jzOUpL1_c2XCo7NwreuqZHyVn5En2yFR8fzwsWTrf8c4XKNCqISwMytj3hU=w720-h310-rw', 'https://play-lh.googleusercontent.com/3nowNAXL8PnQcLzQZ6vivqX5FAjs5a492fnhGYCK8TLzTuRxqrHVKWuhWUNOdXfdEHxO=w720-h310-rw', 'https://play-lh.googleusercontent.com/-_0-10EqUhRzqs_5Ck2B1K7WzfABemSa_GD11kqxECLMkxuWsoNlSL33X-DMvNOvH5o=w720-h310-rw', 'https://play-lh.googleusercontent.com/DZtX7w-qVt0RK8eN8HNLRAG_-HisJ2I4ZYhSeMwnovvx0as2Bxe5F7zc_qmlnuUlVMo=w720-h310-rw', 'https://play-lh.googleusercontent.com/EoKK8khPkIhuai7C9l-v6yx_OzzXolgoFmyb-bAN-2WADMoRnmi9kbLb-jTu2MDgqg=w720-h310-rw'], 'video': None, 'category': ['COMMUNICATION'], 'score': '4.2', 'histogram': {5: None, 4: None, 3: None, 2: None, 1: None}, 'reviews': 27199171, 'description': 'Google Chrome is a fast, easy to use, and secure web browser. Designed for Android, Chrome brings you personalized news articles, quick links to your favorite sites, downloads, and Google Search and Google Translate built-in. Download now to enjoy the same Chrome web browser experience you love across all your devices.\\nBrowse fast and type less.\\nChoose from personalized search results that instantly appear as you type and quickly browse previously visited web pages. Fill in forms quickly with Autofill.\\nIncognito Browsing.\\nUse Incognito mode to browse the internet without saving your history. Browse privately across all your devices.\\nSync Chrome Across Devices.\\nWhen you sign into Chrome, your bookmarks, passwords, and settings will be automatically synced across all your devices. You can seamlessly access all your information from your phone, tablet, or laptop.\\nAll your favorite content, one tap away.\\nChrome is not just fast for Google Search, but designed so you are one tap away from all your favorite content. You can tap on your favorite news sites or social media directly from the new tab page. Chrome also has the “Tap to Search”- feature on most webpages. You can tap on any word or phrase to start a Google search while still in the page you are enjoying.\\nProtect your phone with Google Safe Browsing.\\nChrome has Google Safe Browsing built-in. It keeps your phone safe by showing warnings to you when you attempt to navigate to dangerous sites or download dangerous files.\\nFast downloads and view web pages and videos offline\\nChrome has a dedicated download button, so you can easily download videos, pictures, and entire webpages with just one tap. Chrome also has downloads home right inside Chrome, where you can access all the content you downloaded, even when you are offline.\\nGoogle Voice Search.\\nChrome gives you an actual web browser you can talk to. Use your voice to find answers on-the-go without typing and go hands free. You can browse and navigate quicker using your voice anywhere, anytime.\\nGoogle Translate built-in: Quickly translate entire web pages.\\nChrome has Google Translate built in to help you to translate entire web to your own language with one tap.\\nUse less mobile data and speed up the web.\\nTurn on Lite mode and use up to 60% less data. Chrome can compress text, images, videos, and websites without lowering the quality.\\nSmart personalized recommendations.\\nChrome creates an experience that is tailored to your interests.  On the new tab page, you will find articles that Chrome selected based on your previous browsing history.', 'description_html': b'Google Chrome is a fast, easy to use, and secure web browser. Designed for Android, Chrome brings you personalized news articles, quick links to your favorite sites, downloads, and Google Search and Google Translate built-in. Download now to enjoy the same Chrome web browser experience you love across all your devices.<br/> <br/> <b>Browse fast and type less.</b> Choose from personalized search results that instantly appear as you type and quickly browse previously visited web pages. Fill in forms quickly with Autofill.<br/> <br/> <b>Incognito Browsing.</b> Use Incognito mode to browse the internet without saving your history. Browse privately across all your devices.<br/> <br/> <b>Sync Chrome Across Devices.</b> When you sign into Chrome, your bookmarks, passwords, and settings will be automatically synced across all your devices. You can seamlessly access all your information from your phone, tablet, or laptop.<br/> <br/> <b>All your favorite content, one tap away.</b> Chrome is not just fast for Google Search, but designed so you are one tap away from all your favorite content. You can tap on your favorite news sites or social media directly from the new tab page. Chrome also has the \\xe2\\x80\\x9cTap to Search\\xe2\\x80\\x9d- feature on most webpages. You can tap on any word or phrase to start a Google search while still in the page you are enjoying.<br/> <br/> <b>Protect your phone with Google Safe Browsing.</b> Chrome has Google Safe Browsing built-in. It keeps your phone safe by showing warnings to you when you attempt to navigate to dangerous sites or download dangerous files.<br/> <br/> <b>Fast downloads and view web pages and videos offline</b> Chrome has a dedicated download button, so you can easily download videos, pictures, and entire webpages with just one tap. Chrome also has downloads home right inside Chrome, where you can access all the content you downloaded, even when you are offline.<br/> <br/> <b>Google Voice Search.</b> Chrome gives you an actual web browser you can talk to. Use your voice to find answers on-the-go without typing and go hands free. You can browse and navigate quicker using your voice anywhere, anytime.<br/> <br/> <b>Google Translate built-in: Quickly translate entire web pages.</b> Chrome has Google Translate built in to help you to translate entire web to your own language with one tap.<br/> <br/> <b>Use less mobile data and speed up the web.</b> Turn on Lite mode and use up to 60% less data. Chrome can compress text, images, videos, and websites without lowering the quality.<br/> <br/> <b>Smart personalized recommendations.</b> Chrome creates an experience that is tailored to your interests.  On the new tab page, you will find articles that Chrome selected based on your previous browsing history.', 'recent_changes': None, 'editors_choice': False, 'price': '0', 'free': True, 'iap': False, 'developer_id': '5700313618786177705', 'updated': 'December 10, 2020', 'size': 'Varies with device', 'installs': '5,000,000,000+', 'current_version': 'Varies with device', 'required_android_version': 'Varies with device', 'content_rating': ['Everyone'], 'iap_range': None, 'interactive_elements': ['Unrestricted Internet'], 'developer': 'Google LLC', 'developer_email': 'apps-help@google.com', 'developer_url': 'http://www.google.com/chrome/android', 'developer_address': '1600 Amphitheatre Parkway, Mountain View 94043', 'app_id': 'com.android.chrome', 'url': 'https://play.google.com/store/apps/details?id=com.android.chrome'}\n"
     ]
    }
   ],
   "source": [
    "print(play_scraper.details('com.android.chrome'))"
   ]
  },
  {
   "cell_type": "code",
   "execution_count": 78,
   "metadata": {},
   "outputs": [
    {
     "output_type": "error",
     "ename": "HTTPError",
     "evalue": "404 Client Error: Not Found for url: https://play.google.com/store/apps/category/GAME_RACING/collection/movers_shakers?hl=en&gl=us",
     "traceback": [
      "\u001b[1;31m---------------------------------------------------------------------------\u001b[0m",
      "\u001b[1;31mHTTPError\u001b[0m                                 Traceback (most recent call last)",
      "\u001b[1;32m<ipython-input-78-34efd5933d78>\u001b[0m in \u001b[0;36m<module>\u001b[1;34m\u001b[0m\n\u001b[0;32m      3\u001b[0m         \u001b[0mcategory\u001b[0m\u001b[1;33m=\u001b[0m\u001b[1;34m'GAME_RACING'\u001b[0m\u001b[1;33m,\u001b[0m\u001b[1;33m\u001b[0m\u001b[1;33m\u001b[0m\u001b[0m\n\u001b[0;32m      4\u001b[0m         \u001b[0mresults\u001b[0m\u001b[1;33m=\u001b[0m\u001b[1;36m5\u001b[0m\u001b[1;33m,\u001b[0m\u001b[1;33m\u001b[0m\u001b[1;33m\u001b[0m\u001b[0m\n\u001b[1;32m----> 5\u001b[1;33m         page=1))\n\u001b[0m",
      "\u001b[1;32m~\\AppData\\Local\\Continuum\\anaconda3\\lib\\site-packages\\play_scraper\\api.py\u001b[0m in \u001b[0;36mcollection\u001b[1;34m(collection, category, hl, gl, **kwargs)\u001b[0m\n\u001b[0;32m     39\u001b[0m     \"\"\"\n\u001b[0;32m     40\u001b[0m     \u001b[0ms\u001b[0m \u001b[1;33m=\u001b[0m \u001b[0mscraper\u001b[0m\u001b[1;33m.\u001b[0m\u001b[0mPlayScraper\u001b[0m\u001b[1;33m(\u001b[0m\u001b[0mhl\u001b[0m\u001b[1;33m,\u001b[0m \u001b[0mgl\u001b[0m\u001b[1;33m)\u001b[0m\u001b[1;33m\u001b[0m\u001b[1;33m\u001b[0m\u001b[0m\n\u001b[1;32m---> 41\u001b[1;33m     \u001b[1;32mreturn\u001b[0m \u001b[0ms\u001b[0m\u001b[1;33m.\u001b[0m\u001b[0mcollection\u001b[0m\u001b[1;33m(\u001b[0m\u001b[0mcollection\u001b[0m\u001b[1;33m,\u001b[0m \u001b[0mcategory\u001b[0m\u001b[1;33m,\u001b[0m \u001b[1;33m**\u001b[0m\u001b[0mkwargs\u001b[0m\u001b[1;33m)\u001b[0m\u001b[1;33m\u001b[0m\u001b[1;33m\u001b[0m\u001b[0m\n\u001b[0m\u001b[0;32m     42\u001b[0m \u001b[1;33m\u001b[0m\u001b[0m\n\u001b[0;32m     43\u001b[0m \u001b[1;33m\u001b[0m\u001b[0m\n",
      "\u001b[1;32m~\\AppData\\Local\\Continuum\\anaconda3\\lib\\site-packages\\play_scraper\\scraper.py\u001b[0m in \u001b[0;36mcollection\u001b[1;34m(self, collection_id, category_id, results, page, age, detailed)\u001b[0m\n\u001b[0;32m    130\u001b[0m         \u001b[0murl\u001b[0m \u001b[1;33m=\u001b[0m \u001b[0mbuild_collection_url\u001b[0m\u001b[1;33m(\u001b[0m\u001b[0mcategory\u001b[0m\u001b[1;33m,\u001b[0m \u001b[0mcollection_name\u001b[0m\u001b[1;33m)\u001b[0m\u001b[1;33m\u001b[0m\u001b[1;33m\u001b[0m\u001b[0m\n\u001b[0;32m    131\u001b[0m         \u001b[0mdata\u001b[0m \u001b[1;33m=\u001b[0m \u001b[0mgenerate_post_data\u001b[0m\u001b[1;33m(\u001b[0m\u001b[0mresults\u001b[0m\u001b[1;33m,\u001b[0m \u001b[0mpage\u001b[0m\u001b[1;33m)\u001b[0m\u001b[1;33m\u001b[0m\u001b[1;33m\u001b[0m\u001b[0m\n\u001b[1;32m--> 132\u001b[1;33m         \u001b[0mresponse\u001b[0m \u001b[1;33m=\u001b[0m \u001b[0msend_request\u001b[0m\u001b[1;33m(\u001b[0m\u001b[1;34m'POST'\u001b[0m\u001b[1;33m,\u001b[0m \u001b[0murl\u001b[0m\u001b[1;33m,\u001b[0m \u001b[0mdata\u001b[0m\u001b[1;33m,\u001b[0m \u001b[0mself\u001b[0m\u001b[1;33m.\u001b[0m\u001b[0mparams\u001b[0m\u001b[1;33m)\u001b[0m\u001b[1;33m\u001b[0m\u001b[1;33m\u001b[0m\u001b[0m\n\u001b[0m\u001b[0;32m    133\u001b[0m \u001b[1;33m\u001b[0m\u001b[0m\n\u001b[0;32m    134\u001b[0m         \u001b[1;32mif\u001b[0m \u001b[0mdetailed\u001b[0m\u001b[1;33m:\u001b[0m\u001b[1;33m\u001b[0m\u001b[1;33m\u001b[0m\u001b[0m\n",
      "\u001b[1;32m~\\AppData\\Local\\Continuum\\anaconda3\\lib\\site-packages\\play_scraper\\utils.py\u001b[0m in \u001b[0;36msend_request\u001b[1;34m(method, url, data, params, headers, timeout, verify, allow_redirects)\u001b[0m\n\u001b[0;32m    119\u001b[0m             allow_redirects=allow_redirects)\n\u001b[0;32m    120\u001b[0m         \u001b[1;32mif\u001b[0m \u001b[1;32mnot\u001b[0m \u001b[0mresponse\u001b[0m\u001b[1;33m.\u001b[0m\u001b[0mstatus_code\u001b[0m \u001b[1;33m==\u001b[0m \u001b[0mrequests\u001b[0m\u001b[1;33m.\u001b[0m\u001b[0mcodes\u001b[0m\u001b[1;33m.\u001b[0m\u001b[0mok\u001b[0m\u001b[1;33m:\u001b[0m\u001b[1;33m\u001b[0m\u001b[1;33m\u001b[0m\u001b[0m\n\u001b[1;32m--> 121\u001b[1;33m             \u001b[0mresponse\u001b[0m\u001b[1;33m.\u001b[0m\u001b[0mraise_for_status\u001b[0m\u001b[1;33m(\u001b[0m\u001b[1;33m)\u001b[0m\u001b[1;33m\u001b[0m\u001b[1;33m\u001b[0m\u001b[0m\n\u001b[0m\u001b[0;32m    122\u001b[0m     \u001b[1;32mexcept\u001b[0m \u001b[0mrequests\u001b[0m\u001b[1;33m.\u001b[0m\u001b[0mexceptions\u001b[0m\u001b[1;33m.\u001b[0m\u001b[0mRequestException\u001b[0m \u001b[1;32mas\u001b[0m \u001b[0me\u001b[0m\u001b[1;33m:\u001b[0m\u001b[1;33m\u001b[0m\u001b[1;33m\u001b[0m\u001b[0m\n\u001b[0;32m    123\u001b[0m         \u001b[0mlog\u001b[0m\u001b[1;33m.\u001b[0m\u001b[0merror\u001b[0m\u001b[1;33m(\u001b[0m\u001b[0me\u001b[0m\u001b[1;33m)\u001b[0m\u001b[1;33m\u001b[0m\u001b[1;33m\u001b[0m\u001b[0m\n",
      "\u001b[1;32m~\\AppData\\Local\\Continuum\\anaconda3\\lib\\site-packages\\requests\\models.py\u001b[0m in \u001b[0;36mraise_for_status\u001b[1;34m(self)\u001b[0m\n\u001b[0;32m    938\u001b[0m \u001b[1;33m\u001b[0m\u001b[0m\n\u001b[0;32m    939\u001b[0m         \u001b[1;32mif\u001b[0m \u001b[0mhttp_error_msg\u001b[0m\u001b[1;33m:\u001b[0m\u001b[1;33m\u001b[0m\u001b[1;33m\u001b[0m\u001b[0m\n\u001b[1;32m--> 940\u001b[1;33m             \u001b[1;32mraise\u001b[0m \u001b[0mHTTPError\u001b[0m\u001b[1;33m(\u001b[0m\u001b[0mhttp_error_msg\u001b[0m\u001b[1;33m,\u001b[0m \u001b[0mresponse\u001b[0m\u001b[1;33m=\u001b[0m\u001b[0mself\u001b[0m\u001b[1;33m)\u001b[0m\u001b[1;33m\u001b[0m\u001b[1;33m\u001b[0m\u001b[0m\n\u001b[0m\u001b[0;32m    941\u001b[0m \u001b[1;33m\u001b[0m\u001b[0m\n\u001b[0;32m    942\u001b[0m     \u001b[1;32mdef\u001b[0m \u001b[0mclose\u001b[0m\u001b[1;33m(\u001b[0m\u001b[0mself\u001b[0m\u001b[1;33m)\u001b[0m\u001b[1;33m:\u001b[0m\u001b[1;33m\u001b[0m\u001b[1;33m\u001b[0m\u001b[0m\n",
      "\u001b[1;31mHTTPError\u001b[0m: 404 Client Error: Not Found for url: https://play.google.com/store/apps/category/GAME_RACING/collection/movers_shakers?hl=en&gl=us"
     ]
    }
   ],
   "source": [
    "print(play_scraper.collection(\n",
    "        collection='TRENDING',\n",
    "        category='GAME_RACING',\n",
    "        results=5,\n",
    "        page=1))"
   ]
  },
  {
   "cell_type": "code",
   "execution_count": 80,
   "metadata": {
    "tags": [
     "outputPrepend"
    ]
   },
   "outputs": [
    {
     "output_type": "stream",
     "name": "stdout",
     "text": [
      "ogleusercontent.com/btaj4Kc914i8-1YMYa-ntOJWJRRgE-hf_vwoke0_UaPmaTky1ryBxXoQabPpOAOnneg=s128-rw', 'title': 'Dog Race Sim 2019: Dog Racing Games', 'developer': 'Desto Tech Games', 'developer_id': 'Desto Tech Games', 'description': 'Race your greyhound dog & beat other wild dogs in chase racing championship', 'score': None, 'full_price': '0', 'price': '0', 'free': True}, {'app_id': 'com.pocapp.dungeondogsgame', 'url': '/store/apps/details?id=com.pocapp.dungeondogsgame', 'icon': 'https://play-lh.googleusercontent.com/5wmkNtYiqPiA-_vPC75kI8y1wzECCU5r61W7rnNKd93iVK0kValXFUz4Ft3nM7T6jcz_=s128-rw', 'title': 'Dungeon Dogs - Idle RPG', 'developer': 'PocApp Studios', 'developer_id': '7324090481439449927', 'description': 'Collect Heroes and join the Dog Revolution!', 'score': None, 'full_price': '0', 'price': '0', 'free': True}, {'app_id': 'app.dogo.com.dogo_android', 'url': '/store/apps/details?id=app.dogo.com.dogo_android', 'icon': 'https://play-lh.googleusercontent.com/wC526Y8EVsxLdjAyaE_biBBHbLfHgOWBUOts60Dx05fUQvCiKr58scBYuvs4j_kCLOuK=s128-rw', 'title': 'Dog Training App with Clicker by Dogo', 'developer': 'Dogo', 'developer_id': '6994681854530134564', 'description': 'Obedience Training with Dog Clicker for Real Dogs. Puppy Training for Dog Owners', 'score': None, 'full_price': '0', 'price': '0', 'free': True}, {'app_id': 'com.siwalusoftware.dogscanner', 'url': '/store/apps/details?id=com.siwalusoftware.dogscanner', 'icon': 'https://play-lh.googleusercontent.com/0vFow4E2S4LwVqYpBSS8002xrZ87U7XdnBUU5r-oAs57g3C6_-vXW8shRkyIXJypch0=s128-rw', 'title': 'Dog Scanner – Dog Breed Identification', 'developer': 'Siwalu Software GmbH', 'developer_id': '6414729090277669239', 'description': \"See a dog, but don't know its breed? Just take a picture and find out!\", 'score': None, 'full_price': '0', 'price': '0', 'free': True}, {'app_id': 'com.aussieman.us.army.spy.dog.training', 'url': '/store/apps/details?id=com.aussieman.us.army.spy.dog.training', 'icon': 'https://play-lh.googleusercontent.com/K4AgbqUGnKbI4BF5w6B0JKpr60VDQR2lYAWrGjT2S8OJo1hGjkWgTem_0dUC8uJIIyqp=s128-rw', 'title': 'US Army Spy Dog Training Simulator Games', 'developer': 'AussieMan Gamers', 'developer_id': 'AussieMan Gamers', 'description': 'Train your rock dog in this dog training simulator', 'score': None, 'full_price': '0', 'price': '0', 'free': True}, {'app_id': 'com.nag.pet.dog.virtual.family.adventure', 'url': '/store/apps/details?id=com.nag.pet.dog.virtual.family.adventure', 'icon': 'https://play-lh.googleusercontent.com/96I7YZFv73mo07jBhELjUS2l6VC3X2mqpEDcufjn06ELTuWXqusBLjvfCIjrsuqPM4xa=s128-rw', 'title': 'Family Pet Dog Home Adventure Game', 'developer': 'New Age Gamers', 'developer_id': '5492798222698967139', 'description': 'Happy Home Family Pet Dog to help Mom simulating family household tasks', 'score': None, 'full_price': '0', 'price': '0', 'free': True}, {'app_id': 'com.laugh.doghome', 'url': '/store/apps/details?id=com.laugh.doghome', 'icon': 'https://play-lh.googleusercontent.com/zXALbgT09CxtFD-yzUzl2AORvoSbK6HS3A6K-vm4u0fBy9mLPKXqkAAjBQrJL02e2A=s128-rw', 'title': 'Dog Home', 'developer': 'Talking Pet', 'developer_id': '5246300199446996632', 'description': 'Run your own dog house!', 'score': None, 'full_price': '0', 'price': '0', 'free': True}, {'app_id': 'com.la.anti.dog.bark.whistle.sounds', 'url': '/store/apps/details?id=com.la.anti.dog.bark.whistle.sounds', 'icon': 'https://play-lh.googleusercontent.com/DIIZdpeg27GEyJJ2o19cTe5hSizdPuZpDp6A2gOPQqZVvW9CY-Hvd3tEKDXY_c1bpGQ=s128-rw', 'title': 'Stop Dog Barking: Anti Dog Bark sounds', 'developer': 'The Moj Tools', 'developer_id': 'The Moj Tools', 'description': 'Dog whistle app that works for dogs that barks & anti bark whistle app for dogs', 'score': None, 'full_price': '0', 'price': '0', 'free': True}, {'app_id': 'com.police.dogs.strategy.war.duty.car', 'url': '/store/apps/details?id=com.police.dogs.strategy.war.duty.car', 'icon': 'https://play-lh.googleusercontent.com/v0ZnxUpmmtHrRrl3VuaRD5WcozRo4ZzR1od1Q7VIoW56T-I8c4KxPJXAquui8Hj1t4E=s128-rw', 'title': 'City Police Dog Simulator, 3D Police Dog Game 2020', 'developer': 'hawksbay apps studio', 'developer_id': 'hawksbay apps studio', 'description': 'City Police Dog Simulator, 3D Police Dog Game is a free dog simulator game', 'score': None, 'full_price': '0', 'price': '0', 'free': True}, {'app_id': 'com.gms.atvquad.quadbike.transportgames.animaltransporter', 'url': '/store/apps/details?id=com.gms.atvquad.quadbike.transportgames.animaltransporter', 'icon': 'https://play-lh.googleusercontent.com/MPsR3oFr1H6JvO3SP_N6sPk-I2pAPCQYbNXlg3nfI9ooso8qob7GCxOcLENQ_OW-Dy7S=s128-rw', 'title': 'ATV Bike Dog Transporter Cart Driving: Dog Games', 'developer': 'The Game MaxStudio', 'developer_id': '5103173010884337435', 'description': 'Become the most responsible dog transporter in your ATV Cargo transporter', 'score': None, 'full_price': '0', 'price': '0', 'free': True}, {'app_id': 'com.asmolgam.dogs', 'url': '/store/apps/details?id=com.asmolgam.dogs', 'icon': 'https://play-lh.googleusercontent.com/aLiaTSOqLQvQ631RPynqj6OdUCxGg0bRX3ILPs723mztUW1taZP6cAa_Y_9CeYoPkec=s128-rw', 'title': 'Dogs Quiz - Guess Popular Dog Breeds in the Photos', 'developer': 'Andrey Solovyev', 'developer_id': 'Andrey Solovyev', 'description': 'The App is Translated into English. Do You Know All Popular Breeds of Dogs?', 'score': None, 'full_price': '0', 'price': '0', 'free': True}, {'app_id': 'com.lily.times.tweenshusky.all', 'url': '/store/apps/details?id=com.lily.times.tweenshusky.all', 'icon': 'https://play-lh.googleusercontent.com/wq9KYa75qYc0ZEIHUxu5RWyFRA1RQcw4jWrdSN7hZEslMmjqZJfRbAnMBl6aR_IU3fMC=s128-rw', 'title': 'Talking Husky Dog', 'developer': 'Talking Baby', 'developer_id': '5981335106476514858', 'description': 'Talking Husky Dog repeats everything you say with a funny voice.', 'score': None, 'full_price': '0', 'price': '0', 'free': True}, {'app_id': 'com.clan.of.dogs', 'url': '/store/apps/details?id=com.clan.of.dogs', 'icon': 'https://play-lh.googleusercontent.com/JO2cxKk5L3onmu2dchAeRRZyWJuJ5q7veWenP7uSZfItcJLsq1pZPIEoDqc_QNOqp-Q=s128-rw', 'title': 'Clan of Dogs', 'developer': 'Wild Foot Games', 'developer_id': '6061726228463739055', 'description': 'Clan of Dogs 3D Animal Adventure Simulator', 'score': None, 'full_price': '0', 'price': '0', 'free': True}, {'app_id': 'com.flipray.help.dogs', 'url': '/store/apps/details?id=com.flipray.help.dogs', 'icon': 'https://play-lh.googleusercontent.com/F_42C9d-c3_30LtJ42GR7r53olmN7y-pue7Uy8rf7SMOCKM67colgjLqthBCSglqXJhm=s128-rw', 'title': 'Help The Dogs', 'developer': 'Flipray', 'developer_id': 'Flipray', 'description': 'Play as amazing human or dog that help the dogs in simulation game.', 'score': None, 'full_price': '0', 'price': '0', 'free': True}, {'app_id': 'com.mm.happy.family.pet.cat.dog.games.adventure', 'url': '/store/apps/details?id=com.mm.happy.family.pet.cat.dog.games.adventure', 'icon': 'https://play-lh.googleusercontent.com/iZ3CKoMfTUosw-hbhF9vu82fPlZ8d4VnUUWp8IGW7qcXG9_Mt5jtRkmTQyIN7Cm8qQ=s128-rw', 'title': 'My Cat, Dog Pet Simulator : Virtual Dog Games', 'developer': 'MobilMinds Apps', 'developer_id': '8384129624529484599', 'description': 'Let’s play the best Virtual dog pet cat home adventure family pet game.', 'score': None, 'full_price': '0', 'price': '0', 'free': True}, {'app_id': 'com.frequencygenerator.dogwhistle', 'url': '/store/apps/details?id=com.frequencygenerator.dogwhistle', 'icon': 'https://play-lh.googleusercontent.com/YpBor4yLIgXvWchGItkbUSVq88SdpXvJnuDvamZ_9kBeBYjyAwh_u6CqCC--OjALA9ul=s128-rw', 'title': 'Dog Whistle - High Frequency Generator', 'developer': 'Tech Arena Apps', 'developer_id': 'Tech Arena Apps', 'description': 'Train your dogs using Dog whistle. It generates high frequency sounds upto 22KHz', 'score': None, 'full_price': '0', 'price': '0', 'free': True}, {'app_id': 'com.playaction.flying.dog.animal.rescue', 'url': '/store/apps/details?id=com.playaction.flying.dog.animal.rescue', 'icon': 'https://play-lh.googleusercontent.com/qvuhBpcW5Xn1XJUKszh_EwbNFZqBUDSgqAVZVfskULBrOBcmtci45sLtNMnDMT8uO6w=s128-rw', 'title': 'Flying Super Hero Dog City Animal Rescue', 'developer': 'Play Action', 'developer_id': 'Play Action', 'description': 'Being a flying super dog hero, rescue animals & fight with gangsters in dog city', 'score': None, 'full_price': '0', 'price': '0', 'free': True}, {'app_id': 'com.aceviral.petrun', 'url': '/store/apps/details?id=com.aceviral.petrun', 'icon': 'https://play-lh.googleusercontent.com/ZUihlOorLleR2Ig_H9lJRUBkomnC3wqvtcahlAUOXtF7eCAy7A3uOhkFqmWH4uO5SEw=s128-rw', 'title': 'Pet Run - Puppy Dog Game', 'developer': 'Ace Viral', 'developer_id': 'Ace Viral', 'description': '🐶🐱 🐰 🐶 Play one of the best Running games on the store! Top Pet Racing Games', 'score': None, 'full_price': '0', 'price': '0', 'free': True}, {'app_id': 'com.lily.talking.dog', 'url': '/store/apps/details?id=com.lily.talking.dog', 'icon': 'https://play-lh.googleusercontent.com/K9E_pyOZQeKKGqhtosA5G0gNVAEglkjCwVKopkfby3VGZiRyYdx3i6aIPXeUQhOrjAQ=s128-rw', 'title': 'Talking Dog', 'developer': 'Talking Baby', 'developer_id': '5981335106476514858', 'description': 'From Talking Puppy and Friends - adopt Talking Dog, the cutest puppy dog!', 'score': None, 'full_price': '0', 'price': '0', 'free': True}, {'app_id': 'com.tinydragonadventuregames.puppy.dog.world.girls.craft.love.building.exploration.minecraft.pocket.my.virtual.pet.rescue.saga', 'url': '/store/apps/details?id=com.tinydragonadventuregames.puppy.dog.world.girls.craft.love.building.exploration.minecraft.pocket.my.virtual.pet.rescue.saga', 'icon': 'https://play-lh.googleusercontent.com/sqHUT4BgC2CeLjWNrTtx5sSRb528t8pxEYKTJ4pxrxjrmUiKXI5UQE8jn1CIPVCKs64=s128-rw', 'title': 'Pet Puppy Love: Girls Craft', 'developer': 'Tiny Dragon Adventure Games: Craft, Sport & RPG', 'developer_id': '6345261670638519127', 'description': 'Puppy dog & girls craft! Building & exploration! Create and craft! For Girls!', 'score': None, 'full_price': '0', 'price': '0', 'free': True}, {'app_id': 'com.gb.shepherd.dog.wild.animal.survival.sim', 'url': '/store/apps/details?id=com.gb.shepherd.dog.wild.animal.survival.sim', 'icon': 'https://play-lh.googleusercontent.com/Un08AE4_Img1uTGpSYd4LyirJyOU9Gp58bADBRd114CX_uAUGlDML7DIwZj-cD8kJJA=s128-rw', 'title': 'Shepherd Dog Simulator: Wild Animal Survival Games', 'developer': 'Gamerz Bay', 'developer_id': 'Gamerz Bay', 'description': 'Play as angry shepherd dog! save farm animals & crops from wild beasts attack', 'score': None, 'full_price': '0', 'price': '0', 'free': True}, {'app_id': 'com.gatoapps.dogtraining', 'url': '/store/apps/details?id=com.gatoapps.dogtraining', 'icon': 'https://play-lh.googleusercontent.com/a-zZJBSkuLrS4Sir9GESVF2ZVtDrYypry9YZkn5xdLWzkARmQCVrkqgmUdYVco768os=s128-rw', 'title': 'Dog Training', 'developer': 'Gato Apps', 'developer_id': 'Gato Apps', 'description': 'Here you will find the best guide of humane dog training information...', 'score': None, 'full_price': '0', 'price': '0', 'free': True}, {'app_id': 'com.FakeCallDog', 'url': '/store/apps/details?id=com.FakeCallDog', 'icon': 'https://play-lh.googleusercontent.com/FK-x5YdIdyzd9zaKLsDE5iUhnWugQ6vQRjJmSaf4H3ALuNWwWODa1cxQxFzLIQrxz4Lm=s128-rw', 'title': 'fake call dog game', 'developer': 'TenAppsAndGames', 'developer_id': 'TenAppsAndGames', 'description': 'fake call dog game. dogs sounds and pictures.', 'score': None, 'full_price': '0', 'price': '0', 'free': True}, {'app_id': 'com.i7.dogsimulator3d', 'url': '/store/apps/details?id=com.i7.dogsimulator3d', 'icon': 'https://play-lh.googleusercontent.com/qnS89nT5rGIvbQtUVUTGNIdafYF5XK-1LN0bRQY8xLyYgnk0_orYX_KLbTD1a-G0hyo=s128-rw', 'title': 'Dog Simulator Games Free Offline 2020 Sheep Dog', 'developer': 'i7 Games', 'developer_id': 'i7 Games', 'description': 'Free Dog Offline Game with cute puppies in City!', 'score': None, 'full_price': '0', 'price': '0', 'free': True}, {'app_id': 'com.captaincoon.dog.simulator', 'url': '/store/apps/details?id=com.captaincoon.dog.simulator', 'icon': 'https://play-lh.googleusercontent.com/NVfxHpfZdzzrE3WZ6UjIfCi77-EJKXyORZV0dZMGOwmyJ8nD-FbASwTqtj1I9jRoRA=s128-rw', 'title': 'Dog Language Translator Simulator - Talk to Pet', 'developer': 'Captain Coon', 'developer_id': 'Captain Coon', 'description': 'Do you want to understand your dog? Listen and speak to your little puppy. Woof!', 'score': None, 'full_price': '0', 'price': '0', 'free': True}, {'app_id': 'com.dogsounds.kuce', 'url': '/store/apps/details?id=com.dogsounds.kuce', 'icon': 'https://play-lh.googleusercontent.com/g9KEnrOfZBHhnqKLfy1SC1psQOwlxApfRtD8JXaIz9hXc3ciEUcVUU8CjhBOusya0w=s128-rw', 'title': 'Dog Sounds', 'developer': 'Boris J', 'developer_id': 'Boris J', 'description': '🐶 Collection of real dog sounds:  barking, puppy, howling, growl and toy sounds', 'score': None, 'full_price': '0', 'price': '0', 'free': True}, {'app_id': 'com.welikegames.BecameDog', 'url': '/store/apps/details?id=com.welikegames.BecameDog', 'icon': 'https://play-lh.googleusercontent.com/3hVhkiXVl6Sr27x1hwm5bbOf7t7Jb-GX4hl_9A-OnLqtbrdckbSYnhRjyspqbIyof-w=s128-rw', 'title': 'I Became a Dog', 'developer': 'We like games', 'developer_id': '7707877113347126743', 'description': 'Learn the dog language.\\nSurvive in the cruel world of dogs.', 'score': None, 'full_price': '0', 'price': '0', 'free': True}, {'app_id': 'com.chinandcheeks.dogtrainer', 'url': '/store/apps/details?id=com.chinandcheeks.dogtrainer', 'icon': 'https://play-lh.googleusercontent.com/XU0l7NIX09eFRa9_8evt4BEWct4-2ooA77C7L1bZf-D1etOxZIviuqYEQbFjgn5wyLU=s128-rw', 'title': 'Puppr - Dog Training & Tricks', 'developer': 'Chin and Cheeks LLC', 'developer_id': 'Chin and Cheeks LLC', 'description': 'Positive reinforcement training for dogs of all ages', 'score': None, 'full_price': '0', 'price': '0', 'free': True}, {'app_id': 'com.myvirtualpetdog.louiethepuggame', 'url': '/store/apps/details?id=com.myvirtualpetdog.louiethepuggame', 'icon': 'https://play-lh.googleusercontent.com/2-Ee6CUTNDXukiCo7bVAkgmoX8KfZ1josvhQBejONyWMarhspfLKywsF740BbLuAuQ=s128-rw', 'title': 'My Virtual Pet Dog 🐾 Louie the Pug', 'developer': 'Peaksel Games', 'developer_id': '5726034089055626621', 'description': 'Adopt Louie the Pug, your new favorite virtual pet dog & embrace that pug life!', 'score': None, 'full_price': '0', 'price': '0', 'free': True}, {'app_id': 'com.crossfield.doglife', 'url': '/store/apps/details?id=com.crossfield.doglife', 'icon': 'https://play-lh.googleusercontent.com/f-ASZPJUJhZNw6SKYnF54_RoZa-1LmVXMW33zkJ2WP54_nCt5E3-XLOmZO8vx58KhBpL=s128-rw', 'title': \"Cute Dog's Life\", 'developer': 'Cross Field Inc.', 'developer_id': '8349232061000500898', 'description': '★Puzzle game with cute pet Dogs★\\nEasy, swift, fun to play Puzzle game♪', 'score': None, 'full_price': '0', 'price': '0', 'free': True}, {'app_id': 'dogs.wall7Fon', 'url': '/store/apps/details?id=dogs.wall7Fon', 'icon': 'https://play-lh.googleusercontent.com/TGaPCEpWNktFJarFfItRzw6lG-1bLUnWVdQ13gLutQGrRg-TQkz7Mh39Z1vnomXExhw=s128-rw', 'title': 'Dog Wallpapers & Puppy Backgrounds', 'developer': '7Fon Wallpapers', 'developer_id': '7Fon Wallpapers', 'description': '4000+ excellent wallpapers with dogs and cute puppies! Dog backgrounds HD & 4K!', 'score': None, 'full_price': '0', 'price': '0', 'free': True}, {'app_id': 'com.kauf.talking.baum.TalkingJohnDogandSoundboard', 'url': '/store/apps/details?id=com.kauf.talking.baum.TalkingJohnDogandSoundboard', 'icon': 'https://play-lh.googleusercontent.com/1qX81XVMQRXtoZUHhYFOSXCCCJzBAU0m7h8x_ZH3GN7R8UDKhq2BdKT1s462o1xwbzo=s128-rw', 'title': 'Talking John Dog: Funny Dog', 'developer': 'Kaufcom Games Apps Widgets', 'developer_id': '6619571480222085241', 'description': 'Meet John the amazing Talking Dog! Play with him and his cool dog games.', 'score': None, 'full_price': '0', 'price': '0', 'free': True}, {'app_id': 'com.dogsimulator.rottweiler', 'url': '/store/apps/details?id=com.dogsimulator.rottweiler', 'icon': 'https://play-lh.googleusercontent.com/4pzzduhc2TxpD7zJ7qbwcVCzX90pQ3UyZigFqEvtt8DB1aheBIAHGY4SW-vaC8y9r24=s128-rw', 'title': 'Rottweiler Dog Simulator', 'developer': 'Dogs Simulator Home', 'developer_id': '6857763785947686391', 'description': 'The best Rottweiler Dog Simulator available on Android!', 'score': None, 'full_price': '0', 'price': '0', 'free': True}, {'app_id': 'com.dogsimulator.doberman', 'url': '/store/apps/details?id=com.dogsimulator.doberman', 'icon': 'https://play-lh.googleusercontent.com/ySCIWdKKIdQhl90igK1mAauzHVUjELX_SkB1hGiWuFRFnaVFZkr-lud3cHPNhBw55jk=s128-rw', 'title': 'Doberman Dog Simulator', 'developer': 'Dogs Simulator Home', 'developer_id': '6857763785947686391', 'description': 'The best Doberman Dog Simulator available on Android!', 'score': None, 'full_price': '0', 'price': '0', 'free': True}, {'app_id': 'com.bloop.dog', 'url': '/store/apps/details?id=com.bloop.dog', 'icon': 'https://play-lh.googleusercontent.com/AvZoveX9SkRcdc3RY33Bzf_dcHpHSAlcMypEaIoqQ3b0wg3is1MqIJiMYQN4sd6_rj_a=s128-rw', 'title': 'Dig Dog!', 'developer': 'HOMA GAMES', 'developer_id': '4656343638685426415', 'description': 'Find the bone!', 'score': None, 'full_price': '0', 'price': '0', 'free': True}, {'app_id': 'com.destotechgames.pet.dog.atv.transport', 'url': '/store/apps/details?id=com.destotechgames.pet.dog.atv.transport', 'icon': 'https://play-lh.googleusercontent.com/uPl61lLKKyX1CZiPRfuOHXdZWDqrGcm-who4RIsniB4aeZRe0_mgBLmfRN6WbHn8hbM=s128-rw', 'title': 'Pet Dog ATV Trolley Cargo Transport', 'developer': 'Desto Tech Games', 'developer_id': 'Desto Tech Games', 'description': 'Transport farm & pet dog breeds on transporter truck and ATV trolley', 'score': None, 'full_price': '0', 'price': '0', 'free': True}, {'app_id': 'com.libii.puppystory', 'url': '/store/apps/details?id=com.libii.puppystory', 'icon': 'https://play-lh.googleusercontent.com/eqxEj6rqoZMyqj5gTYCAxKZLd8ucdh1tBzbccCQl2wTjN1tqqadUpI3_fSj1XYl2y88=s128-rw', 'title': 'My Puppy Friend - Cute Pet Dog Care Games', 'developer': 'Libii', 'developer_id': '7670331570699900357', 'description': 'Life gets a whole lot more interesting when you take the puppies home!', 'score': None, 'full_price': '0', 'price': '0', 'free': True}, {'app_id': 'com.CyberGoldfinch.DogSimulator', 'url': '/store/apps/details?id=com.CyberGoldfinch.DogSimulator', 'icon': 'https://play-lh.googleusercontent.com/joJ3Pf83hjyy3bcXrxmGrAxhAUmeVxxNSPabSVAFke-njvOybFc3nuToWsRX4I7NLkk=s128-rw', 'title': 'Dog Simulator 3D', 'developer': 'CyberGoldfinch', 'developer_id': 'CyberGoldfinch', 'description': 'Create your own pack of dogs in the Dog Simulator 3D!', 'score': None, 'full_price': '0', 'price': '0', 'free': True}, {'app_id': 'com.ascodeapps.dogshelterrescue', 'url': '/store/apps/details?id=com.ascodeapps.dogshelterrescue', 'icon': 'https://play-lh.googleusercontent.com/wuMeQ0b5iiW50odPSI_aYANoN3yqWuMuDTs4FYCzmk7ITtzFvYF3ScKBR6bmok1SVnF7=s128-rw', 'title': 'Dog Shelter Rescue', 'developer': 'Sleutech Inc.', 'developer_id': 'Sleutech Inc.', 'description': 'Dog Shelter Rescue is a game that lets you be in charge of a dog shelter.', 'score': None, 'full_price': '0', 'price': '0', 'free': True}, {'app_id': 'com.bigbeep.dogtranslate', 'url': '/store/apps/details?id=com.bigbeep.dogtranslate', 'icon': 'https://play-lh.googleusercontent.com/Ls2mVSiDDMY5Clo_R8VC59U-GeSuiEn00sf70gkngk8CFKzPpQfv5pY2-dfe98uh2w=s128-rw', 'title': 'Dog Translator Simulator', 'developer': 'BigBeep', 'developer_id': 'BigBeep', 'description': 'Dog Translator joke translation speech for dogs and back', 'score': None, 'full_price': '0', 'price': '0', 'free': True}, {'app_id': 'com.sweefitstudios.drawdogs', 'url': '/store/apps/details?id=com.sweefitstudios.drawdogs', 'icon': 'https://play-lh.googleusercontent.com/qt6hpHGwu6-viUAKkw9nv3iH_IQYMvBfHwc1X-TbcjOOgbqH67K6SJITi64FzBhQRKk=s128-rw', 'title': 'How to Draw Dogs', 'developer': 'Sweefit Studios', 'developer_id': '8890723712967774017', 'description': 'An app that teaches you how to draw dogs step by step', 'score': None, 'full_price': '0', 'price': '0', 'free': True}]\n"
     ]
    }
   ],
   "source": [
    "print(play_scraper.search('dogs', page=2))"
   ]
  },
  {
   "cell_type": "code",
   "execution_count": 81,
   "metadata": {},
   "outputs": [
    {
     "output_type": "execute_result",
     "data": {
      "text/plain": [
       "{'NEW_FREE': 'topselling_new_free',\n",
       " 'NEW_PAID': 'topselling_new_paid',\n",
       " 'TOP_FREE': 'topselling_free',\n",
       " 'TOP_PAID': 'topselling_paid',\n",
       " 'TOP_GROSSING': 'topgrossing',\n",
       " 'TRENDING': 'movers_shakers'}"
      ]
     },
     "metadata": {},
     "execution_count": 81
    }
   ],
   "source": [
    "COLLECTIONS"
   ]
  },
  {
   "source": [
    "## Extract game information"
   ],
   "cell_type": "markdown",
   "metadata": {}
  },
  {
   "cell_type": "code",
   "execution_count": 26,
   "metadata": {},
   "outputs": [],
   "source": [
    "import os\n",
    "import json\n",
    "import pandas as pd \n",
    "\n",
    "# Get list of filenames\n",
    "file_list = list()\n",
    "for (dirpath, dirnames, filenames) in os.walk('./Data/google_games/'):\n",
    "    file_list += [os.path.join(dirpath, file) for file in filenames if file.endswith('.txt')]\n"
   ]
  },
  {
   "cell_type": "code",
   "execution_count": 27,
   "metadata": {},
   "outputs": [
    {
     "output_type": "execute_result",
     "data": {
      "text/plain": [
       "['./Data/google_games/AppID_GROSSING_GAME.txt',\n",
       " './Data/google_games/AppID_GROSSING_GAME_ACTION.txt',\n",
       " './Data/google_games/AppID_GROSSING_GAME_ADVENTURE.txt',\n",
       " './Data/google_games/AppID_GROSSING_GAME_ARCADE.txt',\n",
       " './Data/google_games/AppID_GROSSING_GAME_BOARD.txt',\n",
       " './Data/google_games/AppID_GROSSING_GAME_CARD.txt',\n",
       " './Data/google_games/AppID_GROSSING_GAME_CASINO.txt',\n",
       " './Data/google_games/AppID_GROSSING_GAME_CASUAL.txt',\n",
       " './Data/google_games/AppID_GROSSING_GAME_EDUCATIONAL.txt',\n",
       " './Data/google_games/AppID_GROSSING_GAME_MUSIC.txt']"
      ]
     },
     "metadata": {},
     "execution_count": 27
    }
   ],
   "source": [
    "file_list[:10]"
   ]
  },
  {
   "cell_type": "code",
   "execution_count": 7,
   "metadata": {},
   "outputs": [],
   "source": [
    "games = pd.DataFrame() # initialize df\n",
    "\n",
    "for f in file_list:\n",
    "    # open and read file contents\n",
    "    file = open(f, \"r\", encoding=\"utf8\")\n",
    "    dat = file.readlines()\n",
    "    file.close()\n",
    "\n",
    "    if dat: # if not empty\n",
    "        dat = json.loads(dat[0]) # convert stringified list of dictionaries to list\n",
    "        games = games.append(pd.DataFrame.from_dict(dat)) # convert to df and append to games\n",
    "\n",
    "games = games[['title', 'appId', 'developer', 'developerId','summary', 'score', 'scoreText', 'free', 'price', 'priceText', 'currency', 'url', 'icon']]  \n",
    "games = games.rename(columns={'appId':'app_id', 'developerId':'developer_id', 'scoreText':'scoretext', 'priceText':'pricetext'})"
   ]
  },
  {
   "cell_type": "code",
   "execution_count": 8,
   "metadata": {},
   "outputs": [
    {
     "output_type": "execute_result",
     "data": {
      "text/plain": [
       "10204"
      ]
     },
     "metadata": {},
     "execution_count": 8
    }
   ],
   "source": [
    "len(games)"
   ]
  },
  {
   "cell_type": "code",
   "execution_count": 9,
   "metadata": {},
   "outputs": [
    {
     "output_type": "execute_result",
     "data": {
      "text/plain": [
       "                        title                       app_id  \\\n",
       "0  Lords Mobile: Kingdom Wars  com.igg.android.lordsmobile   \n",
       "1                 Coin Master    com.moonactive.coinmaster   \n",
       "2            Candy Crush Saga      com.king.candycrushsaga   \n",
       "3                      Roblox            com.roblox.client   \n",
       "4              Genshin Impact     com.miHoYo.GenshinImpact   \n",
       "\n",
       "            developer         developer_id  \\\n",
       "0             IGG.COM  8895734616362643252   \n",
       "1         Moon Active  6898760406631171989   \n",
       "2                King  6577204690045492686   \n",
       "3  Roblox Corporation  5360036014478858866   \n",
       "4      miHoYo Limited       miHoYo+Limited   \n",
       "\n",
       "                                             summary     score scoretext  \\\n",
       "0  Wage MMORPG battles and conquer kingdoms to cr...  4.341024       4.3   \n",
       "1      Play the Best Adventure Game with Friends !!!  4.468981       4.5   \n",
       "2  🍭 The sweetest puzzle game! Switch, match &amp...  4.649807       4.6   \n",
       "3  Roblox lets you play, create, and be anything ...  4.524842       4.5   \n",
       "4  Explore a vast world of adventure in this all-...  4.520158       4.5   \n",
       "\n",
       "   free  price pricetext currency  \\\n",
       "0  True    0.0      FREE      NaN   \n",
       "1  True    0.0      FREE      NaN   \n",
       "2  True    0.0      FREE      NaN   \n",
       "3  True    0.0      FREE      NaN   \n",
       "4  True    0.0      FREE      NaN   \n",
       "\n",
       "                                                 url  \\\n",
       "0  https://play.google.com/store/apps/details?id=...   \n",
       "1  https://play.google.com/store/apps/details?id=...   \n",
       "2  https://play.google.com/store/apps/details?id=...   \n",
       "3  https://play.google.com/store/apps/details?id=...   \n",
       "4  https://play.google.com/store/apps/details?id=...   \n",
       "\n",
       "                                                icon  \n",
       "0  https://play-lh.googleusercontent.com/WTEF7gyQ...  \n",
       "1  https://play-lh.googleusercontent.com/3CHS0pAX...  \n",
       "2  https://play-lh.googleusercontent.com/C_1Cwsgu...  \n",
       "3  https://play-lh.googleusercontent.com/R5hLCLt9...  \n",
       "4  https://play-lh.googleusercontent.com/So91qs_e...  "
      ],
      "text/html": "<div>\n<style scoped>\n    .dataframe tbody tr th:only-of-type {\n        vertical-align: middle;\n    }\n\n    .dataframe tbody tr th {\n        vertical-align: top;\n    }\n\n    .dataframe thead th {\n        text-align: right;\n    }\n</style>\n<table border=\"1\" class=\"dataframe\">\n  <thead>\n    <tr style=\"text-align: right;\">\n      <th></th>\n      <th>title</th>\n      <th>app_id</th>\n      <th>developer</th>\n      <th>developer_id</th>\n      <th>summary</th>\n      <th>score</th>\n      <th>scoretext</th>\n      <th>free</th>\n      <th>price</th>\n      <th>pricetext</th>\n      <th>currency</th>\n      <th>url</th>\n      <th>icon</th>\n    </tr>\n  </thead>\n  <tbody>\n    <tr>\n      <td>0</td>\n      <td>Lords Mobile: Kingdom Wars</td>\n      <td>com.igg.android.lordsmobile</td>\n      <td>IGG.COM</td>\n      <td>8895734616362643252</td>\n      <td>Wage MMORPG battles and conquer kingdoms to cr...</td>\n      <td>4.341024</td>\n      <td>4.3</td>\n      <td>True</td>\n      <td>0.0</td>\n      <td>FREE</td>\n      <td>NaN</td>\n      <td>https://play.google.com/store/apps/details?id=...</td>\n      <td>https://play-lh.googleusercontent.com/WTEF7gyQ...</td>\n    </tr>\n    <tr>\n      <td>1</td>\n      <td>Coin Master</td>\n      <td>com.moonactive.coinmaster</td>\n      <td>Moon Active</td>\n      <td>6898760406631171989</td>\n      <td>Play the Best Adventure Game with Friends !!!</td>\n      <td>4.468981</td>\n      <td>4.5</td>\n      <td>True</td>\n      <td>0.0</td>\n      <td>FREE</td>\n      <td>NaN</td>\n      <td>https://play.google.com/store/apps/details?id=...</td>\n      <td>https://play-lh.googleusercontent.com/3CHS0pAX...</td>\n    </tr>\n    <tr>\n      <td>2</td>\n      <td>Candy Crush Saga</td>\n      <td>com.king.candycrushsaga</td>\n      <td>King</td>\n      <td>6577204690045492686</td>\n      <td>🍭 The sweetest puzzle game! Switch, match &amp;amp...</td>\n      <td>4.649807</td>\n      <td>4.6</td>\n      <td>True</td>\n      <td>0.0</td>\n      <td>FREE</td>\n      <td>NaN</td>\n      <td>https://play.google.com/store/apps/details?id=...</td>\n      <td>https://play-lh.googleusercontent.com/C_1Cwsgu...</td>\n    </tr>\n    <tr>\n      <td>3</td>\n      <td>Roblox</td>\n      <td>com.roblox.client</td>\n      <td>Roblox Corporation</td>\n      <td>5360036014478858866</td>\n      <td>Roblox lets you play, create, and be anything ...</td>\n      <td>4.524842</td>\n      <td>4.5</td>\n      <td>True</td>\n      <td>0.0</td>\n      <td>FREE</td>\n      <td>NaN</td>\n      <td>https://play.google.com/store/apps/details?id=...</td>\n      <td>https://play-lh.googleusercontent.com/R5hLCLt9...</td>\n    </tr>\n    <tr>\n      <td>4</td>\n      <td>Genshin Impact</td>\n      <td>com.miHoYo.GenshinImpact</td>\n      <td>miHoYo Limited</td>\n      <td>miHoYo+Limited</td>\n      <td>Explore a vast world of adventure in this all-...</td>\n      <td>4.520158</td>\n      <td>4.5</td>\n      <td>True</td>\n      <td>0.0</td>\n      <td>FREE</td>\n      <td>NaN</td>\n      <td>https://play.google.com/store/apps/details?id=...</td>\n      <td>https://play-lh.googleusercontent.com/So91qs_e...</td>\n    </tr>\n  </tbody>\n</table>\n</div>"
     },
     "metadata": {},
     "execution_count": 9
    }
   ],
   "source": [
    "games.head()"
   ]
  },
  {
   "cell_type": "code",
   "execution_count": 11,
   "metadata": {},
   "outputs": [
    {
     "output_type": "execute_result",
     "data": {
      "text/plain": [
       "7678"
      ]
     },
     "metadata": {},
     "execution_count": 11
    }
   ],
   "source": [
    "games = games.drop_duplicates(['app_id'], keep='first')\n",
    "len(games)"
   ]
  },
  {
   "cell_type": "code",
   "execution_count": 13,
   "metadata": {},
   "outputs": [
    {
     "output_type": "execute_result",
     "data": {
      "text/plain": [
       "True"
      ]
     },
     "metadata": {},
     "execution_count": 13
    }
   ],
   "source": [
    "games['app_id'].is_unique"
   ]
  },
  {
   "cell_type": "code",
   "execution_count": 14,
   "metadata": {},
   "outputs": [],
   "source": [
    "games.to_csv('./Data/google_games_info.csv', index=False)"
   ]
  },
  {
   "source": [
    "## More detailed game information"
   ],
   "cell_type": "markdown",
   "metadata": {}
  },
  {
   "cell_type": "code",
   "execution_count": 113,
   "metadata": {},
   "outputs": [],
   "source": [
    "games_detailed = pd.DataFrame() # init"
   ]
  },
  {
   "cell_type": "code",
   "execution_count": 140,
   "metadata": {},
   "outputs": [],
   "source": [
    "# not available games\n",
    "not_avail = ['com.procreate_adobeillustrator01.proguide01_app','com.countryball.strike.battle']"
   ]
  },
  {
   "cell_type": "code",
   "execution_count": 159,
   "metadata": {
    "tags": [
     "outputPrepend"
    ]
   },
   "outputs": [
    {
     "output_type": "stream",
     "name": "stdout",
     "text": [
      "n.memorymatch\n",
      "80 es.brokenrul.eloh\n",
      "81 com.imagofx.XonEp3\n",
      "82 com.firemaplegames.joe.Mosaika_iOS\n",
      "83 com.happylotusgames.lasluces\n",
      "84 com.Morgan.MMHMemoryMatch\n",
      "85 com.ThirtyPuzzles\n",
      "86 com.drbingen.slideit\n",
      "87 com.sonyayllc.ABCpuzzle\n",
      "88 com.zaax.android.mathtester\n",
      "89 magory.mahjongpremium\n",
      "90 com.alexuvarov.puzzler\n",
      "91 com.crevasse.notchess\n",
      "92 rooms.handmadegame.net\n",
      "93 com.Studio17.drawriderplus\n",
      "94 com.chennaigames.mrracer.premium\n",
      "95 com.TuningMania.IllegalRaceTuning\n",
      "96 mobi.bestfreegames.bike.mayhem.extreme.mountain.racing\n",
      "97 com.bennettracingsimulations.dirttrackin\n",
      "98 com.GigaBitGames.Ultra4OffroadRacing\n",
      "99 brownmonster.app.game.rushrally2\n",
      "100 com.trueaxis.jetcarstunts\n",
      "101 com.nextgenreality.minimoto\n",
      "102 com.IMStudio.PocketRally\n",
      "103 zgames.street.stock.racing\n",
      "104 com.twoxlgames.mxmatchup\n",
      "105 com.digitaldreamlabs.retrodrive\n",
      "106 com.badpotion.hyperburner\n",
      "107 com.twoxlgames.sxhd\n",
      "108 zgames.dirt.track.racing2\n",
      "109 com.dezi.rally7\n",
      "110 com.sinkingship.dinoracers\n",
      "111 com.JoshWongCreations.DraftMasterProRelease\n",
      "112 com.berkbox.jump2\n",
      "113 com.mvasiliy.dragracing3d\n",
      "114 com.NGG.DestructionOfWorldPro\n",
      "115 com.pixelbite.Repulze\n",
      "116 com.polarbit.Getaway\n",
      "117 com.codemasters.f12016\n",
      "118 com.trendygames.DutyDriverFULL\n",
      "119 zgames.sprint.racing.sprint1\n",
      "120 com.windoweduniverse.dirtracingmobile3d\n",
      "121 com.drpanda.racers\n",
      "122 com.polarbit.RecklessRacing2\n",
      "123 zgames.american.racing\n",
      "124 com.TeaWrecksGames.TurboEnduroFull\n",
      "125 com.polarbit.RecklessRacing\n",
      "126 com.AittokoskiExperience.PikkuliPyyralliEN\n",
      "127 com.NextPhase.RaidManager\n",
      "128 com.valorware.ninthdawniii\n",
      "129 com.yourcompany.adarkroom\n",
      "130 com.beamdog.pstee\n",
      "131 com.robot_circus.TTE\n",
      "132 com.atomrpg\n",
      "133 com.coffeestainstudios.goatsimulator.mmo\n",
      "134 com.beamdog.baldursgateenhancededition\n",
      "135 com.glutenfreegames.ultimatewolftwo\n",
      "136 com.square_enix.android_googleplay.FFIV_GP\n",
      "137 com.tinybuild.graveyardkeeper\n",
      "138 com.ninetailgames.roguehearts.paid\n",
      "139 com.square_enix.android_googleplay.FFVI\n",
      "140 com.coldteam.darkrage.ultimate\n",
      "141 com.eightyeightgames.ymbab\n",
      "142 com.square_enix.android_googleplay.FFV_GP\n",
      "143 com.square_enix.android_googleplay.FFIII_GP\n",
      "144 com.gm_shaber.dayrpremium\n",
      "145 com.inkle.sorcery1\n",
      "146 com.esaptonor.spacerpg3\n",
      "147 com.inkle.eightydays\n",
      "148 com.square_enix.android_googleplay.dq3_gp\n",
      "149 com.inxile.BardTale\n",
      "150 com.glutenfreegames.ultimateliontwo\n",
      "151 com.fantablade.icey\n",
      "152 com.hg.bcnw\n",
      "153 com.square_enix.android_googleplay.dq8\n",
      "154 com.square_enix.android_googleplay.dq2_gp\n",
      "155 com.playdigious.evoland2\n",
      "156 com.kiwiwalks.witchspring_lan_en\n",
      "157 kemco.execreate.asdivinesagapremium\n",
      "158 com.square_enix.android_googleplay.dq5\n",
      "159 com.glutenfreegames.ultimatefoxtwo\n",
      "160 com.square_enix.android_googleplay.dq4\n",
      "161 com.wereviz.evolution\n",
      "162 com.teamarex.troop\n",
      "163 com.square_enix.adventures\n",
      "164 br.com.beholdstudios.knightspp\n",
      "165 com.square_enix.android_googleplay.ffl_gp\n",
      "166 com.square_enix.android_googleplay.thelastremnantremastered\n",
      "167 kemco.hitpoint.viator\n",
      "168 com.glutenfreegames.ultimatearcticsimulator\n",
      "169 com.beamdog.icewinddale\n",
      "170 com.kiwiwalks.witchspring4\n",
      "171 com.corytrese.games.startraderselite\n",
      "172 com.MikaMobile.BattleheartReturns\n",
      "173 com.dimasgaming.vengeancerpggame\n",
      "174 com.mindblocks.blocks\n",
      "175 com.glutenfreegames.ultimateraptortwo\n",
      "176 com.panicartstudios.herosiegepocket\n",
      "177 com.thylacinestudios.siralim3\n",
      "178 com.antonskv.PixelTerra\n",
      "179 com.howard.justin.alterknight\n",
      "180 net.spacecan.juicyrealm.android\n",
      "181 hb.doom_and_destiny_advanced\n",
      "182 com.kiwiwalks.witchspringlunaml\n",
      "183 com.kiwiwalks.witchspring3\n",
      "184 sonorancadmdt.app\n",
      "185 com.square_enix.android_googleplay.dq6\n",
      "186 hu.redshift.thequest\n",
      "187 com.glutenfreegames.ultimateoceansimulator\n",
      "188 com.beamdog.baldursgateIIenhancededition\n",
      "189 com.glutenfreegames.ultimatespidertwo\n",
      "190 com.foxandsheep.animaldoctor\n",
      "191 kemco.rideonjapan.mareniabarpremium\n",
      "192 com.df.dogsledsaga\n",
      "193 com.choiceofgames.psyhigh\n",
      "194 com.okshur.enchantedCave2\n",
      "195 com.natsume.hmloh\n",
      "196 com.xd.tothemoon\n",
      "197 air.com.stoicstudio.BannerSaga\n",
      "198 com.glutenfreegames.ultimatepolarbeartwo\n",
      "199 com.dotomchi.mysteryOfFortune3\n",
      "200 com.delightgames.delightgamespremium\n",
      "201 com.archison.randomadventureroguelike2\n",
      "202 org.hostedgames.lordsofaswick\n",
      "203 org.hostedgames.lostheir1\n",
      "204 kemco.execreate.lostdragon\n",
      "205 com.inkle.sorcery2\n",
      "206 air.com.gambrinous.guildofdungeoneering\n",
      "207 com.MikaMobile.BattleheartLegacy\n",
      "208 kemco.execreate.saisikipremium\n",
      "209 com.KintoGames.bitDungeonIII\n",
      "210 com.protopop.brightridge\n",
      "211 hb.doom_and_destiny\n",
      "212 com.internetreshenia.JumpyHorseBreeding\n",
      "213 com.tresebrothers.games.battlefrontelite\n",
      "214 com.protopop.vandgels\n",
      "215 br.com.beholdstudios.galaxyofpenandpaper\n",
      "216 jm.rpgdice\n",
      "217 org.hostedgames.lifeofamobster\n",
      "218 com.ossianstudios.theshadowsun\n",
      "219 com.thegentlebros.catquest\n",
      "220 com.square_enix.android_googleplay.ValkyrieProfilew\n",
      "221 net.jkgames.roguelite2rpg\n",
      "222 air.glittercure\n",
      "223 com.inkle.sorcery3\n",
      "224 com.herocraft.kodp\n",
      "225 com.tresebrothers.games.cyberknightselite\n",
      "226 com.radial.aveyond1\n",
      "227 kemco.magitec.chromwolf\n",
      "228 com.nobstudio.chengshuwan.prisonLifeRPG\n",
      "229 com.square_enix.android_googleplay.SaGaSCARLETGRACEw\n",
      "230 us.kadokawa.gb.shieldhero_rta\n",
      "231 com.square_enix.chaosrings3gp\n",
      "232 org.hostedgames.studyinsteampunk\n",
      "233 ep3.littlekillerz.ringstrail\n",
      "234 com.beamdog.siegeofdragonspear\n",
      "235 org.hostedgames.lostheir2\n",
      "236 com.jkgames.knightbewitched\n",
      "237 halfgeek.sn2o\n",
      "238 kemco.execreate.asdivinekamura\n",
      "239 com.herd.squire\n",
      "240 com.square_enix.android_googleplay.ffl2w\n",
      "241 com.square_enix.android_googleplay.FF4AY_GP\n",
      "242 org.hostedgames.sabresofinfinity\n",
      "243 org.hostedgames.fatehaven\n",
      "244 air.com.kintogames.bitDungeonIII\n",
      "245 com.choiceofgames.heroesrise\n",
      "246 org.hostedgames.samuraiofhyuga3\n",
      "247 org.hostedgames.gunsofinfinity\n",
      "248 com.choiceofgames.champion\n",
      "249 com.dominaxisgames.android.labyrinthoflegendaryloot\n",
      "250 org.hostedgames.samuraiofhyuga2\n",
      "251 org.hostedgames.waywalkers\n",
      "252 com.paintcangames.blimps.paintcangames.Blimps\n",
      "253 com.hydrozoa.hhz\n",
      "254 com.bigshotgames.legendaryItemSuper\n",
      "255 kemco.execreate.dimensioncross\n",
      "256 com.crescentmoongames.ravensword2\n",
      "257 com.choiceofgames.robots\n",
      "258 com.dangenentertainment.arafellenhancededition\n",
      "259 game.pixelotkyle\n",
      "260 com.choiceofgames.versus1\n",
      "261 kemco.execreate.historiapremium\n",
      "262 kemco.execreate.innocentrevenger\n",
      "263 com.inkle.sorcery4\n",
      "264 com.choiceofgames.heroproject\n",
      "265 com.fuzzyhouse.FuzzyHousePremium\n",
      "266 com.harmonsam.prismscrollkotlin\n",
      "267 com.choiceofgames.petalthrone\n",
      "268 com.choiceofgames.wiseuseoftime\n",
      "269 org.hostedgames.lifeofawizard\n",
      "270 hu.redshift.thequestexpf\n",
      "271 com.wetproductions.mvgpaid\n",
      "272 org.hostedgames.waywalkers2\n",
      "273 com.crescentmoongames.aralon2\n",
      "274 com.archison.randomadventureroguelikepro\n",
      "275 com.choiceofgames.kendrickstone1\n",
      "276 com.playalterego.android\n",
      "277 com.choiceofgames.mechaace\n",
      "278 hu.redshift.thequestexp1\n",
      "279 air.bitDungeon\n",
      "280 rpg.jkgames.knightbewitched2\n",
      "281 kemco.hitpoint.crystalortha\n",
      "282 com.fantasyflightgames.GenesysDice\n",
      "283 it.reply.forge.lonewolfcomplete\n",
      "284 com.nsd.mysteryOfFortune2\n",
      "285 kemco.execreate.asdivinehearts\n",
      "286 com.appbites.pokemon.galardex\n",
      "287 kemco.execreate.asdivinehearts2premium\n",
      "288 com.dotemu.ys2x\n",
      "289 com.choiceofgames.vampire2\n",
      "290 com.mangobile.kingturnunderworld\n",
      "291 com.ret.game\n",
      "292 org.hostedgames.tinstar\n",
      "293 com.silversword_rpg.lootbox\n",
      "294 com.davidamador.quest_of_dungeons\n",
      "295 com.tresebrothers.games.heroesofsteelelite\n",
      "296 com.square_enix.android_googleplay.RomancingSaGa3ww\n",
      "297 com.bigshotgames.hero_managervip\n",
      "298 com.valorware.ninthdawnii\n",
      "299 com.hyperdevbox.spectralsouls\n",
      "300 com.BluefaceGames.DMDJ\n",
      "301 kemco.hitpoint.seisen\n",
      "302 hu.redshift.thequestexpc\n",
      "303 hu.redshift.thequestexp8\n",
      "304 com.dunamis.concordia\n",
      "305 com.the10tons.UndeadHorde\n",
      "306 com.lavalevel.questlord\n",
      "307 rpg.jkgames.knighteternal\n",
      "308 com.tribeplay.drpandakindergarten\n",
      "309 com.freeholdgames.sproggiwood\n",
      "310 com.hitcents.thepoliticalmachine\n",
      "311 com.mageeks.android.trucksimulatorpro2\n",
      "312 com.uplayonline.youtubers\n",
      "313 com.Sarepta.MyChildLebensborn\n",
      "314 io.emergentstudios.linerider\n",
      "315 com.bowengames.huntingusa\n",
      "316 com.kalypsomedia.projecthighrise\n",
      "317 com.jundroo.SimpleRockets2\n",
      "318 com.jundroo.SimplePlanes\n",
      "319 com.bowengames.pullingusa2\n",
      "320 com.astragon.cs2014\n",
      "321 com.kaigan.simulacra\n",
      "322 com.ChickenWaffle.BabyHands\n",
      "323 com.bowengames.farmingusa\n",
      "324 com.rawfury.kingdom2crowns\n",
      "325 com.everybodyhouse.paperclipsuniquetest\n",
      "326 com.glutenfreegames.catsimulatortwo\n",
      "327 uk.co.pocketlabs.pocketuniverse\n",
      "328 net.kairosoft.android.depart2\n",
      "329 com.astragon.cs2016\n",
      "330 com.glutenfreegames.ultimatebirdsimulator\n",
      "331 com.glutenfreegames.foxsimulatortwo\n",
      "332 games.paveldogreat.fluidsim\n",
      "333 com.skvgames.GalaxyGenome\n",
      "334 com.glutenfreegames.ultimatehorsetwo\n",
      "335 com.mageeks.android.trainsimulator\n",
      "336 com.glutenfreegames.ultimateforestsimulator\n",
      "337 com.glutenfreegames.dinosaursimulatortwo\n",
      "338 com.glutenfreegames.ultimatejunglesimulator\n",
      "339 com.glutenfreegames.ultimatedogsimulator\n",
      "340 com.bowengames.pullingusa\n",
      "341 jp.nippon1.disgaearefine\n",
      "342 com.aerofly.aerofly2android\n",
      "343 com.ogien.trainsimpro\n",
      "344 com.hg.townsmen7\n",
      "345 com.PanicEnsuesSoftware.CrashDive\n",
      "346 com.CheapShotGames.CultManagerGame\n",
      "347 com.killerfishgames.atlanticfleet\n",
      "348 com.kaigan.simulacra2\n",
      "349 com.Policesimulatorpro.PoliceGame\n",
      "350 kemco.wws.ixtna\n",
      "351 com.glutenfreegames.ultimatesafarisimulator\n",
      "352 com.poomgames.catforestpaid\n",
      "353 air.com.oranginalplan.weaphonesww22020\n",
      "354 com.elevenbitstudios.twommobile\n",
      "355 com.mnhksdev.antsimulationpro\n",
      "356 air.com.oranginalplan.weaphonesvol22020\n",
      "357 com.glutenfreegames.sharksimulatortwo\n",
      "358 com.wp.friendsim\n",
      "359 com.mageeks.android.constructionsim17\n",
      "360 org.tvp.kirikiri2\n",
      "361 net.kairosoft.android.densha_en\n",
      "362 com.mageeks.android.trucksimulatorpro2016\n",
      "363 com.psidevelopment.pacificfleet\n",
      "364 com.DamianBernardi.LawsofCivilization\n",
      "365 com.glutenfreegames.lionsimulatortwo\n",
      "366 com.glutenfreegames.horsesimulatortwo\n",
      "367 com.FlamebaitGames.Passpartout\n",
      "368 com.tribeplay.pandapostman\n",
      "369 de.dakror.quarry\n",
      "370 com.AbyteEntertainment.DealersLifeFull\n",
      "371 com.molleindustria.demsocsim\n",
      "372 com.Distinct.ItsTitanic2\n",
      "373 com.SimTrgGp.MobileFO2\n",
      "374 com.Garage_Heathen.TGotchi\n",
      "375 com.uplayonline.esportslifetycoon\n",
      "376 com.mageeks.android.trucksim18\n",
      "377 com.sega.score.touch\n",
      "378 com.jutsugames.operator112\n",
      "379 com.ultraandre.pccreatorpro\n",
      "380 com.fsdigital.skinstudio\n",
      "381 com.crewstudiokrueger.seriesmakerstycoon\n",
      "382 net.kairosoft.android.manga_ippon_en\n",
      "383 com.murudai.Solar2\n",
      "384 com.infinity.railways\n",
      "385 net.kairosoft.android.animestudio_en\n",
      "386 com.mooncoder.sailor\n",
      "387 com.geofs.sd\n",
      "388 com.rowlhouse.picasimdonate\n",
      "389 com.gambitious.ohsirex\n",
      "390 com.hg.titp\n",
      "391 com.jundroo.simplerockets\n",
      "392 com.kozgames.motordepot\n",
      "393 com.NGG.BlockTechGold\n",
      "394 com.glutenfreegames.ultimatefarmsimulator\n",
      "395 com.AndreyMelnikov.DRS\n",
      "396 com.Freeride.Freerider\n",
      "397 com.natsume.stone.android\n",
      "398 com.glutenfreegames.snakesimulator\n",
      "399 com.tribeplay.pandaspace\n",
      "400 com.glutenfreegames.dragonsimulatortwo\n",
      "401 com.glutenfreegames.griffinsimulator\n",
      "402 com.TheLonelyDeveloper.TheLonelyHacker\n",
      "403 com.bitzooma.blackborder\n",
      "404 com.mageeks.android.bussim17\n",
      "405 com.steenriver.dig\n",
      "406 com.glutenfreegames.snowleopardsimulator\n",
      "407 com.glutenfreegames.sabertoothsimulator\n",
      "408 com.epaga.ifassistant\n",
      "409 com.glutenfreegames.hyenasimulator\n",
      "410 com.mageeks.farmingpro3\n",
      "411 com.glutenfreegames.cheetahsimulator\n",
      "412 net.kairosoft.android.pictures\n",
      "413 com.SLTech.simLeaf\n",
      "414 net.kairosoft.android.pool\n",
      "415 com.glutenfreegames.crocodilesimulator\n",
      "416 com.casualbox.studio.butcherpro\n",
      "417 com.phanovatives.gunshipIII\n",
      "418 org.godotengine.plagudocreleasebeta\n",
      "419 com.ObnoxiousLaughter.BigChief\n",
      "420 com.moz.politics.us\n",
      "421 com.aerosoft.notrufmobile112\n",
      "422 com.bitbybitstudios.fiz\n",
      "423 com.oyatsukai.fractalcombatxpremium\n",
      "424 net.kairosoft.android.recycle_ja\n",
      "425 com.tribeplay.pandacityfull\n",
      "426 com.glutenfreegames.catsimulator\n",
      "427 com.reflexive.airportmania\n",
      "428 com.mageeks.android.farmingpro2016\n",
      "429 com.nooleus.android.sa2138\n",
      "430 air.com.oranginalplan.weaphonesantiques2020\n",
      "431 com.glutenfreegames.dragonsimulator\n",
      "432 com.thetisgames.googleplay.flywingsnynight\n",
      "433 com.studiopango.pangobuildsafari\n",
      "434 com.captaingames.freeway\n",
      "435 com.drpanda.city2\n",
      "436 com.glutenfreegames.panthersimulator\n",
      "437 com.tribeplay.pandaicecream\n",
      "438 com.RotangyStudio.RSandboxPay\n",
      "439 net.vertigogaming.cookservedeliciousglp\n",
      "440 com.ZeroneGames.GreenProject\n",
      "441 net.kairosoft.android.townshop_en\n",
      "442 com.phanovatives.gunshipIII.strike\n",
      "443 net.rangergo.rome\n",
      "444 com.highthere.nuked\n",
      "445 com.dirgtrats.endlessatc\n",
      "446 net.kairosoft.android.ongaku2_en\n",
      "447 com.glutenfreegames.dogsimulator\n",
      "448 net.zsoftware.mobile.highwaypatrolmobile\n",
      "449 com.Freeride.FreeriderRecharged\n",
      "450 com.codeknitters.silentdepth\n",
      "451 com.GamesFromGarage.PCArchitectAdvanced\n",
      "452 com.magicnotion.lovelife\n",
      "453 net.kairosoft.android.bokujou_en\n",
      "454 com.Jeminie.Hmmsim2\n",
      "455 com.nochistudios.siftingthyme\n",
      "456 net.diggidy.autodealershiptycoon\n",
      "457 com.phanovatives.gunshipIII.Korea\n",
      "458 com.glutenfreegames.velociraptorsimulator\n",
      "459 com.glutenfreegames.dinosaursimulator\n",
      "460 com.thetisgames.googleplay.flywingsfrance\n",
      "461 com.RhinoGearz.Harvest_Master\n",
      "462 com.fog.warplanesimpremium\n",
      "463 com.algorock.sp\n",
      "464 com.firerabbit.games.fmc.mot.full\n",
      "465 games.pixelsplit.frs4\n",
      "466 it.rortos.f18carrierlandingiipro\n",
      "467 com.elevenbitstudios.twomstoriesmobile\n",
      "468 net.kairosoft.android.magazine_en\n",
      "469 com.glutenfreegames.scorpionsimulator\n",
      "470 com.trendygames.DutyDriverTaxiFULL\n",
      "471 com.GorillaGamesStudio.Zombie\n",
      "472 it.rortos.airnavyfightersx\n",
      "473 com.ogien.kidstrainspro\n",
      "474 com.Creativeworld.QuadcopterFXpro\n",
      "475 com.farm.hell.clicker.pro\n",
      "476 subway.android\n",
      "477 hfgames.reactionlab2\n",
      "478 com.headupgames.bridgeconstructormedieval\n",
      "479 it.vascottod.U_BoatSimulator\n",
      "480 com.supermd.pro\n",
      "481 air.dgcon.future\n",
      "482 com.okidokico.okgolf\n",
      "483 com.MoFunZone.DuckLifeRetroPack\n",
      "484 com.gravitysensation.sumotori\n",
      "485 com.anetos.perfectputt360\n",
      "486 net.kairosoft.android.paddock_en\n",
      "487 com.noodlecake.pumped3\n",
      "488 com.pishtech.mifdp\n",
      "489 com.mad.DuckLifeSpace\n",
      "490 com.footballagent\n",
      "491 com.dudeperfect.dudeperfect\n",
      "492 com.hotmail.zolnier.CollegeBBallCoach\n",
      "493 com.undergroundcreative.footballchairmanpro\n",
      "494 com.captaingames.golf\n",
      "495 com.noodlecake.pumped2\n",
      "496 com.batts.psf2017\n",
      "497 com.driftwood.galaxybowl\n",
      "498 net.kairosoft.android.baseball_en\n",
      "499 com.captaingames.mars\n",
      "500 com.noodlecake.trailboss\n",
      "501 com.mlb.RBIBaseball2019\n",
      "502 com.internetreshenia.JumpyHorseShowJumping\n",
      "503 fi.kuvakertomo.discgolfgame\n",
      "504 com.artilleray.pingballfootball.android\n",
      "505 com.aleksirantonen.clayhuntpro\n",
      "506 air.DM15\n",
      "507 com.ratrodstudio.snowparty\n",
      "508 com.rawkins.dolphinupfull\n",
      "509 com.ratrodstudio.mikevskateparty\n",
      "510 com.rcflightsim.cvplane1\n",
      "511 com.DDI.SeaFishingSimulator\n",
      "512 com.ratrodstudio.skateparty3\n",
      "513 com.DDI.CarpFishingSimulator\n",
      "514 net.kairosoft.android.soccer_en\n",
      "515 com.mlb.RBIBaseball\n",
      "516 com.celeris.VirtualPool\n",
      "517 cresco.americanfootballmanager\n",
      "518 com.herocraft.game.icerage\n",
      "519 com.mlb.RBIBaseball16\n",
      "520 com.asmodeedigital.scythe\n",
      "521 com.feralinteractive.companyofheroes_android\n",
      "522 air.com.flipline.papastacomiatogo\n",
      "523 com.nuclearunicorn.kittensgame\n",
      "524 air.com.flipline.papashotdoggeriatogo\n",
      "525 age.of.civilizations2.jakowski.lukasz\n",
      "526 com.sidelesscubestudios.lazysweettycoon\n",
      "527 air.com.flipline.papascupcakeriatogo\n",
      "528 com.hatsproductions.OrganTrail\n",
      "529 com.tinybuildgames.punchclub\n",
      "530 fi.bugbyte.harbinger\n",
      "531 com.jollypixel.greatwar.android\n",
      "532 valsar.dungeonwarfare2\n",
      "533 com.feralinteractive.tropico3\n",
      "534 com.feralinteractive.rometwbi\n",
      "535 com.vanderveergames.wotz\n",
      "536 valsar.dungeonwarfare\n",
      "537 com.rprod.sevenwonders\n",
      "538 com.kurechii.tinyguardians\n",
      "539 nl.noio.kingdom\n",
      "540 com.rprod.duel\n",
      "541 ch.feinheit.games.firststrike\n",
      "542 gosoft.allcountriesprosimulatorsecond\n",
      "543 com.oxiwyle.modernagepremium\n",
      "544 com.electrowolff.war\n",
      "545 age.of.civilizations.jakowski\n",
      "546 com.worms2armageddon.app\n",
      "547 com.team17.sheltered\n",
      "548 com.Wirraway.PacificFire\n",
      "549 com.feralinteractive.rometwalex\n",
      "550 com.Isotope244LLC.MachinesatWar3\n",
      "551 com.magicnotion.kpmatchmaker\n",
      "552 air.com.sarahnorthway.rebuild2\n",
      "553 com.hg.ttdotm\n",
      "554 yio.tro.vodobanka_pro\n",
      "555 com.gamenauts.klo\n",
      "556 com.herocraft.game.majesty\n",
      "557 air.com.flipline.papasfreezeriahd\n",
      "558 com.playdekgames.agricola_rev\n",
      "559 com.clarusvictoria.maremaster\n",
      "560 com.rubicon.dev.glwg2\n",
      "561 com.rubicon.dev.elwg\n",
      "562 net.defensezone3.ultra\n",
      "563 com.birdshel.Uciana\n",
      "564 yio.tro.achikaps_pro\n",
      "565 com.mkarpenko.lsflw2\n",
      "566 air.com.flipline.papashotdoggeriahd\n",
      "567 com.gamefirst.religioninc\n",
      "568 air.com.flipline.papaspizzeriahd\n",
      "569 com.tresebrothers.games.factionwarselite\n",
      "570 game.RGS.FARMYARKO\n",
      "571 com.thirtyonex.TransportTycoon\n",
      "572 age.of.civilizations2.jakowski.lukasz.europe\n",
      "573 com.HuaYiGame.DeliveryFromThePain.GooglePlay\n",
      "574 com.foursakenmedia.blockfortress\n",
      "575 com.miclos.google.games.outthere\n",
      "576 com.HighlandStudio.HeroesOfFlatlandia1\n",
      "577 com.foursakenmedia.blockfortresswar\n",
      "578 com.windowsgames.firefight\n",
      "579 com.DenisMakhortov.CivilizationPath\n",
      "580 com.SongGameDev.EleTD\n",
      "581 com.rubicon.dev.gbwg\n",
      "582 kemco.hitpoint.tactica\n",
      "583 net.kairosoft.android.noujou_en\n",
      "584 fi.bugbyte.battlevoid\n",
      "585 com.hg.frozenfront\n",
      "586 air.com.flipline.papastacomiahd\n",
      "587 com.eightfloor.roadsoftime.premium.googleplay\n",
      "588 com.pokulan.aliveinshelteradult\n",
      "589 com.kevinbradford.games.campaign\n",
      "590 ox.tanks\n",
      "591 com.QCFDesign.DesktopDungeonsMobile\n",
      "592 com.zitga.empire.warriors.td.tower.defense\n",
      "593 air.com.flipline.papasburgeria\n",
      "594 com.asmodeedigital.zombicidev2\n",
      "595 air.air.RedSunPremium\n",
      "596 air.com.clarusvictoria.preciv.ba\n",
      "597 com.easytech.ew3\n",
      "598 air.com.flipline.papasscooperiahd\n",
      "599 com.jollypixel.gettysburg.android\n",
      "600 ru.gamedevteam.mechcom3\n",
      "601 ru.gamedevteam.wz\n",
      "602 ru.gamedevteam.mechcom\n",
      "603 com.musicalbox.idle.armada\n",
      "604 com.hg.rebelcops\n",
      "605 com.TwinStoneStudio.TheLastRomanVillage\n",
      "606 com.hexwar.civilwar1861\n",
      "607 com.mozglabs.zcd2\n",
      "608 com.herocraft.game.majesty_ne\n",
      "609 com.jollypixel.saratoga.android\n",
      "610 com.microids.google.HaegemoniaFull\n",
      "611 smpxg.mythdefdf_pt\n",
      "612 com.easytech.wc1\n",
      "613 com.SeriousSim.RadioCommanderMobile\n",
      "614 com.jollypixel.bullrun.android\n",
      "615 age.of.civilizations.europe.jakowski\n",
      "616 com.gameops.cta\n",
      "617 com.clarus.egyptfull\n",
      "618 pl.jujubee.realpolitiks\n",
      "619 com.windowsgames.slay\n",
      "620 com.valentinstudio.OperationCitadel\n",
      "621 com.perchang.wq\n",
      "622 appinventor.ai_museopikassa.Donner_Pikasus89\n",
      "623 illwinter.CoE3.game\n",
      "624 com.homemadegames.frontwars\n",
      "625 com.rubicon.dev.glwg\n",
      "626 com.mozglabs.citysiedge\n",
      "627 air.com.flipline.papaspancakeriahd\n",
      "628 com.tortugateam.braveland.v2\n",
      "629 com.lonelybench.DuckWarfare\n",
      "630 com.bistudio.at\n",
      "631 air.com.flipline.papascupcakeriahd\n",
      "632 com.framelinenetwork.TheTerminalGame\n",
      "633 com.kbs.EDMEApp\n",
      "634 com.wyvern.king\n",
      "635 com.OneManStudio.NGTD\n",
      "636 age.of.civilizations2.jakowski.lukasz.asia\n",
      "637 com.johntillersoftware.k42\n",
      "638 air.sina.ratsinvasion2\n",
      "639 com.windowsgames.moab\n",
      "640 com.eightfloor.crownoftheempire2aroundtheworld.premium.googleplay\n",
      "641 com.hexwar.rebelsandredcoats\n",
      "642 com.johntillersoftware.fg85\n",
      "643 com.divmob.autochess.heroesinfinity\n",
      "644 com.inocoplus.victory\n",
      "645 com.jollypixel.waterloo.android\n",
      "646 com.coaguco.thedopegame.androidedition\n",
      "647 air.com.flipline.papaswingeriahd\n",
      "648 com.game.drisk\n",
      "649 com.divmob.eternitylegends.leagueofgods.premium\n",
      "650 com.versusevil.antiherogame\n",
      "651 com.desertstormfront.android.full\n",
      "652 com.BaronnerieGames.ElectromazeDefense\n",
      "653 com.jusckeux.frontarmies\n",
      "654 com.herocraft.game.full.medieval\n",
      "655 pt.cosmicode.guessupkids\n",
      "656 com.omgpop.dstpaid\n",
      "657 com.teazel.crossword.full\n",
      "658 com.brainium.jumbline2\n",
      "659 com.sparkgenius.TGGWordGenerator\n",
      "660 air.com.littlebigplay.games.wordgamespro\n",
      "661 com.ortsoftware.crosscrazePro\n",
      "662 appinventor.ai_lollaoubay.Call_masha\n",
      "663 com.smallbigsquare.rosetteandwords\n",
      "664 com.woopss.citynames\n",
      "665 com.teazel.codeword.full\n",
      "666 com.teazel.crossword.cryptic.full\n",
      "667 air.com.littlebigplay.games.wordsearchdailypro\n",
      "668 com.ideascanvas.Alphabet\n",
      "669 net.ancientabyss.textrace\n",
      "670 com.windowsgames.wordstorm\n",
      "671 air.com.littlebigplay.games.premium.wordsearchgames\n",
      "672 com.verywisetech.pictionarypro\n",
      "673 com.blog.deschamps.crosswords.pro\n",
      "674 agamz.acrostics\n",
      "675 com.avrinross.wordowlthirdgrade\n",
      "676 com.club.tipoff\n",
      "677 com.avrinross.wordowlsecondgrade\n",
      "Wall time: 3min 41s\n"
     ]
    }
   ],
   "source": [
    "%%time\n",
    "\n",
    "from google_play_scraper import app\n",
    "\n",
    "df = pd.DataFrame() # init\n",
    "\n",
    "# relevant features\n",
    "needed_keys = ['title', 'summary', 'minInstalls', 'score', 'ratings', 'reviews', 'price', 'free', 'currency', 'originalPrice', 'inAppProductPrice', 'developerInternalID', 'genre', 'genreId', 'icon', 'screenshots', 'video', 'contentRatingDescription', 'containsAds', 'released', 'editorsChoice', 'appId', 'url']\n",
    "\n",
    "tmp = games['app_id']\n",
    "#tmp = tmp[:2000]\n",
    "#tmp = tmp[2000:3000]\n",
    "#tmp = tmp[3000:5000]\n",
    "#tmp = tmp[5000:6000]\n",
    "#tmp = tmp[6000:7000]\n",
    "tmp = tmp[7000:8000]\n",
    "tmp = tmp[~tmp.isin(not_avail)] # remove games that cannot be queried\n",
    "\n",
    "for c,g in enumerate(tmp):\n",
    "    print(str(c) + ' ' + g)\n",
    "    game_info = app(\n",
    "        g,\n",
    "        lang='en', # defaults to 'en'\n",
    "        country='sg' # defaults to 'us'\n",
    "    )\n",
    "    # get only needed features\n",
    "    game_relevant_info = {needed_key: game_info.get(needed_key) for needed_key in needed_keys}\n",
    "    df = df.append(pd.DataFrame([game_relevant_info])) # append to df\n",
    "\n"
   ]
  },
  {
   "cell_type": "code",
   "execution_count": 160,
   "metadata": {},
   "outputs": [],
   "source": [
    "games_detailed = games_detailed.append(df)"
   ]
  },
  {
   "cell_type": "code",
   "execution_count": 161,
   "metadata": {},
   "outputs": [
    {
     "output_type": "execute_result",
     "data": {
      "text/plain": [
       "7676"
      ]
     },
     "metadata": {},
     "execution_count": 161
    }
   ],
   "source": [
    "len(games_detailed)"
   ]
  },
  {
   "cell_type": "code",
   "execution_count": 152,
   "metadata": {},
   "outputs": [
    {
     "output_type": "execute_result",
     "data": {
      "text/plain": [
       "1000"
      ]
     },
     "metadata": {},
     "execution_count": 152
    }
   ],
   "source": [
    "len(df)"
   ]
  },
  {
   "cell_type": "code",
   "execution_count": 167,
   "metadata": {},
   "outputs": [
    {
     "output_type": "execute_result",
     "data": {
      "text/plain": [
       "                        title  \\\n",
       "0  Lords Mobile: Kingdom Wars   \n",
       "1                 Coin Master   \n",
       "2            Candy Crush Saga   \n",
       "3                      Roblox   \n",
       "4              Genshin Impact   \n",
       "\n",
       "                                             summary  minInstalls    score  \\\n",
       "0  Wage MMORPG battles and conquer kingdoms to cr...    100000000  4.29967   \n",
       "1      Play the Best Adventure Game with Friends !!!    100000000  4.25733   \n",
       "2  🍭 The sweetest puzzle game! Switch, match & bl...   1000000000  4.56761   \n",
       "3  Roblox lets you play, create, and be anything ...    100000000  4.41789   \n",
       "4  Explore a vast world of adventure in this all-...     10000000  4.51227   \n",
       "\n",
       "    ratings   reviews price  free currency originalPrice  ...         genreId  \\\n",
       "0   5925891   2370535     0  True      USD          None  ...   GAME_STRATEGY   \n",
       "1   4957682   2049583     0  True      USD          None  ...     GAME_CASUAL   \n",
       "2  30248536   9132189     0  True      USD          None  ...     GAME_CASUAL   \n",
       "3  18604733  11546490     0  True      USD          None  ...  GAME_ADVENTURE   \n",
       "4   1048233    402590     0  True      USD          None  ...  GAME_ADVENTURE   \n",
       "\n",
       "                                                icon  \\\n",
       "0  https://play-lh.googleusercontent.com/WTEF7gyQ...   \n",
       "1  https://play-lh.googleusercontent.com/3CHS0pAX...   \n",
       "2  https://play-lh.googleusercontent.com/JBYbLwAq...   \n",
       "3  https://play-lh.googleusercontent.com/R5hLCLt9...   \n",
       "4  https://play-lh.googleusercontent.com/So91qs_e...   \n",
       "\n",
       "                                         screenshots  \\\n",
       "0  [https://play-lh.googleusercontent.com/Bo3R8Bw...   \n",
       "1  [https://play-lh.googleusercontent.com/XAYxL63...   \n",
       "2  [https://play-lh.googleusercontent.com/rkXNGR3...   \n",
       "3  [https://play-lh.googleusercontent.com/sM1bmvA...   \n",
       "4  [https://play-lh.googleusercontent.com/GvRfape...   \n",
       "\n",
       "                                               video contentRatingDescription  \\\n",
       "0  https://www.youtube.com/embed/bYkLJH182Zk?ps=p...            Mild Violence   \n",
       "1                                               None       Simulated Gambling   \n",
       "2  https://www.youtube.com/embed/yn-LW2f7UPc?ps=p...                     None   \n",
       "3  https://www.youtube.com/embed/T_rkoL9vt3g?ps=p...      Mild Violence, Fear   \n",
       "4  https://www.youtube.com/embed/QytOl_lghSY?ps=p...        Moderate Violence   \n",
       "\n",
       "  containsAds      released editorsChoice                        appId  \\\n",
       "0       False  Feb 25, 2016          True  com.igg.android.lordsmobile   \n",
       "1        True  Feb 28, 2016         False    com.moonactive.coinmaster   \n",
       "2        True  Nov 15, 2012         False      com.king.candycrushsaga   \n",
       "3       False  Jul 16, 2014         False            com.roblox.client   \n",
       "4       False  Sep 26, 2020          True     com.miHoYo.GenshinImpact   \n",
       "\n",
       "                                                 url  \n",
       "0  https://play.google.com/store/apps/details?id=...  \n",
       "1  https://play.google.com/store/apps/details?id=...  \n",
       "2  https://play.google.com/store/apps/details?id=...  \n",
       "3  https://play.google.com/store/apps/details?id=...  \n",
       "4  https://play.google.com/store/apps/details?id=...  \n",
       "\n",
       "[5 rows x 23 columns]"
      ],
      "text/html": "<div>\n<style scoped>\n    .dataframe tbody tr th:only-of-type {\n        vertical-align: middle;\n    }\n\n    .dataframe tbody tr th {\n        vertical-align: top;\n    }\n\n    .dataframe thead th {\n        text-align: right;\n    }\n</style>\n<table border=\"1\" class=\"dataframe\">\n  <thead>\n    <tr style=\"text-align: right;\">\n      <th></th>\n      <th>title</th>\n      <th>summary</th>\n      <th>minInstalls</th>\n      <th>score</th>\n      <th>ratings</th>\n      <th>reviews</th>\n      <th>price</th>\n      <th>free</th>\n      <th>currency</th>\n      <th>originalPrice</th>\n      <th>...</th>\n      <th>genreId</th>\n      <th>icon</th>\n      <th>screenshots</th>\n      <th>video</th>\n      <th>contentRatingDescription</th>\n      <th>containsAds</th>\n      <th>released</th>\n      <th>editorsChoice</th>\n      <th>appId</th>\n      <th>url</th>\n    </tr>\n  </thead>\n  <tbody>\n    <tr>\n      <td>0</td>\n      <td>Lords Mobile: Kingdom Wars</td>\n      <td>Wage MMORPG battles and conquer kingdoms to cr...</td>\n      <td>100000000</td>\n      <td>4.29967</td>\n      <td>5925891</td>\n      <td>2370535</td>\n      <td>0</td>\n      <td>True</td>\n      <td>USD</td>\n      <td>None</td>\n      <td>...</td>\n      <td>GAME_STRATEGY</td>\n      <td>https://play-lh.googleusercontent.com/WTEF7gyQ...</td>\n      <td>[https://play-lh.googleusercontent.com/Bo3R8Bw...</td>\n      <td>https://www.youtube.com/embed/bYkLJH182Zk?ps=p...</td>\n      <td>Mild Violence</td>\n      <td>False</td>\n      <td>Feb 25, 2016</td>\n      <td>True</td>\n      <td>com.igg.android.lordsmobile</td>\n      <td>https://play.google.com/store/apps/details?id=...</td>\n    </tr>\n    <tr>\n      <td>1</td>\n      <td>Coin Master</td>\n      <td>Play the Best Adventure Game with Friends !!!</td>\n      <td>100000000</td>\n      <td>4.25733</td>\n      <td>4957682</td>\n      <td>2049583</td>\n      <td>0</td>\n      <td>True</td>\n      <td>USD</td>\n      <td>None</td>\n      <td>...</td>\n      <td>GAME_CASUAL</td>\n      <td>https://play-lh.googleusercontent.com/3CHS0pAX...</td>\n      <td>[https://play-lh.googleusercontent.com/XAYxL63...</td>\n      <td>None</td>\n      <td>Simulated Gambling</td>\n      <td>True</td>\n      <td>Feb 28, 2016</td>\n      <td>False</td>\n      <td>com.moonactive.coinmaster</td>\n      <td>https://play.google.com/store/apps/details?id=...</td>\n    </tr>\n    <tr>\n      <td>2</td>\n      <td>Candy Crush Saga</td>\n      <td>🍭 The sweetest puzzle game! Switch, match &amp; bl...</td>\n      <td>1000000000</td>\n      <td>4.56761</td>\n      <td>30248536</td>\n      <td>9132189</td>\n      <td>0</td>\n      <td>True</td>\n      <td>USD</td>\n      <td>None</td>\n      <td>...</td>\n      <td>GAME_CASUAL</td>\n      <td>https://play-lh.googleusercontent.com/JBYbLwAq...</td>\n      <td>[https://play-lh.googleusercontent.com/rkXNGR3...</td>\n      <td>https://www.youtube.com/embed/yn-LW2f7UPc?ps=p...</td>\n      <td>None</td>\n      <td>True</td>\n      <td>Nov 15, 2012</td>\n      <td>False</td>\n      <td>com.king.candycrushsaga</td>\n      <td>https://play.google.com/store/apps/details?id=...</td>\n    </tr>\n    <tr>\n      <td>3</td>\n      <td>Roblox</td>\n      <td>Roblox lets you play, create, and be anything ...</td>\n      <td>100000000</td>\n      <td>4.41789</td>\n      <td>18604733</td>\n      <td>11546490</td>\n      <td>0</td>\n      <td>True</td>\n      <td>USD</td>\n      <td>None</td>\n      <td>...</td>\n      <td>GAME_ADVENTURE</td>\n      <td>https://play-lh.googleusercontent.com/R5hLCLt9...</td>\n      <td>[https://play-lh.googleusercontent.com/sM1bmvA...</td>\n      <td>https://www.youtube.com/embed/T_rkoL9vt3g?ps=p...</td>\n      <td>Mild Violence, Fear</td>\n      <td>False</td>\n      <td>Jul 16, 2014</td>\n      <td>False</td>\n      <td>com.roblox.client</td>\n      <td>https://play.google.com/store/apps/details?id=...</td>\n    </tr>\n    <tr>\n      <td>4</td>\n      <td>Genshin Impact</td>\n      <td>Explore a vast world of adventure in this all-...</td>\n      <td>10000000</td>\n      <td>4.51227</td>\n      <td>1048233</td>\n      <td>402590</td>\n      <td>0</td>\n      <td>True</td>\n      <td>USD</td>\n      <td>None</td>\n      <td>...</td>\n      <td>GAME_ADVENTURE</td>\n      <td>https://play-lh.googleusercontent.com/So91qs_e...</td>\n      <td>[https://play-lh.googleusercontent.com/GvRfape...</td>\n      <td>https://www.youtube.com/embed/QytOl_lghSY?ps=p...</td>\n      <td>Moderate Violence</td>\n      <td>False</td>\n      <td>Sep 26, 2020</td>\n      <td>True</td>\n      <td>com.miHoYo.GenshinImpact</td>\n      <td>https://play.google.com/store/apps/details?id=...</td>\n    </tr>\n  </tbody>\n</table>\n<p>5 rows × 23 columns</p>\n</div>"
     },
     "metadata": {},
     "execution_count": 167
    }
   ],
   "source": [
    "games_detailed = games_detailed.reset_index(drop=True)\n",
    "games_detailed.head()"
   ]
  },
  {
   "cell_type": "code",
   "execution_count": 163,
   "metadata": {},
   "outputs": [],
   "source": [
    "games_detailed.to_csv('./Data/google_games_info_detailed.csv', index=False)"
   ]
  },
  {
   "source": [
    "## Google Games Reviews Scrape"
   ],
   "cell_type": "markdown",
   "metadata": {}
  },
  {
   "cell_type": "code",
   "execution_count": 168,
   "metadata": {},
   "outputs": [],
   "source": [
    "from google_play_scraper import Sort, reviews_all\n",
    "\n",
    "reviews = pd.DataFrame() # init"
   ]
  },
  {
   "cell_type": "code",
   "execution_count": 184,
   "metadata": {},
   "outputs": [
    {
     "output_type": "stream",
     "name": "stdout",
     "text": [
      "0 com.igg.android.lordsmobile\n",
      "1 com.moonactive.coinmaster\n",
      "2 com.king.candycrushsaga\n"
     ]
    },
    {
     "output_type": "error",
     "ename": "KeyboardInterrupt",
     "evalue": "",
     "traceback": [
      "\u001b[1;31m---------------------------------------------------------------------------\u001b[0m",
      "\u001b[1;31mKeyboardInterrupt\u001b[0m                         Traceback (most recent call last)",
      "\u001b[1;32m<ipython-input-184-e574e1af35ed>\u001b[0m in \u001b[0;36m<module>\u001b[1;34m\u001b[0m\n\u001b[0;32m     11\u001b[0m         \u001b[0mlang\u001b[0m\u001b[1;33m=\u001b[0m\u001b[1;34m'en'\u001b[0m\u001b[1;33m,\u001b[0m \u001b[1;31m# defaults to 'en'\u001b[0m\u001b[1;33m\u001b[0m\u001b[1;33m\u001b[0m\u001b[0m\n\u001b[0;32m     12\u001b[0m         \u001b[0mcountry\u001b[0m\u001b[1;33m=\u001b[0m\u001b[1;34m'sg'\u001b[0m\u001b[1;33m,\u001b[0m \u001b[1;31m# defaults to 'us'\u001b[0m\u001b[1;33m\u001b[0m\u001b[1;33m\u001b[0m\u001b[0m\n\u001b[1;32m---> 13\u001b[1;33m         \u001b[0msort\u001b[0m\u001b[1;33m=\u001b[0m\u001b[0mSort\u001b[0m\u001b[1;33m.\u001b[0m\u001b[0mMOST_RELEVANT\u001b[0m\u001b[1;33m,\u001b[0m \u001b[1;31m# defaults to Sort.MOST_RELEVANT\u001b[0m\u001b[1;33m\u001b[0m\u001b[1;33m\u001b[0m\u001b[0m\n\u001b[0m\u001b[0;32m     14\u001b[0m     )\n\u001b[0;32m     15\u001b[0m     \u001b[0mdf\u001b[0m \u001b[1;33m=\u001b[0m \u001b[0mpd\u001b[0m\u001b[1;33m.\u001b[0m\u001b[0mDataFrame\u001b[0m\u001b[1;33m.\u001b[0m\u001b[0mfrom_dict\u001b[0m\u001b[1;33m(\u001b[0m\u001b[0mresult\u001b[0m\u001b[1;33m)\u001b[0m\u001b[1;33m\u001b[0m\u001b[1;33m\u001b[0m\u001b[0m\n",
      "\u001b[1;32m~\\AppData\\Local\\Continuum\\anaconda3\\lib\\site-packages\\google_play_scraper\\features\\reviews.py\u001b[0m in \u001b[0;36mreviews_all\u001b[1;34m(app_id, sleep_milliseconds, **kwargs)\u001b[0m\n\u001b[0;32m    152\u001b[0m     \u001b[1;32mwhile\u001b[0m \u001b[1;32mTrue\u001b[0m\u001b[1;33m:\u001b[0m\u001b[1;33m\u001b[0m\u001b[1;33m\u001b[0m\u001b[0m\n\u001b[0;32m    153\u001b[0m         result_, _continuation_token = reviews(\n\u001b[1;32m--> 154\u001b[1;33m             \u001b[0mapp_id\u001b[0m\u001b[1;33m,\u001b[0m \u001b[0mcount\u001b[0m\u001b[1;33m=\u001b[0m\u001b[0m_count\u001b[0m\u001b[1;33m,\u001b[0m \u001b[0mcontinuation_token\u001b[0m\u001b[1;33m=\u001b[0m\u001b[0m_continuation_token\u001b[0m\u001b[1;33m,\u001b[0m \u001b[1;33m**\u001b[0m\u001b[0mkwargs\u001b[0m\u001b[1;33m\u001b[0m\u001b[1;33m\u001b[0m\u001b[0m\n\u001b[0m\u001b[0;32m    155\u001b[0m         )\n\u001b[0;32m    156\u001b[0m \u001b[1;33m\u001b[0m\u001b[0m\n",
      "\u001b[1;32m~\\AppData\\Local\\Continuum\\anaconda3\\lib\\site-packages\\google_play_scraper\\features\\reviews.py\u001b[0m in \u001b[0;36mreviews\u001b[1;34m(app_id, lang, country, sort, count, filter_score_with, continuation_token)\u001b[0m\n\u001b[0;32m    110\u001b[0m         \u001b[1;32mtry\u001b[0m\u001b[1;33m:\u001b[0m\u001b[1;33m\u001b[0m\u001b[1;33m\u001b[0m\u001b[0m\n\u001b[0;32m    111\u001b[0m             review_items, token = _fetch_review_items(\n\u001b[1;32m--> 112\u001b[1;33m                 \u001b[0murl\u001b[0m\u001b[1;33m,\u001b[0m \u001b[0mapp_id\u001b[0m\u001b[1;33m,\u001b[0m \u001b[0msort\u001b[0m\u001b[1;33m,\u001b[0m \u001b[0m_count\u001b[0m\u001b[1;33m,\u001b[0m \u001b[0mfilter_score_with\u001b[0m\u001b[1;33m,\u001b[0m \u001b[0mtoken\u001b[0m\u001b[1;33m\u001b[0m\u001b[1;33m\u001b[0m\u001b[0m\n\u001b[0m\u001b[0;32m    113\u001b[0m             )\n\u001b[0;32m    114\u001b[0m         \u001b[1;32mexcept\u001b[0m \u001b[1;33m(\u001b[0m\u001b[0mTypeError\u001b[0m\u001b[1;33m,\u001b[0m \u001b[0mIndexError\u001b[0m\u001b[1;33m)\u001b[0m\u001b[1;33m:\u001b[0m\u001b[1;33m\u001b[0m\u001b[1;33m\u001b[0m\u001b[0m\n",
      "\u001b[1;32m~\\AppData\\Local\\Continuum\\anaconda3\\lib\\site-packages\\google_play_scraper\\features\\reviews.py\u001b[0m in \u001b[0;36m_fetch_review_items\u001b[1;34m(url, app_id, sort, count, filter_score_with, pagination_token)\u001b[0m\n\u001b[0;32m     52\u001b[0m             \u001b[0mpagination_token\u001b[0m\u001b[1;33m,\u001b[0m\u001b[1;33m\u001b[0m\u001b[1;33m\u001b[0m\u001b[0m\n\u001b[0;32m     53\u001b[0m         ),\n\u001b[1;32m---> 54\u001b[1;33m         \u001b[1;33m{\u001b[0m\u001b[1;34m\"content-type\"\u001b[0m\u001b[1;33m:\u001b[0m \u001b[1;34m\"application/x-www-form-urlencoded\"\u001b[0m\u001b[1;33m}\u001b[0m\u001b[1;33m,\u001b[0m\u001b[1;33m\u001b[0m\u001b[1;33m\u001b[0m\u001b[0m\n\u001b[0m\u001b[0;32m     55\u001b[0m     )\n\u001b[0;32m     56\u001b[0m \u001b[1;33m\u001b[0m\u001b[0m\n",
      "\u001b[1;32m~\\AppData\\Local\\Continuum\\anaconda3\\lib\\site-packages\\google_play_scraper\\utils\\request.py\u001b[0m in \u001b[0;36mpost\u001b[1;34m(url, data, headers)\u001b[0m\n\u001b[0;32m     27\u001b[0m     \u001b[1;31m# type: (str, Union[str, bytes], dict) -> str\u001b[0m\u001b[1;33m\u001b[0m\u001b[1;33m\u001b[0m\u001b[1;33m\u001b[0m\u001b[0m\n\u001b[0;32m     28\u001b[0m \u001b[1;33m\u001b[0m\u001b[0m\n\u001b[1;32m---> 29\u001b[1;33m     \u001b[1;32mreturn\u001b[0m \u001b[0m_urlopen\u001b[0m\u001b[1;33m(\u001b[0m\u001b[0mRequest\u001b[0m\u001b[1;33m(\u001b[0m\u001b[0murl\u001b[0m\u001b[1;33m,\u001b[0m \u001b[0mdata\u001b[0m\u001b[1;33m=\u001b[0m\u001b[0mdata\u001b[0m\u001b[1;33m,\u001b[0m \u001b[0mheaders\u001b[0m\u001b[1;33m=\u001b[0m\u001b[0mheaders\u001b[0m\u001b[1;33m)\u001b[0m\u001b[1;33m)\u001b[0m\u001b[1;33m\u001b[0m\u001b[1;33m\u001b[0m\u001b[0m\n\u001b[0m\u001b[0;32m     30\u001b[0m \u001b[1;33m\u001b[0m\u001b[0m\n\u001b[0;32m     31\u001b[0m \u001b[1;33m\u001b[0m\u001b[0m\n",
      "\u001b[1;32m~\\AppData\\Local\\Continuum\\anaconda3\\lib\\site-packages\\google_play_scraper\\utils\\request.py\u001b[0m in \u001b[0;36m_urlopen\u001b[1;34m(obj)\u001b[0m\n\u001b[0;32m     12\u001b[0m \u001b[1;32mdef\u001b[0m \u001b[0m_urlopen\u001b[0m\u001b[1;33m(\u001b[0m\u001b[0mobj\u001b[0m\u001b[1;33m)\u001b[0m\u001b[1;33m:\u001b[0m\u001b[1;33m\u001b[0m\u001b[1;33m\u001b[0m\u001b[0m\n\u001b[0;32m     13\u001b[0m     \u001b[1;32mtry\u001b[0m\u001b[1;33m:\u001b[0m\u001b[1;33m\u001b[0m\u001b[1;33m\u001b[0m\u001b[0m\n\u001b[1;32m---> 14\u001b[1;33m         \u001b[0mresp\u001b[0m \u001b[1;33m=\u001b[0m \u001b[0murlopen\u001b[0m\u001b[1;33m(\u001b[0m\u001b[0mobj\u001b[0m\u001b[1;33m)\u001b[0m\u001b[1;33m\u001b[0m\u001b[1;33m\u001b[0m\u001b[0m\n\u001b[0m\u001b[0;32m     15\u001b[0m     \u001b[1;32mexcept\u001b[0m \u001b[0mHTTPError\u001b[0m \u001b[1;32mas\u001b[0m \u001b[0me\u001b[0m\u001b[1;33m:\u001b[0m\u001b[1;33m\u001b[0m\u001b[1;33m\u001b[0m\u001b[0m\n\u001b[0;32m     16\u001b[0m         \u001b[1;32mif\u001b[0m \u001b[0me\u001b[0m\u001b[1;33m.\u001b[0m\u001b[0mcode\u001b[0m \u001b[1;33m==\u001b[0m \u001b[1;36m404\u001b[0m\u001b[1;33m:\u001b[0m\u001b[1;33m\u001b[0m\u001b[1;33m\u001b[0m\u001b[0m\n",
      "\u001b[1;32m~\\AppData\\Local\\Continuum\\anaconda3\\lib\\urllib\\request.py\u001b[0m in \u001b[0;36murlopen\u001b[1;34m(url, data, timeout, cafile, capath, cadefault, context)\u001b[0m\n\u001b[0;32m    220\u001b[0m     \u001b[1;32melse\u001b[0m\u001b[1;33m:\u001b[0m\u001b[1;33m\u001b[0m\u001b[1;33m\u001b[0m\u001b[0m\n\u001b[0;32m    221\u001b[0m         \u001b[0mopener\u001b[0m \u001b[1;33m=\u001b[0m \u001b[0m_opener\u001b[0m\u001b[1;33m\u001b[0m\u001b[1;33m\u001b[0m\u001b[0m\n\u001b[1;32m--> 222\u001b[1;33m     \u001b[1;32mreturn\u001b[0m \u001b[0mopener\u001b[0m\u001b[1;33m.\u001b[0m\u001b[0mopen\u001b[0m\u001b[1;33m(\u001b[0m\u001b[0murl\u001b[0m\u001b[1;33m,\u001b[0m \u001b[0mdata\u001b[0m\u001b[1;33m,\u001b[0m \u001b[0mtimeout\u001b[0m\u001b[1;33m)\u001b[0m\u001b[1;33m\u001b[0m\u001b[1;33m\u001b[0m\u001b[0m\n\u001b[0m\u001b[0;32m    223\u001b[0m \u001b[1;33m\u001b[0m\u001b[0m\n\u001b[0;32m    224\u001b[0m \u001b[1;32mdef\u001b[0m \u001b[0minstall_opener\u001b[0m\u001b[1;33m(\u001b[0m\u001b[0mopener\u001b[0m\u001b[1;33m)\u001b[0m\u001b[1;33m:\u001b[0m\u001b[1;33m\u001b[0m\u001b[1;33m\u001b[0m\u001b[0m\n",
      "\u001b[1;32m~\\AppData\\Local\\Continuum\\anaconda3\\lib\\urllib\\request.py\u001b[0m in \u001b[0;36mopen\u001b[1;34m(self, fullurl, data, timeout)\u001b[0m\n\u001b[0;32m    523\u001b[0m             \u001b[0mreq\u001b[0m \u001b[1;33m=\u001b[0m \u001b[0mmeth\u001b[0m\u001b[1;33m(\u001b[0m\u001b[0mreq\u001b[0m\u001b[1;33m)\u001b[0m\u001b[1;33m\u001b[0m\u001b[1;33m\u001b[0m\u001b[0m\n\u001b[0;32m    524\u001b[0m \u001b[1;33m\u001b[0m\u001b[0m\n\u001b[1;32m--> 525\u001b[1;33m         \u001b[0mresponse\u001b[0m \u001b[1;33m=\u001b[0m \u001b[0mself\u001b[0m\u001b[1;33m.\u001b[0m\u001b[0m_open\u001b[0m\u001b[1;33m(\u001b[0m\u001b[0mreq\u001b[0m\u001b[1;33m,\u001b[0m \u001b[0mdata\u001b[0m\u001b[1;33m)\u001b[0m\u001b[1;33m\u001b[0m\u001b[1;33m\u001b[0m\u001b[0m\n\u001b[0m\u001b[0;32m    526\u001b[0m \u001b[1;33m\u001b[0m\u001b[0m\n\u001b[0;32m    527\u001b[0m         \u001b[1;31m# post-process response\u001b[0m\u001b[1;33m\u001b[0m\u001b[1;33m\u001b[0m\u001b[1;33m\u001b[0m\u001b[0m\n",
      "\u001b[1;32m~\\AppData\\Local\\Continuum\\anaconda3\\lib\\urllib\\request.py\u001b[0m in \u001b[0;36m_open\u001b[1;34m(self, req, data)\u001b[0m\n\u001b[0;32m    541\u001b[0m         \u001b[0mprotocol\u001b[0m \u001b[1;33m=\u001b[0m \u001b[0mreq\u001b[0m\u001b[1;33m.\u001b[0m\u001b[0mtype\u001b[0m\u001b[1;33m\u001b[0m\u001b[1;33m\u001b[0m\u001b[0m\n\u001b[0;32m    542\u001b[0m         result = self._call_chain(self.handle_open, protocol, protocol +\n\u001b[1;32m--> 543\u001b[1;33m                                   '_open', req)\n\u001b[0m\u001b[0;32m    544\u001b[0m         \u001b[1;32mif\u001b[0m \u001b[0mresult\u001b[0m\u001b[1;33m:\u001b[0m\u001b[1;33m\u001b[0m\u001b[1;33m\u001b[0m\u001b[0m\n\u001b[0;32m    545\u001b[0m             \u001b[1;32mreturn\u001b[0m \u001b[0mresult\u001b[0m\u001b[1;33m\u001b[0m\u001b[1;33m\u001b[0m\u001b[0m\n",
      "\u001b[1;32m~\\AppData\\Local\\Continuum\\anaconda3\\lib\\urllib\\request.py\u001b[0m in \u001b[0;36m_call_chain\u001b[1;34m(self, chain, kind, meth_name, *args)\u001b[0m\n\u001b[0;32m    501\u001b[0m         \u001b[1;32mfor\u001b[0m \u001b[0mhandler\u001b[0m \u001b[1;32min\u001b[0m \u001b[0mhandlers\u001b[0m\u001b[1;33m:\u001b[0m\u001b[1;33m\u001b[0m\u001b[1;33m\u001b[0m\u001b[0m\n\u001b[0;32m    502\u001b[0m             \u001b[0mfunc\u001b[0m \u001b[1;33m=\u001b[0m \u001b[0mgetattr\u001b[0m\u001b[1;33m(\u001b[0m\u001b[0mhandler\u001b[0m\u001b[1;33m,\u001b[0m \u001b[0mmeth_name\u001b[0m\u001b[1;33m)\u001b[0m\u001b[1;33m\u001b[0m\u001b[1;33m\u001b[0m\u001b[0m\n\u001b[1;32m--> 503\u001b[1;33m             \u001b[0mresult\u001b[0m \u001b[1;33m=\u001b[0m \u001b[0mfunc\u001b[0m\u001b[1;33m(\u001b[0m\u001b[1;33m*\u001b[0m\u001b[0margs\u001b[0m\u001b[1;33m)\u001b[0m\u001b[1;33m\u001b[0m\u001b[1;33m\u001b[0m\u001b[0m\n\u001b[0m\u001b[0;32m    504\u001b[0m             \u001b[1;32mif\u001b[0m \u001b[0mresult\u001b[0m \u001b[1;32mis\u001b[0m \u001b[1;32mnot\u001b[0m \u001b[1;32mNone\u001b[0m\u001b[1;33m:\u001b[0m\u001b[1;33m\u001b[0m\u001b[1;33m\u001b[0m\u001b[0m\n\u001b[0;32m    505\u001b[0m                 \u001b[1;32mreturn\u001b[0m \u001b[0mresult\u001b[0m\u001b[1;33m\u001b[0m\u001b[1;33m\u001b[0m\u001b[0m\n",
      "\u001b[1;32m~\\AppData\\Local\\Continuum\\anaconda3\\lib\\urllib\\request.py\u001b[0m in \u001b[0;36mhttps_open\u001b[1;34m(self, req)\u001b[0m\n\u001b[0;32m   1358\u001b[0m         \u001b[1;32mdef\u001b[0m \u001b[0mhttps_open\u001b[0m\u001b[1;33m(\u001b[0m\u001b[0mself\u001b[0m\u001b[1;33m,\u001b[0m \u001b[0mreq\u001b[0m\u001b[1;33m)\u001b[0m\u001b[1;33m:\u001b[0m\u001b[1;33m\u001b[0m\u001b[1;33m\u001b[0m\u001b[0m\n\u001b[0;32m   1359\u001b[0m             return self.do_open(http.client.HTTPSConnection, req,\n\u001b[1;32m-> 1360\u001b[1;33m                 context=self._context, check_hostname=self._check_hostname)\n\u001b[0m\u001b[0;32m   1361\u001b[0m \u001b[1;33m\u001b[0m\u001b[0m\n\u001b[0;32m   1362\u001b[0m         \u001b[0mhttps_request\u001b[0m \u001b[1;33m=\u001b[0m \u001b[0mAbstractHTTPHandler\u001b[0m\u001b[1;33m.\u001b[0m\u001b[0mdo_request_\u001b[0m\u001b[1;33m\u001b[0m\u001b[1;33m\u001b[0m\u001b[0m\n",
      "\u001b[1;32m~\\AppData\\Local\\Continuum\\anaconda3\\lib\\urllib\\request.py\u001b[0m in \u001b[0;36mdo_open\u001b[1;34m(self, http_class, req, **http_conn_args)\u001b[0m\n\u001b[0;32m   1318\u001b[0m             \u001b[1;32mexcept\u001b[0m \u001b[0mOSError\u001b[0m \u001b[1;32mas\u001b[0m \u001b[0merr\u001b[0m\u001b[1;33m:\u001b[0m \u001b[1;31m# timeout error\u001b[0m\u001b[1;33m\u001b[0m\u001b[1;33m\u001b[0m\u001b[0m\n\u001b[0;32m   1319\u001b[0m                 \u001b[1;32mraise\u001b[0m \u001b[0mURLError\u001b[0m\u001b[1;33m(\u001b[0m\u001b[0merr\u001b[0m\u001b[1;33m)\u001b[0m\u001b[1;33m\u001b[0m\u001b[1;33m\u001b[0m\u001b[0m\n\u001b[1;32m-> 1320\u001b[1;33m             \u001b[0mr\u001b[0m \u001b[1;33m=\u001b[0m \u001b[0mh\u001b[0m\u001b[1;33m.\u001b[0m\u001b[0mgetresponse\u001b[0m\u001b[1;33m(\u001b[0m\u001b[1;33m)\u001b[0m\u001b[1;33m\u001b[0m\u001b[1;33m\u001b[0m\u001b[0m\n\u001b[0m\u001b[0;32m   1321\u001b[0m         \u001b[1;32mexcept\u001b[0m\u001b[1;33m:\u001b[0m\u001b[1;33m\u001b[0m\u001b[1;33m\u001b[0m\u001b[0m\n\u001b[0;32m   1322\u001b[0m             \u001b[0mh\u001b[0m\u001b[1;33m.\u001b[0m\u001b[0mclose\u001b[0m\u001b[1;33m(\u001b[0m\u001b[1;33m)\u001b[0m\u001b[1;33m\u001b[0m\u001b[1;33m\u001b[0m\u001b[0m\n",
      "\u001b[1;32m~\\AppData\\Local\\Continuum\\anaconda3\\lib\\http\\client.py\u001b[0m in \u001b[0;36mgetresponse\u001b[1;34m(self)\u001b[0m\n\u001b[0;32m   1334\u001b[0m         \u001b[1;32mtry\u001b[0m\u001b[1;33m:\u001b[0m\u001b[1;33m\u001b[0m\u001b[1;33m\u001b[0m\u001b[0m\n\u001b[0;32m   1335\u001b[0m             \u001b[1;32mtry\u001b[0m\u001b[1;33m:\u001b[0m\u001b[1;33m\u001b[0m\u001b[1;33m\u001b[0m\u001b[0m\n\u001b[1;32m-> 1336\u001b[1;33m                 \u001b[0mresponse\u001b[0m\u001b[1;33m.\u001b[0m\u001b[0mbegin\u001b[0m\u001b[1;33m(\u001b[0m\u001b[1;33m)\u001b[0m\u001b[1;33m\u001b[0m\u001b[1;33m\u001b[0m\u001b[0m\n\u001b[0m\u001b[0;32m   1337\u001b[0m             \u001b[1;32mexcept\u001b[0m \u001b[0mConnectionError\u001b[0m\u001b[1;33m:\u001b[0m\u001b[1;33m\u001b[0m\u001b[1;33m\u001b[0m\u001b[0m\n\u001b[0;32m   1338\u001b[0m                 \u001b[0mself\u001b[0m\u001b[1;33m.\u001b[0m\u001b[0mclose\u001b[0m\u001b[1;33m(\u001b[0m\u001b[1;33m)\u001b[0m\u001b[1;33m\u001b[0m\u001b[1;33m\u001b[0m\u001b[0m\n",
      "\u001b[1;32m~\\AppData\\Local\\Continuum\\anaconda3\\lib\\http\\client.py\u001b[0m in \u001b[0;36mbegin\u001b[1;34m(self)\u001b[0m\n\u001b[0;32m    304\u001b[0m         \u001b[1;31m# read until we get a non-100 response\u001b[0m\u001b[1;33m\u001b[0m\u001b[1;33m\u001b[0m\u001b[1;33m\u001b[0m\u001b[0m\n\u001b[0;32m    305\u001b[0m         \u001b[1;32mwhile\u001b[0m \u001b[1;32mTrue\u001b[0m\u001b[1;33m:\u001b[0m\u001b[1;33m\u001b[0m\u001b[1;33m\u001b[0m\u001b[0m\n\u001b[1;32m--> 306\u001b[1;33m             \u001b[0mversion\u001b[0m\u001b[1;33m,\u001b[0m \u001b[0mstatus\u001b[0m\u001b[1;33m,\u001b[0m \u001b[0mreason\u001b[0m \u001b[1;33m=\u001b[0m \u001b[0mself\u001b[0m\u001b[1;33m.\u001b[0m\u001b[0m_read_status\u001b[0m\u001b[1;33m(\u001b[0m\u001b[1;33m)\u001b[0m\u001b[1;33m\u001b[0m\u001b[1;33m\u001b[0m\u001b[0m\n\u001b[0m\u001b[0;32m    307\u001b[0m             \u001b[1;32mif\u001b[0m \u001b[0mstatus\u001b[0m \u001b[1;33m!=\u001b[0m \u001b[0mCONTINUE\u001b[0m\u001b[1;33m:\u001b[0m\u001b[1;33m\u001b[0m\u001b[1;33m\u001b[0m\u001b[0m\n\u001b[0;32m    308\u001b[0m                 \u001b[1;32mbreak\u001b[0m\u001b[1;33m\u001b[0m\u001b[1;33m\u001b[0m\u001b[0m\n",
      "\u001b[1;32m~\\AppData\\Local\\Continuum\\anaconda3\\lib\\http\\client.py\u001b[0m in \u001b[0;36m_read_status\u001b[1;34m(self)\u001b[0m\n\u001b[0;32m    265\u001b[0m \u001b[1;33m\u001b[0m\u001b[0m\n\u001b[0;32m    266\u001b[0m     \u001b[1;32mdef\u001b[0m \u001b[0m_read_status\u001b[0m\u001b[1;33m(\u001b[0m\u001b[0mself\u001b[0m\u001b[1;33m)\u001b[0m\u001b[1;33m:\u001b[0m\u001b[1;33m\u001b[0m\u001b[1;33m\u001b[0m\u001b[0m\n\u001b[1;32m--> 267\u001b[1;33m         \u001b[0mline\u001b[0m \u001b[1;33m=\u001b[0m \u001b[0mstr\u001b[0m\u001b[1;33m(\u001b[0m\u001b[0mself\u001b[0m\u001b[1;33m.\u001b[0m\u001b[0mfp\u001b[0m\u001b[1;33m.\u001b[0m\u001b[0mreadline\u001b[0m\u001b[1;33m(\u001b[0m\u001b[0m_MAXLINE\u001b[0m \u001b[1;33m+\u001b[0m \u001b[1;36m1\u001b[0m\u001b[1;33m)\u001b[0m\u001b[1;33m,\u001b[0m \u001b[1;34m\"iso-8859-1\"\u001b[0m\u001b[1;33m)\u001b[0m\u001b[1;33m\u001b[0m\u001b[1;33m\u001b[0m\u001b[0m\n\u001b[0m\u001b[0;32m    268\u001b[0m         \u001b[1;32mif\u001b[0m \u001b[0mlen\u001b[0m\u001b[1;33m(\u001b[0m\u001b[0mline\u001b[0m\u001b[1;33m)\u001b[0m \u001b[1;33m>\u001b[0m \u001b[0m_MAXLINE\u001b[0m\u001b[1;33m:\u001b[0m\u001b[1;33m\u001b[0m\u001b[1;33m\u001b[0m\u001b[0m\n\u001b[0;32m    269\u001b[0m             \u001b[1;32mraise\u001b[0m \u001b[0mLineTooLong\u001b[0m\u001b[1;33m(\u001b[0m\u001b[1;34m\"status line\"\u001b[0m\u001b[1;33m)\u001b[0m\u001b[1;33m\u001b[0m\u001b[1;33m\u001b[0m\u001b[0m\n",
      "\u001b[1;32m~\\AppData\\Local\\Continuum\\anaconda3\\lib\\socket.py\u001b[0m in \u001b[0;36mreadinto\u001b[1;34m(self, b)\u001b[0m\n\u001b[0;32m    587\u001b[0m         \u001b[1;32mwhile\u001b[0m \u001b[1;32mTrue\u001b[0m\u001b[1;33m:\u001b[0m\u001b[1;33m\u001b[0m\u001b[1;33m\u001b[0m\u001b[0m\n\u001b[0;32m    588\u001b[0m             \u001b[1;32mtry\u001b[0m\u001b[1;33m:\u001b[0m\u001b[1;33m\u001b[0m\u001b[1;33m\u001b[0m\u001b[0m\n\u001b[1;32m--> 589\u001b[1;33m                 \u001b[1;32mreturn\u001b[0m \u001b[0mself\u001b[0m\u001b[1;33m.\u001b[0m\u001b[0m_sock\u001b[0m\u001b[1;33m.\u001b[0m\u001b[0mrecv_into\u001b[0m\u001b[1;33m(\u001b[0m\u001b[0mb\u001b[0m\u001b[1;33m)\u001b[0m\u001b[1;33m\u001b[0m\u001b[1;33m\u001b[0m\u001b[0m\n\u001b[0m\u001b[0;32m    590\u001b[0m             \u001b[1;32mexcept\u001b[0m \u001b[0mtimeout\u001b[0m\u001b[1;33m:\u001b[0m\u001b[1;33m\u001b[0m\u001b[1;33m\u001b[0m\u001b[0m\n\u001b[0;32m    591\u001b[0m                 \u001b[0mself\u001b[0m\u001b[1;33m.\u001b[0m\u001b[0m_timeout_occurred\u001b[0m \u001b[1;33m=\u001b[0m \u001b[1;32mTrue\u001b[0m\u001b[1;33m\u001b[0m\u001b[1;33m\u001b[0m\u001b[0m\n",
      "\u001b[1;32m~\\AppData\\Local\\Continuum\\anaconda3\\lib\\ssl.py\u001b[0m in \u001b[0;36mrecv_into\u001b[1;34m(self, buffer, nbytes, flags)\u001b[0m\n\u001b[0;32m   1069\u001b[0m                   \u001b[1;34m\"non-zero flags not allowed in calls to recv_into() on %s\"\u001b[0m \u001b[1;33m%\u001b[0m\u001b[1;33m\u001b[0m\u001b[1;33m\u001b[0m\u001b[0m\n\u001b[0;32m   1070\u001b[0m                   self.__class__)\n\u001b[1;32m-> 1071\u001b[1;33m             \u001b[1;32mreturn\u001b[0m \u001b[0mself\u001b[0m\u001b[1;33m.\u001b[0m\u001b[0mread\u001b[0m\u001b[1;33m(\u001b[0m\u001b[0mnbytes\u001b[0m\u001b[1;33m,\u001b[0m \u001b[0mbuffer\u001b[0m\u001b[1;33m)\u001b[0m\u001b[1;33m\u001b[0m\u001b[1;33m\u001b[0m\u001b[0m\n\u001b[0m\u001b[0;32m   1072\u001b[0m         \u001b[1;32melse\u001b[0m\u001b[1;33m:\u001b[0m\u001b[1;33m\u001b[0m\u001b[1;33m\u001b[0m\u001b[0m\n\u001b[0;32m   1073\u001b[0m             \u001b[1;32mreturn\u001b[0m \u001b[0msuper\u001b[0m\u001b[1;33m(\u001b[0m\u001b[1;33m)\u001b[0m\u001b[1;33m.\u001b[0m\u001b[0mrecv_into\u001b[0m\u001b[1;33m(\u001b[0m\u001b[0mbuffer\u001b[0m\u001b[1;33m,\u001b[0m \u001b[0mnbytes\u001b[0m\u001b[1;33m,\u001b[0m \u001b[0mflags\u001b[0m\u001b[1;33m)\u001b[0m\u001b[1;33m\u001b[0m\u001b[1;33m\u001b[0m\u001b[0m\n",
      "\u001b[1;32m~\\AppData\\Local\\Continuum\\anaconda3\\lib\\ssl.py\u001b[0m in \u001b[0;36mread\u001b[1;34m(self, len, buffer)\u001b[0m\n\u001b[0;32m    927\u001b[0m         \u001b[1;32mtry\u001b[0m\u001b[1;33m:\u001b[0m\u001b[1;33m\u001b[0m\u001b[1;33m\u001b[0m\u001b[0m\n\u001b[0;32m    928\u001b[0m             \u001b[1;32mif\u001b[0m \u001b[0mbuffer\u001b[0m \u001b[1;32mis\u001b[0m \u001b[1;32mnot\u001b[0m \u001b[1;32mNone\u001b[0m\u001b[1;33m:\u001b[0m\u001b[1;33m\u001b[0m\u001b[1;33m\u001b[0m\u001b[0m\n\u001b[1;32m--> 929\u001b[1;33m                 \u001b[1;32mreturn\u001b[0m \u001b[0mself\u001b[0m\u001b[1;33m.\u001b[0m\u001b[0m_sslobj\u001b[0m\u001b[1;33m.\u001b[0m\u001b[0mread\u001b[0m\u001b[1;33m(\u001b[0m\u001b[0mlen\u001b[0m\u001b[1;33m,\u001b[0m \u001b[0mbuffer\u001b[0m\u001b[1;33m)\u001b[0m\u001b[1;33m\u001b[0m\u001b[1;33m\u001b[0m\u001b[0m\n\u001b[0m\u001b[0;32m    930\u001b[0m             \u001b[1;32melse\u001b[0m\u001b[1;33m:\u001b[0m\u001b[1;33m\u001b[0m\u001b[1;33m\u001b[0m\u001b[0m\n\u001b[0;32m    931\u001b[0m                 \u001b[1;32mreturn\u001b[0m \u001b[0mself\u001b[0m\u001b[1;33m.\u001b[0m\u001b[0m_sslobj\u001b[0m\u001b[1;33m.\u001b[0m\u001b[0mread\u001b[0m\u001b[1;33m(\u001b[0m\u001b[0mlen\u001b[0m\u001b[1;33m)\u001b[0m\u001b[1;33m\u001b[0m\u001b[1;33m\u001b[0m\u001b[0m\n",
      "\u001b[1;31mKeyboardInterrupt\u001b[0m: "
     ]
    }
   ],
   "source": [
    "#df = pd.DataFrame() # init\n",
    "\n",
    "tmp = games_detailed['appId']\n",
    "tmp = tmp[:10]\n",
    "\n",
    "for c,g in enumerate(tmp):\n",
    "    print(str(c) + ' ' + g)\n",
    "    result = reviews_all(\n",
    "        g,\n",
    "        sleep_milliseconds=0, # defaults to 0\n",
    "        lang='en', # defaults to 'en'\n",
    "        country='sg', # defaults to 'us'\n",
    "        sort=Sort.MOST_RELEVANT, # defaults to Sort.MOST_RELEVANT\n",
    "    )\n",
    "    df = pd.DataFrame.from_dict(result)\n",
    "    filename = './Data/games_reviews/' + g +'.csv'\n",
    "    df.to_csv(filename, index=False)"
   ]
  },
  {
   "cell_type": "code",
   "execution_count": 126,
   "metadata": {},
   "outputs": [],
   "source": [
    "from google_play_scraper import Sort, reviews\n",
    "\n",
    "games_detailed = pd.read_csv('./Data/google_games_info_detailed.csv')"
   ]
  },
  {
   "cell_type": "code",
   "execution_count": 130,
   "metadata": {},
   "outputs": [
    {
     "output_type": "stream",
     "name": "stdout",
     "text": [
      "0 com.igg.android.lordsmobile\n",
      "<google_play_scraper.features.reviews.ContinuationToken object at 0x0000026F696E29A8>\n",
      "<google_play_scraper.features.reviews.ContinuationToken object at 0x0000026F696E2888>\n",
      "<google_play_scraper.features.reviews.ContinuationToken object at 0x0000026F696E27C8>\n",
      "<google_play_scraper.features.reviews.ContinuationToken object at 0x0000026F696E2828>\n",
      "<google_play_scraper.features.reviews.ContinuationToken object at 0x0000026F696E2468>\n",
      "<google_play_scraper.features.reviews.ContinuationToken object at 0x0000026F696E2B88>\n",
      "<google_play_scraper.features.reviews.ContinuationToken object at 0x0000026F6964EF48>\n",
      "<google_play_scraper.features.reviews.ContinuationToken object at 0x0000026F696E24C8>\n",
      "<google_play_scraper.features.reviews.ContinuationToken object at 0x0000026F696E2CA8>\n",
      "<google_play_scraper.features.reviews.ContinuationToken object at 0x0000026F696E28E8>\n",
      "1 com.moonactive.coinmaster\n",
      "<google_play_scraper.features.reviews.ContinuationToken object at 0x0000026F696E29A8>\n",
      "<google_play_scraper.features.reviews.ContinuationToken object at 0x0000026F696E2DC8>\n",
      "<google_play_scraper.features.reviews.ContinuationToken object at 0x0000026F696E2348>\n",
      "<google_play_scraper.features.reviews.ContinuationToken object at 0x0000026F696E2B88>\n",
      "<google_play_scraper.features.reviews.ContinuationToken object at 0x0000026F696E2468>\n",
      "<google_play_scraper.features.reviews.ContinuationToken object at 0x0000026F696E2828>\n",
      "<google_play_scraper.features.reviews.ContinuationToken object at 0x0000026F696E2528>\n",
      "<google_play_scraper.features.reviews.ContinuationToken object at 0x0000026F696E2768>\n",
      "<google_play_scraper.features.reviews.ContinuationToken object at 0x0000026F696E2648>\n",
      "<google_play_scraper.features.reviews.ContinuationToken object at 0x0000026F696E2288>\n",
      "2 com.king.candycrushsaga\n",
      "<google_play_scraper.features.reviews.ContinuationToken object at 0x0000026F696E2708>\n",
      "<google_play_scraper.features.reviews.ContinuationToken object at 0x0000026F696E21C8>\n",
      "<google_play_scraper.features.reviews.ContinuationToken object at 0x0000026F696E2B28>\n",
      "<google_play_scraper.features.reviews.ContinuationToken object at 0x0000026F6964E1C8>\n",
      "<google_play_scraper.features.reviews.ContinuationToken object at 0x0000026F696E2F48>\n",
      "<google_play_scraper.features.reviews.ContinuationToken object at 0x0000026F696E2AC8>\n",
      "<google_play_scraper.features.reviews.ContinuationToken object at 0x0000026F696E2228>\n",
      "<google_play_scraper.features.reviews.ContinuationToken object at 0x0000026F696E27C8>\n",
      "<google_play_scraper.features.reviews.ContinuationToken object at 0x0000026F6964E168>\n",
      "<google_play_scraper.features.reviews.ContinuationToken object at 0x0000026F696E2E88>\n",
      "3 com.roblox.client\n",
      "<google_play_scraper.features.reviews.ContinuationToken object at 0x0000026F696E2DC8>\n",
      "<google_play_scraper.features.reviews.ContinuationToken object at 0x0000026F696E2948>\n",
      "<google_play_scraper.features.reviews.ContinuationToken object at 0x0000026F696E2828>\n",
      "<google_play_scraper.features.reviews.ContinuationToken object at 0x0000026F696E28E8>\n",
      "<google_play_scraper.features.reviews.ContinuationToken object at 0x0000026F696E2408>\n",
      "<google_play_scraper.features.reviews.ContinuationToken object at 0x0000026F6964EF48>\n",
      "<google_play_scraper.features.reviews.ContinuationToken object at 0x0000026F696E2A08>\n",
      "<google_play_scraper.features.reviews.ContinuationToken object at 0x0000026F696E2588>\n",
      "<google_play_scraper.features.reviews.ContinuationToken object at 0x0000026F6964ED68>\n",
      "<google_play_scraper.features.reviews.ContinuationToken object at 0x0000026F6964EFA8>\n",
      "4 com.miHoYo.GenshinImpact\n",
      "<google_play_scraper.features.reviews.ContinuationToken object at 0x0000026F6964EF48>\n",
      "<google_play_scraper.features.reviews.ContinuationToken object at 0x0000026F696E25E8>\n",
      "<google_play_scraper.features.reviews.ContinuationToken object at 0x0000026F6964EA08>\n",
      "<google_play_scraper.features.reviews.ContinuationToken object at 0x0000026F6964ED68>\n",
      "<google_play_scraper.features.reviews.ContinuationToken object at 0x0000026F6964E168>\n",
      "<google_play_scraper.features.reviews.ContinuationToken object at 0x0000026F696E2648>\n",
      "<google_play_scraper.features.reviews.ContinuationToken object at 0x0000026F69644E88>\n",
      "<google_play_scraper.features.reviews.ContinuationToken object at 0x0000026F69644F48>\n",
      "<google_play_scraper.features.reviews.ContinuationToken object at 0x0000026F6976B408>\n",
      "<google_play_scraper.features.reviews.ContinuationToken object at 0x0000026F6976B048>\n",
      "5 com.nianticlabs.pokemongo\n",
      "<google_play_scraper.features.reviews.ContinuationToken object at 0x0000026F696E28E8>\n",
      "<google_play_scraper.features.reviews.ContinuationToken object at 0x0000026F696E2588>\n",
      "<google_play_scraper.features.reviews.ContinuationToken object at 0x0000026F696E2768>\n",
      "<google_play_scraper.features.reviews.ContinuationToken object at 0x0000026F696E2DC8>\n",
      "<google_play_scraper.features.reviews.ContinuationToken object at 0x0000026F696E2A08>\n",
      "<google_play_scraper.features.reviews.ContinuationToken object at 0x0000026F696E27C8>\n",
      "<google_play_scraper.features.reviews.ContinuationToken object at 0x0000026F696E2168>\n",
      "<google_play_scraper.features.reviews.ContinuationToken object at 0x0000026F696E22E8>\n",
      "<google_play_scraper.features.reviews.ContinuationToken object at 0x0000026F696E2228>\n",
      "<google_play_scraper.features.reviews.ContinuationToken object at 0x0000026F696E2B28>\n",
      "6 com.dts.freefireth\n",
      "<google_play_scraper.features.reviews.ContinuationToken object at 0x0000026F696E2D68>\n",
      "<google_play_scraper.features.reviews.ContinuationToken object at 0x0000026F696E2AC8>\n",
      "<google_play_scraper.features.reviews.ContinuationToken object at 0x0000026F696E2E88>\n",
      "<google_play_scraper.features.reviews.ContinuationToken object at 0x0000026F696E2F48>\n",
      "<google_play_scraper.features.reviews.ContinuationToken object at 0x0000026F696E21C8>\n",
      "<google_play_scraper.features.reviews.ContinuationToken object at 0x0000026F696E2948>\n",
      "<google_play_scraper.features.reviews.ContinuationToken object at 0x0000026F696E2A68>\n",
      "<google_play_scraper.features.reviews.ContinuationToken object at 0x0000026F696E2528>\n",
      "<google_play_scraper.features.reviews.ContinuationToken object at 0x0000026F6964E828>\n",
      "<google_play_scraper.features.reviews.ContinuationToken object at 0x0000026F696E2348>\n",
      "7 com.playrix.homescapes\n",
      "<google_play_scraper.features.reviews.ContinuationToken object at 0x0000026F696E2168>\n",
      "<google_play_scraper.features.reviews.ContinuationToken object at 0x0000026F696E25E8>\n",
      "<google_play_scraper.features.reviews.ContinuationToken object at 0x0000026F696E2228>\n",
      "<google_play_scraper.features.reviews.ContinuationToken object at 0x0000026F696E2648>\n",
      "<google_play_scraper.features.reviews.ContinuationToken object at 0x0000026F6964E948>\n",
      "<google_play_scraper.features.reviews.ContinuationToken object at 0x0000026F696E2A68>\n",
      "<google_play_scraper.features.reviews.ContinuationToken object at 0x0000026F696E2EE8>\n",
      "<google_play_scraper.features.reviews.ContinuationToken object at 0x0000026F696E2A08>\n",
      "<google_play_scraper.features.reviews.ContinuationToken object at 0x0000026F6964E948>\n",
      "<google_play_scraper.features.reviews.ContinuationToken object at 0x0000026F6964E828>\n",
      "8 com.playrix.gardenscapes\n",
      "<google_play_scraper.features.reviews.ContinuationToken object at 0x0000026F696E25E8>\n",
      "<google_play_scraper.features.reviews.ContinuationToken object at 0x0000026F696E2408>\n",
      "<google_play_scraper.features.reviews.ContinuationToken object at 0x0000026F696E2528>\n",
      "<google_play_scraper.features.reviews.ContinuationToken object at 0x0000026F696E2648>\n",
      "<google_play_scraper.features.reviews.ContinuationToken object at 0x0000026F6964E948>\n",
      "<google_play_scraper.features.reviews.ContinuationToken object at 0x0000026F696E27C8>\n",
      "<google_play_scraper.features.reviews.ContinuationToken object at 0x0000026F696E2768>\n",
      "<google_play_scraper.features.reviews.ContinuationToken object at 0x0000026F696E2BE8>\n",
      "<google_play_scraper.features.reviews.ContinuationToken object at 0x0000026F6964E0A8>\n",
      "<google_play_scraper.features.reviews.ContinuationToken object at 0x0000026F696E2DC8>\n",
      "9 air.com.buffalo_studios.newflashbingo\n",
      "<google_play_scraper.features.reviews.ContinuationToken object at 0x0000026F696E26A8>\n",
      "<google_play_scraper.features.reviews.ContinuationToken object at 0x0000026F696E2BE8>\n",
      "<google_play_scraper.features.reviews.ContinuationToken object at 0x0000026F696E2768>\n",
      "<google_play_scraper.features.reviews.ContinuationToken object at 0x0000026F696E25E8>\n",
      "<google_play_scraper.features.reviews.ContinuationToken object at 0x0000026F696E28E8>\n",
      "<google_play_scraper.features.reviews.ContinuationToken object at 0x0000026F696E2888>\n",
      "<google_play_scraper.features.reviews.ContinuationToken object at 0x0000026F696E2348>\n",
      "<google_play_scraper.features.reviews.ContinuationToken object at 0x0000026F696E2228>\n",
      "<google_play_scraper.features.reviews.ContinuationToken object at 0x0000026F696E26A8>\n",
      "<google_play_scraper.features.reviews.ContinuationToken object at 0x0000026F696E2A08>\n"
     ]
    }
   ],
   "source": [
    "tmp = games_detailed['appId']\n",
    "tmp = tmp[:10]\n",
    "\n",
    "for c,g in enumerate(tmp):\n",
    "    print(str(c) + ' ' + g)\n",
    "    # init\n",
    "    cum_count = 0\n",
    "    all_result = []\n",
    "    continuation_token = None # reset\n",
    "    count = 100 # set number of reviews per query\n",
    "\n",
    "    while cum_count < 1000:\n",
    "        result, continuation_token = reviews(\n",
    "            g,\n",
    "            lang='en', # defaults to 'en'\n",
    "            country='sg', # defaults to 'us'\n",
    "            sort=Sort.MOST_RELEVANT, # defaults to Sort.MOST_RELEVANT\n",
    "            count=count, # defaults to 100\n",
    "            continuation_token=continuation_token # defaults to None(load from the beginning)\n",
    "        )\n",
    "        all_result += result\n",
    "        cum_count += count\n",
    "    filename = './Data/games_reviews/' + g + '.json'\n",
    "    with open(filename, 'w', encoding='utf-8') as json_file:\n",
    "        json.dump(all_result, json_file, indent=4, sort_keys=False, default=str)"
   ]
  },
  {
   "cell_type": "code",
   "execution_count": 137,
   "metadata": {},
   "outputs": [],
   "source": [
    "# loading json\n",
    "with open('./Data/games_reviews/com.miHoYo.GenshinImpact.json', 'r', encoding='utf-8') as json_file:\n",
    "    data = json.load(json_file)"
   ]
  },
  {
   "cell_type": "code",
   "execution_count": 138,
   "metadata": {},
   "outputs": [
    {
     "output_type": "execute_result",
     "data": {
      "text/plain": [
       "                                              reviewId          userName  \\\n",
       "0    gp:AOqpTOHZnYk67KKEyU62miItLP97kXEU8xte-lLBQSZ...  Pesala The Doggo   \n",
       "1    gp:AOqpTOExUEi6cULZ1YkYl5WgoVe8zrcNQcUbe3ejsNa...    EliCVideogamer   \n",
       "2    gp:AOqpTOFFUt8EXOLciaJRcesOMIcOA6wy-UfThOOOzzg...             Jingo   \n",
       "3    gp:AOqpTOEqoUIsETgtZEDDx3y4SuJpzomYhHKFbi7zdma...             Tyler   \n",
       "4    gp:AOqpTOHKW0oR5Q813dESFSXY4hTxloyw6F2LdGEiKT6...    Naethan Hilado   \n",
       "..                                                 ...               ...   \n",
       "995  gp:AOqpTOG8ul8xN1Nsrgpbp621ZoWDPnXxZi6pDgjLFT-...         Sage Kael   \n",
       "996  gp:AOqpTOE6RcNM9OvsyHNfcD0cg8k9SK_rUB950unKp1w...  Tyranitar Series   \n",
       "997  gp:AOqpTOGP2MKWpg8b_gkldykqkX-OOnCTkXJ42T3FwAg...      HO JIA YI 17   \n",
       "998  gp:AOqpTOGsIDWdEzBNK8H-UEr4a2OrS8coC9DI2LYW4rK...         Zane Lowe   \n",
       "999  gp:AOqpTOHfmyEBucWChcqbLEQDD9XFSIlqWUrhCNM_01v...      Bubble Gum27   \n",
       "\n",
       "                                             userImage  \\\n",
       "0    https://play-lh.googleusercontent.com/a-/AOh14...   \n",
       "1    https://play-lh.googleusercontent.com/a-/AOh14...   \n",
       "2    https://play-lh.googleusercontent.com/a-/AOh14...   \n",
       "3    https://play-lh.googleusercontent.com/-K1IfurF...   \n",
       "4    https://play-lh.googleusercontent.com/a-/AOh14...   \n",
       "..                                                 ...   \n",
       "995  https://play-lh.googleusercontent.com/-Df3WaN8...   \n",
       "996  https://play-lh.googleusercontent.com/a-/AOh14...   \n",
       "997  https://play-lh.googleusercontent.com/a-/AOh14...   \n",
       "998  https://play-lh.googleusercontent.com/a-/AOh14...   \n",
       "999  https://play-lh.googleusercontent.com/a-/AOh14...   \n",
       "\n",
       "                                               content  score  thumbsUpCount  \\\n",
       "0    I really like the story, the characters, the a...      4            172   \n",
       "1    I love the game, its the closest thing to a co...      4            171   \n",
       "2    This game is amazing, many characters to colle...      5            287   \n",
       "3    Seems like a really cool game and it runs surp...      4             11   \n",
       "4    I absolutely love the game, it has amazing gra...      5              8   \n",
       "..                                                 ...    ...            ...   \n",
       "995  Overall. Great game! Considering its a free to...      4              0   \n",
       "996  It's a really fun game, and I was surprised by...      4              0   \n",
       "997  One of the best games of 2020. Great graphics,...      5              0   \n",
       "998  I love this game. But I think you could add mo...      5              4   \n",
       "999  It's an amazing game!!! I've never played some...      5              1   \n",
       "\n",
       "      reviewCreatedVersion                   at replyContent repliedAt  \n",
       "0    1.2.0_1565149_1627898  2021-01-11 23:31:24         None      None  \n",
       "1    1.2.0_1565149_1627898  2021-01-11 08:38:55         None      None  \n",
       "2    1.2.0_1565149_1627898  2021-01-11 01:30:52         None      None  \n",
       "3    1.2.0_1565149_1627898  2021-01-09 04:07:24         None      None  \n",
       "4    1.1.1_1437351_1398019  2020-12-25 11:37:53         None      None  \n",
       "..                     ...                  ...          ...       ...  \n",
       "995  1.2.0_1565149_1627898  2021-01-02 12:05:27         None      None  \n",
       "996  1.1.1_1437351_1398019  2020-12-20 00:08:46         None      None  \n",
       "997  1.1.1_1437351_1398019  2020-11-29 20:46:58         None      None  \n",
       "998  1.2.0_1565149_1627898  2020-12-23 14:54:20         None      None  \n",
       "999  1.2.0_1565149_1627898  2020-12-23 08:33:47         None      None  \n",
       "\n",
       "[1000 rows x 10 columns]"
      ],
      "text/html": "<div>\n<style scoped>\n    .dataframe tbody tr th:only-of-type {\n        vertical-align: middle;\n    }\n\n    .dataframe tbody tr th {\n        vertical-align: top;\n    }\n\n    .dataframe thead th {\n        text-align: right;\n    }\n</style>\n<table border=\"1\" class=\"dataframe\">\n  <thead>\n    <tr style=\"text-align: right;\">\n      <th></th>\n      <th>reviewId</th>\n      <th>userName</th>\n      <th>userImage</th>\n      <th>content</th>\n      <th>score</th>\n      <th>thumbsUpCount</th>\n      <th>reviewCreatedVersion</th>\n      <th>at</th>\n      <th>replyContent</th>\n      <th>repliedAt</th>\n    </tr>\n  </thead>\n  <tbody>\n    <tr>\n      <td>0</td>\n      <td>gp:AOqpTOHZnYk67KKEyU62miItLP97kXEU8xte-lLBQSZ...</td>\n      <td>Pesala The Doggo</td>\n      <td>https://play-lh.googleusercontent.com/a-/AOh14...</td>\n      <td>I really like the story, the characters, the a...</td>\n      <td>4</td>\n      <td>172</td>\n      <td>1.2.0_1565149_1627898</td>\n      <td>2021-01-11 23:31:24</td>\n      <td>None</td>\n      <td>None</td>\n    </tr>\n    <tr>\n      <td>1</td>\n      <td>gp:AOqpTOExUEi6cULZ1YkYl5WgoVe8zrcNQcUbe3ejsNa...</td>\n      <td>EliCVideogamer</td>\n      <td>https://play-lh.googleusercontent.com/a-/AOh14...</td>\n      <td>I love the game, its the closest thing to a co...</td>\n      <td>4</td>\n      <td>171</td>\n      <td>1.2.0_1565149_1627898</td>\n      <td>2021-01-11 08:38:55</td>\n      <td>None</td>\n      <td>None</td>\n    </tr>\n    <tr>\n      <td>2</td>\n      <td>gp:AOqpTOFFUt8EXOLciaJRcesOMIcOA6wy-UfThOOOzzg...</td>\n      <td>Jingo</td>\n      <td>https://play-lh.googleusercontent.com/a-/AOh14...</td>\n      <td>This game is amazing, many characters to colle...</td>\n      <td>5</td>\n      <td>287</td>\n      <td>1.2.0_1565149_1627898</td>\n      <td>2021-01-11 01:30:52</td>\n      <td>None</td>\n      <td>None</td>\n    </tr>\n    <tr>\n      <td>3</td>\n      <td>gp:AOqpTOEqoUIsETgtZEDDx3y4SuJpzomYhHKFbi7zdma...</td>\n      <td>Tyler</td>\n      <td>https://play-lh.googleusercontent.com/-K1IfurF...</td>\n      <td>Seems like a really cool game and it runs surp...</td>\n      <td>4</td>\n      <td>11</td>\n      <td>1.2.0_1565149_1627898</td>\n      <td>2021-01-09 04:07:24</td>\n      <td>None</td>\n      <td>None</td>\n    </tr>\n    <tr>\n      <td>4</td>\n      <td>gp:AOqpTOHKW0oR5Q813dESFSXY4hTxloyw6F2LdGEiKT6...</td>\n      <td>Naethan Hilado</td>\n      <td>https://play-lh.googleusercontent.com/a-/AOh14...</td>\n      <td>I absolutely love the game, it has amazing gra...</td>\n      <td>5</td>\n      <td>8</td>\n      <td>1.1.1_1437351_1398019</td>\n      <td>2020-12-25 11:37:53</td>\n      <td>None</td>\n      <td>None</td>\n    </tr>\n    <tr>\n      <td>...</td>\n      <td>...</td>\n      <td>...</td>\n      <td>...</td>\n      <td>...</td>\n      <td>...</td>\n      <td>...</td>\n      <td>...</td>\n      <td>...</td>\n      <td>...</td>\n      <td>...</td>\n    </tr>\n    <tr>\n      <td>995</td>\n      <td>gp:AOqpTOG8ul8xN1Nsrgpbp621ZoWDPnXxZi6pDgjLFT-...</td>\n      <td>Sage Kael</td>\n      <td>https://play-lh.googleusercontent.com/-Df3WaN8...</td>\n      <td>Overall. Great game! Considering its a free to...</td>\n      <td>4</td>\n      <td>0</td>\n      <td>1.2.0_1565149_1627898</td>\n      <td>2021-01-02 12:05:27</td>\n      <td>None</td>\n      <td>None</td>\n    </tr>\n    <tr>\n      <td>996</td>\n      <td>gp:AOqpTOE6RcNM9OvsyHNfcD0cg8k9SK_rUB950unKp1w...</td>\n      <td>Tyranitar Series</td>\n      <td>https://play-lh.googleusercontent.com/a-/AOh14...</td>\n      <td>It's a really fun game, and I was surprised by...</td>\n      <td>4</td>\n      <td>0</td>\n      <td>1.1.1_1437351_1398019</td>\n      <td>2020-12-20 00:08:46</td>\n      <td>None</td>\n      <td>None</td>\n    </tr>\n    <tr>\n      <td>997</td>\n      <td>gp:AOqpTOGP2MKWpg8b_gkldykqkX-OOnCTkXJ42T3FwAg...</td>\n      <td>HO JIA YI 17</td>\n      <td>https://play-lh.googleusercontent.com/a-/AOh14...</td>\n      <td>One of the best games of 2020. Great graphics,...</td>\n      <td>5</td>\n      <td>0</td>\n      <td>1.1.1_1437351_1398019</td>\n      <td>2020-11-29 20:46:58</td>\n      <td>None</td>\n      <td>None</td>\n    </tr>\n    <tr>\n      <td>998</td>\n      <td>gp:AOqpTOGsIDWdEzBNK8H-UEr4a2OrS8coC9DI2LYW4rK...</td>\n      <td>Zane Lowe</td>\n      <td>https://play-lh.googleusercontent.com/a-/AOh14...</td>\n      <td>I love this game. But I think you could add mo...</td>\n      <td>5</td>\n      <td>4</td>\n      <td>1.2.0_1565149_1627898</td>\n      <td>2020-12-23 14:54:20</td>\n      <td>None</td>\n      <td>None</td>\n    </tr>\n    <tr>\n      <td>999</td>\n      <td>gp:AOqpTOHfmyEBucWChcqbLEQDD9XFSIlqWUrhCNM_01v...</td>\n      <td>Bubble Gum27</td>\n      <td>https://play-lh.googleusercontent.com/a-/AOh14...</td>\n      <td>It's an amazing game!!! I've never played some...</td>\n      <td>5</td>\n      <td>1</td>\n      <td>1.2.0_1565149_1627898</td>\n      <td>2020-12-23 08:33:47</td>\n      <td>None</td>\n      <td>None</td>\n    </tr>\n  </tbody>\n</table>\n<p>1000 rows × 10 columns</p>\n</div>"
     },
     "metadata": {},
     "execution_count": 138
    }
   ],
   "source": [
    "pd.DataFrame.from_dict(data)"
   ]
  },
  {
   "cell_type": "code",
   "execution_count": 139,
   "metadata": {},
   "outputs": [
    {
     "output_type": "execute_result",
     "data": {
      "text/plain": [
       "                                            reviewId          userName  \\\n",
       "0  gp:AOqpTOHZnYk67KKEyU62miItLP97kXEU8xte-lLBQSZ...  Pesala The Doggo   \n",
       "1  gp:AOqpTOExUEi6cULZ1YkYl5WgoVe8zrcNQcUbe3ejsNa...    EliCVideogamer   \n",
       "2  gp:AOqpTOFFUt8EXOLciaJRcesOMIcOA6wy-UfThOOOzzg...             Jingo   \n",
       "3  gp:AOqpTOEqoUIsETgtZEDDx3y4SuJpzomYhHKFbi7zdma...             Tyler   \n",
       "4  gp:AOqpTOHKW0oR5Q813dESFSXY4hTxloyw6F2LdGEiKT6...    Naethan Hilado   \n",
       "\n",
       "                                           userImage  \\\n",
       "0  https://play-lh.googleusercontent.com/a-/AOh14...   \n",
       "1  https://play-lh.googleusercontent.com/a-/AOh14...   \n",
       "2  https://play-lh.googleusercontent.com/a-/AOh14...   \n",
       "3  https://play-lh.googleusercontent.com/-K1IfurF...   \n",
       "4  https://play-lh.googleusercontent.com/a-/AOh14...   \n",
       "\n",
       "                                             content  score  thumbsUpCount  \\\n",
       "0  I really like the story, the characters, the a...      4            172   \n",
       "1  I love the game, its the closest thing to a co...      4            171   \n",
       "2  This game is amazing, many characters to colle...      5            287   \n",
       "3  Seems like a really cool game and it runs surp...      4             11   \n",
       "4  I absolutely love the game, it has amazing gra...      5              8   \n",
       "\n",
       "    reviewCreatedVersion                   at replyContent repliedAt  \n",
       "0  1.2.0_1565149_1627898  2021-01-11 23:31:24         None      None  \n",
       "1  1.2.0_1565149_1627898  2021-01-11 08:38:55         None      None  \n",
       "2  1.2.0_1565149_1627898  2021-01-11 01:30:52         None      None  \n",
       "3  1.2.0_1565149_1627898  2021-01-09 04:07:24         None      None  \n",
       "4  1.1.1_1437351_1398019  2020-12-25 11:37:53         None      None  "
      ],
      "text/html": "<div>\n<style scoped>\n    .dataframe tbody tr th:only-of-type {\n        vertical-align: middle;\n    }\n\n    .dataframe tbody tr th {\n        vertical-align: top;\n    }\n\n    .dataframe thead th {\n        text-align: right;\n    }\n</style>\n<table border=\"1\" class=\"dataframe\">\n  <thead>\n    <tr style=\"text-align: right;\">\n      <th></th>\n      <th>reviewId</th>\n      <th>userName</th>\n      <th>userImage</th>\n      <th>content</th>\n      <th>score</th>\n      <th>thumbsUpCount</th>\n      <th>reviewCreatedVersion</th>\n      <th>at</th>\n      <th>replyContent</th>\n      <th>repliedAt</th>\n    </tr>\n  </thead>\n  <tbody>\n    <tr>\n      <td>0</td>\n      <td>gp:AOqpTOHZnYk67KKEyU62miItLP97kXEU8xte-lLBQSZ...</td>\n      <td>Pesala The Doggo</td>\n      <td>https://play-lh.googleusercontent.com/a-/AOh14...</td>\n      <td>I really like the story, the characters, the a...</td>\n      <td>4</td>\n      <td>172</td>\n      <td>1.2.0_1565149_1627898</td>\n      <td>2021-01-11 23:31:24</td>\n      <td>None</td>\n      <td>None</td>\n    </tr>\n    <tr>\n      <td>1</td>\n      <td>gp:AOqpTOExUEi6cULZ1YkYl5WgoVe8zrcNQcUbe3ejsNa...</td>\n      <td>EliCVideogamer</td>\n      <td>https://play-lh.googleusercontent.com/a-/AOh14...</td>\n      <td>I love the game, its the closest thing to a co...</td>\n      <td>4</td>\n      <td>171</td>\n      <td>1.2.0_1565149_1627898</td>\n      <td>2021-01-11 08:38:55</td>\n      <td>None</td>\n      <td>None</td>\n    </tr>\n    <tr>\n      <td>2</td>\n      <td>gp:AOqpTOFFUt8EXOLciaJRcesOMIcOA6wy-UfThOOOzzg...</td>\n      <td>Jingo</td>\n      <td>https://play-lh.googleusercontent.com/a-/AOh14...</td>\n      <td>This game is amazing, many characters to colle...</td>\n      <td>5</td>\n      <td>287</td>\n      <td>1.2.0_1565149_1627898</td>\n      <td>2021-01-11 01:30:52</td>\n      <td>None</td>\n      <td>None</td>\n    </tr>\n    <tr>\n      <td>3</td>\n      <td>gp:AOqpTOEqoUIsETgtZEDDx3y4SuJpzomYhHKFbi7zdma...</td>\n      <td>Tyler</td>\n      <td>https://play-lh.googleusercontent.com/-K1IfurF...</td>\n      <td>Seems like a really cool game and it runs surp...</td>\n      <td>4</td>\n      <td>11</td>\n      <td>1.2.0_1565149_1627898</td>\n      <td>2021-01-09 04:07:24</td>\n      <td>None</td>\n      <td>None</td>\n    </tr>\n    <tr>\n      <td>4</td>\n      <td>gp:AOqpTOHKW0oR5Q813dESFSXY4hTxloyw6F2LdGEiKT6...</td>\n      <td>Naethan Hilado</td>\n      <td>https://play-lh.googleusercontent.com/a-/AOh14...</td>\n      <td>I absolutely love the game, it has amazing gra...</td>\n      <td>5</td>\n      <td>8</td>\n      <td>1.1.1_1437351_1398019</td>\n      <td>2020-12-25 11:37:53</td>\n      <td>None</td>\n      <td>None</td>\n    </tr>\n  </tbody>\n</table>\n</div>"
     },
     "metadata": {},
     "execution_count": 139
    }
   ],
   "source": [
    "df = pd.DataFrame.from_dict(data)\n",
    "df.head()"
   ]
  },
  {
   "cell_type": "code",
   "execution_count": 140,
   "metadata": {},
   "outputs": [
    {
     "output_type": "execute_result",
     "data": {
      "text/plain": [
       "False"
      ]
     },
     "metadata": {},
     "execution_count": 140
    }
   ],
   "source": [
    "df['userName'].is_unique"
   ]
  },
  {
   "cell_type": "code",
   "execution_count": 135,
   "metadata": {},
   "outputs": [],
   "source": [
    "df = df.drop_duplicates(['userName'], keep='first')"
   ]
  },
  {
   "cell_type": "code",
   "execution_count": 136,
   "metadata": {},
   "outputs": [
    {
     "output_type": "execute_result",
     "data": {
      "text/plain": [
       "999"
      ]
     },
     "metadata": {},
     "execution_count": 136
    }
   ],
   "source": [
    "len(df)"
   ]
  },
  {
   "cell_type": "code",
   "execution_count": 141,
   "metadata": {},
   "outputs": [],
   "source": [
    "d = df.duplicated(subset=['userName'], keep='first')"
   ]
  },
  {
   "cell_type": "code",
   "execution_count": 142,
   "metadata": {},
   "outputs": [
    {
     "output_type": "execute_result",
     "data": {
      "text/plain": [
       "                                              reviewId userName  \\\n",
       "288  gp:AOqpTOFs5teOm1o81yvFUSB_tr9IhNxUgUWtbeNjYzg...    Tyler   \n",
       "\n",
       "                                             userImage  \\\n",
       "288  https://play-lh.googleusercontent.com/a-/AOh14...   \n",
       "\n",
       "                                               content  score  thumbsUpCount  \\\n",
       "288  I really do enjoy this game thoroughly, from t...      4             26   \n",
       "\n",
       "      reviewCreatedVersion                   at replyContent repliedAt  \n",
       "288  1.1.1_1437351_1398019  2020-12-21 02:29:46         None      None  "
      ],
      "text/html": "<div>\n<style scoped>\n    .dataframe tbody tr th:only-of-type {\n        vertical-align: middle;\n    }\n\n    .dataframe tbody tr th {\n        vertical-align: top;\n    }\n\n    .dataframe thead th {\n        text-align: right;\n    }\n</style>\n<table border=\"1\" class=\"dataframe\">\n  <thead>\n    <tr style=\"text-align: right;\">\n      <th></th>\n      <th>reviewId</th>\n      <th>userName</th>\n      <th>userImage</th>\n      <th>content</th>\n      <th>score</th>\n      <th>thumbsUpCount</th>\n      <th>reviewCreatedVersion</th>\n      <th>at</th>\n      <th>replyContent</th>\n      <th>repliedAt</th>\n    </tr>\n  </thead>\n  <tbody>\n    <tr>\n      <td>288</td>\n      <td>gp:AOqpTOFs5teOm1o81yvFUSB_tr9IhNxUgUWtbeNjYzg...</td>\n      <td>Tyler</td>\n      <td>https://play-lh.googleusercontent.com/a-/AOh14...</td>\n      <td>I really do enjoy this game thoroughly, from t...</td>\n      <td>4</td>\n      <td>26</td>\n      <td>1.1.1_1437351_1398019</td>\n      <td>2020-12-21 02:29:46</td>\n      <td>None</td>\n      <td>None</td>\n    </tr>\n  </tbody>\n</table>\n</div>"
     },
     "metadata": {},
     "execution_count": 142
    }
   ],
   "source": [
    "df[d]"
   ]
  },
  {
   "cell_type": "code",
   "execution_count": 3,
   "metadata": {},
   "outputs": [],
   "source": [
    "import os\n",
    "file_list = list()\n",
    "for (dirpath, dirnames, filenames) in os.walk('./Data/games_reviews/'):\n",
    "    file_list += [os.path.join(dirpath, file) for file in filenames if file.endswith('.json')]"
   ]
  },
  {
   "cell_type": "code",
   "execution_count": 4,
   "metadata": {},
   "outputs": [
    {
     "output_type": "execute_result",
     "data": {
      "text/plain": [
       "['./Data/games_reviews/com.igg.android.lordsmobile.json',\n",
       " './Data/games_reviews/com.roblox.client.json',\n",
       " './Data/games_reviews/com.king.candycrushsaga.json',\n",
       " './Data/games_reviews/com.miHoYo.GenshinImpact.json',\n",
       " './Data/games_reviews/com.moonactive.coinmaster.json',\n",
       " './Data/games_reviews/com.nianticlabs.pokemongo.json',\n",
       " './Data/games_reviews/com.playrix.gardenscapes.json',\n",
       " './Data/games_reviews/com.dts.freefireth.json',\n",
       " './Data/games_reviews/air.com.buffalo_studios.newflashbingo.json',\n",
       " './Data/games_reviews/com.playrix.homescapes.json',\n",
       " './Data/games_reviews/com.fantome.penguinisle.json']"
      ]
     },
     "metadata": {},
     "execution_count": 4
    }
   ],
   "source": [
    "file_list"
   ]
  },
  {
   "cell_type": "code",
   "execution_count": 28,
   "metadata": {},
   "outputs": [],
   "source": [
    "import pandas as pd \n",
    "import json\n",
    "reviews = pd.DataFrame()\n",
    "\n",
    "# loading json\n",
    "for f in file_list:\n",
    "    with open(f, 'r', encoding='utf-8') as json_file:\n",
    "        data = json.load(json_file)\n",
    "        data = pd.DataFrame.from_dict(data)\n",
    "        data['appId'] = [f.replace('.json', '').replace(dirpath,'')]*len(data)\n",
    "        reviews = reviews.append(data)"
   ]
  },
  {
   "cell_type": "code",
   "execution_count": 29,
   "metadata": {},
   "outputs": [
    {
     "output_type": "execute_result",
     "data": {
      "text/plain": [
       "11000"
      ]
     },
     "metadata": {},
     "execution_count": 29
    }
   ],
   "source": [
    "len(reviews)"
   ]
  },
  {
   "cell_type": "code",
   "execution_count": 30,
   "metadata": {},
   "outputs": [
    {
     "output_type": "execute_result",
     "data": {
      "text/plain": [
       "                                            reviewId          userName  \\\n",
       "0  gp:AOqpTOGmMeMhlqnavKZjckcgTjq8qvlaJ81u8fB77ae...   Samuel Browning   \n",
       "1  gp:AOqpTOHRIrLZouxJUYlzzvF_gaYfz3E9Ur1SPN6Ca3e...     MrGeorgeZilla   \n",
       "2  gp:AOqpTOFxHv0yKK-LmR8umPmUg7XF-1DpUqDtE9Daoxr...           Sindig0   \n",
       "3  gp:AOqpTOHx5BWQnRgovQqLmFLccQ3aUDi9MV8Yed0lrr0...           tomousi   \n",
       "4  gp:AOqpTOGuaxsgbPeBqAu7r5YpKr2Jvh2PWbkpRn4VIeZ...  Cynthia McGarvie   \n",
       "\n",
       "                                           userImage  \\\n",
       "0  https://play-lh.googleusercontent.com/a-/AOh14...   \n",
       "1  https://play-lh.googleusercontent.com/a-/AOh14...   \n",
       "2  https://play-lh.googleusercontent.com/a-/AOh14...   \n",
       "3  https://play-lh.googleusercontent.com/-f1wMrWn...   \n",
       "4  https://play-lh.googleusercontent.com/a-/AOh14...   \n",
       "\n",
       "                                             content  score  thumbsUpCount  \\\n",
       "0  It is a very fun game, highly addicting. My bi...      3           1424   \n",
       "1  Definitely pay to play. Sure you can go f2p bu...      1            926   \n",
       "2  Remember when games were fun? This game has se...      2            639   \n",
       "3  Well this is a good game that requires a LOT o...      3            862   \n",
       "4  Fact: Apart from the reality that you need to ...      3            413   \n",
       "\n",
       "  reviewCreatedVersion                   at  \\\n",
       "0                 2.37  2021-01-06 23:52:37   \n",
       "1                 2.34  2020-12-29 01:38:45   \n",
       "2                 2.34  2020-12-25 08:00:31   \n",
       "3                 2.34  2020-12-25 14:54:41   \n",
       "4                 2.36  2021-01-06 22:00:17   \n",
       "\n",
       "                                        replyContent            repliedAt  \\\n",
       "0  Thank you for supporting Lords Mobile and bein...  2021-01-07 11:23:46   \n",
       "1  We appreciate your feedback. Lords Mobile valu...  2020-12-28 16:54:58   \n",
       "2  We are sorry to hear about your disappointment...  2020-12-25 17:08:00   \n",
       "3  We appreciate your feedback. Lords Mobile valu...  2020-12-26 13:29:51   \n",
       "4  We appreciate your feedback. Lords Mobile valu...  2020-12-11 17:48:28   \n",
       "\n",
       "                         appId  \n",
       "0  com.igg.android.lordsmobile  \n",
       "1  com.igg.android.lordsmobile  \n",
       "2  com.igg.android.lordsmobile  \n",
       "3  com.igg.android.lordsmobile  \n",
       "4  com.igg.android.lordsmobile  "
      ],
      "text/html": "<div>\n<style scoped>\n    .dataframe tbody tr th:only-of-type {\n        vertical-align: middle;\n    }\n\n    .dataframe tbody tr th {\n        vertical-align: top;\n    }\n\n    .dataframe thead th {\n        text-align: right;\n    }\n</style>\n<table border=\"1\" class=\"dataframe\">\n  <thead>\n    <tr style=\"text-align: right;\">\n      <th></th>\n      <th>reviewId</th>\n      <th>userName</th>\n      <th>userImage</th>\n      <th>content</th>\n      <th>score</th>\n      <th>thumbsUpCount</th>\n      <th>reviewCreatedVersion</th>\n      <th>at</th>\n      <th>replyContent</th>\n      <th>repliedAt</th>\n      <th>appId</th>\n    </tr>\n  </thead>\n  <tbody>\n    <tr>\n      <td>0</td>\n      <td>gp:AOqpTOGmMeMhlqnavKZjckcgTjq8qvlaJ81u8fB77ae...</td>\n      <td>Samuel Browning</td>\n      <td>https://play-lh.googleusercontent.com/a-/AOh14...</td>\n      <td>It is a very fun game, highly addicting. My bi...</td>\n      <td>3</td>\n      <td>1424</td>\n      <td>2.37</td>\n      <td>2021-01-06 23:52:37</td>\n      <td>Thank you for supporting Lords Mobile and bein...</td>\n      <td>2021-01-07 11:23:46</td>\n      <td>com.igg.android.lordsmobile</td>\n    </tr>\n    <tr>\n      <td>1</td>\n      <td>gp:AOqpTOHRIrLZouxJUYlzzvF_gaYfz3E9Ur1SPN6Ca3e...</td>\n      <td>MrGeorgeZilla</td>\n      <td>https://play-lh.googleusercontent.com/a-/AOh14...</td>\n      <td>Definitely pay to play. Sure you can go f2p bu...</td>\n      <td>1</td>\n      <td>926</td>\n      <td>2.34</td>\n      <td>2020-12-29 01:38:45</td>\n      <td>We appreciate your feedback. Lords Mobile valu...</td>\n      <td>2020-12-28 16:54:58</td>\n      <td>com.igg.android.lordsmobile</td>\n    </tr>\n    <tr>\n      <td>2</td>\n      <td>gp:AOqpTOFxHv0yKK-LmR8umPmUg7XF-1DpUqDtE9Daoxr...</td>\n      <td>Sindig0</td>\n      <td>https://play-lh.googleusercontent.com/a-/AOh14...</td>\n      <td>Remember when games were fun? This game has se...</td>\n      <td>2</td>\n      <td>639</td>\n      <td>2.34</td>\n      <td>2020-12-25 08:00:31</td>\n      <td>We are sorry to hear about your disappointment...</td>\n      <td>2020-12-25 17:08:00</td>\n      <td>com.igg.android.lordsmobile</td>\n    </tr>\n    <tr>\n      <td>3</td>\n      <td>gp:AOqpTOHx5BWQnRgovQqLmFLccQ3aUDi9MV8Yed0lrr0...</td>\n      <td>tomousi</td>\n      <td>https://play-lh.googleusercontent.com/-f1wMrWn...</td>\n      <td>Well this is a good game that requires a LOT o...</td>\n      <td>3</td>\n      <td>862</td>\n      <td>2.34</td>\n      <td>2020-12-25 14:54:41</td>\n      <td>We appreciate your feedback. Lords Mobile valu...</td>\n      <td>2020-12-26 13:29:51</td>\n      <td>com.igg.android.lordsmobile</td>\n    </tr>\n    <tr>\n      <td>4</td>\n      <td>gp:AOqpTOGuaxsgbPeBqAu7r5YpKr2Jvh2PWbkpRn4VIeZ...</td>\n      <td>Cynthia McGarvie</td>\n      <td>https://play-lh.googleusercontent.com/a-/AOh14...</td>\n      <td>Fact: Apart from the reality that you need to ...</td>\n      <td>3</td>\n      <td>413</td>\n      <td>2.36</td>\n      <td>2021-01-06 22:00:17</td>\n      <td>We appreciate your feedback. Lords Mobile valu...</td>\n      <td>2020-12-11 17:48:28</td>\n      <td>com.igg.android.lordsmobile</td>\n    </tr>\n  </tbody>\n</table>\n</div>"
     },
     "metadata": {},
     "execution_count": 30
    }
   ],
   "source": [
    "reviews.head()"
   ]
  },
  {
   "cell_type": "code",
   "execution_count": 16,
   "metadata": {},
   "outputs": [
    {
     "output_type": "execute_result",
     "data": {
      "text/plain": [
       "10837"
      ]
     },
     "metadata": {},
     "execution_count": 16
    }
   ],
   "source": [
    "len(reviews['userName'].unique())"
   ]
  },
  {
   "cell_type": "code",
   "execution_count": 18,
   "metadata": {},
   "outputs": [],
   "source": [
    "d = reviews.duplicated(subset=['userName'], keep='first')\n",
    "tmp = reviews[d]"
   ]
  },
  {
   "cell_type": "code",
   "execution_count": 22,
   "metadata": {},
   "outputs": [
    {
     "output_type": "execute_result",
     "data": {
      "text/plain": [
       "54"
      ]
     },
     "metadata": {},
     "execution_count": 22
    }
   ],
   "source": [
    "len(tmp[tmp['userName'] != 'A Google user'])"
   ]
  },
  {
   "cell_type": "code",
   "execution_count": 19,
   "metadata": {},
   "outputs": [
    {
     "output_type": "execute_result",
     "data": {
      "text/plain": [
       "                                              reviewId userName  \\\n",
       "908  gp:AOqpTOE5IklPJTPhVHRAYSGf_G2CjTlNAjm7RO3giGR...      A T   \n",
       "\n",
       "                                             userImage  \\\n",
       "908  https://play-lh.googleusercontent.com/a-/AOh14...   \n",
       "\n",
       "                                               content  score  thumbsUpCount  \\\n",
       "908  Fun but... At some point you find it hard to p...      5              0   \n",
       "\n",
       "    reviewCreatedVersion                   at replyContent repliedAt  \n",
       "908               1.25.2  2020-09-13 00:40:09         None      None  "
      ],
      "text/html": "<div>\n<style scoped>\n    .dataframe tbody tr th:only-of-type {\n        vertical-align: middle;\n    }\n\n    .dataframe tbody tr th {\n        vertical-align: top;\n    }\n\n    .dataframe thead th {\n        text-align: right;\n    }\n</style>\n<table border=\"1\" class=\"dataframe\">\n  <thead>\n    <tr style=\"text-align: right;\">\n      <th></th>\n      <th>reviewId</th>\n      <th>userName</th>\n      <th>userImage</th>\n      <th>content</th>\n      <th>score</th>\n      <th>thumbsUpCount</th>\n      <th>reviewCreatedVersion</th>\n      <th>at</th>\n      <th>replyContent</th>\n      <th>repliedAt</th>\n    </tr>\n  </thead>\n  <tbody>\n    <tr>\n      <td>908</td>\n      <td>gp:AOqpTOE5IklPJTPhVHRAYSGf_G2CjTlNAjm7RO3giGR...</td>\n      <td>A T</td>\n      <td>https://play-lh.googleusercontent.com/a-/AOh14...</td>\n      <td>Fun but... At some point you find it hard to p...</td>\n      <td>5</td>\n      <td>0</td>\n      <td>1.25.2</td>\n      <td>2020-09-13 00:40:09</td>\n      <td>None</td>\n      <td>None</td>\n    </tr>\n  </tbody>\n</table>\n</div>"
     },
     "metadata": {},
     "execution_count": 19
    }
   ],
   "source": [
    "tmp[tmp['userName'] == 'A T']"
   ]
  },
  {
   "cell_type": "code",
   "execution_count": null,
   "metadata": {},
   "outputs": [],
   "source": []
  }
 ]
}